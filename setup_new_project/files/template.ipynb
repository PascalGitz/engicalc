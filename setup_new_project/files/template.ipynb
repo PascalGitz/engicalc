{
 "cells": [
  {
   "cell_type": "raw",
   "id": "ad714463",
   "metadata": {
    "vscode": {
     "languageId": "raw"
    }
   },
   "source": [
    "---\n",
    "title: \"Dokumenttitel\"\n",
    "format:\n",
    "  docx: \n",
    "    toc: false\n",
    "    number-sections: false\n",
    "    highlight-style: github\n",
    "    reference-doc: ../setup/Vorlage_Python_Export.docx\n",
    "    execute:\n",
    "      echo: false\n",
    "      warning: false\n",
    "jupyter: python3\n",
    "---"
   ]
  },
  {
   "cell_type": "code",
   "execution_count": 1,
   "id": "eba5f953",
   "metadata": {},
   "outputs": [],
   "source": [
    "from engicalc.materials import Beton\n",
    "from engicalc import concrete as ecc\n",
    "from engicalc import put_out\n",
    "from engicalc.units import ureg, kg, t, mm, cm, dm, m, km, N, kN, MN, rad, deg, percent, s, MPa, los, K\n",
    "\n",
    "from numpy import sqrt, pi, tan, arctan, cos, arccos, sin, arcsin\n",
    "\n",
    "import pandas as pd\n",
    "\n",
    "from IPython.display import Markdown, display "
   ]
  },
  {
   "cell_type": "markdown",
   "id": "7b77d4df",
   "metadata": {},
   "source": [
    "# Titel"
   ]
  },
  {
   "cell_type": "code",
   "execution_count": 2,
   "id": "9531d3ae",
   "metadata": {},
   "outputs": [
    {
     "data": {
      "text/markdown": [
       "$$\n",
       "\\begin{aligned}\n",
       "a& = 38 \\quad & b& = 4 \\quad &  \n",
       " \\end{aligned}\n",
       "$$"
      ],
      "text/plain": [
       "<IPython.core.display.Markdown object>"
      ]
     },
     "metadata": {},
     "output_type": "display_data"
    }
   ],
   "source": [
    "a = 38\n",
    "b = 4\n",
    "\n",
    "put_out()"
   ]
  },
  {
   "cell_type": "markdown",
   "id": "45d6d222",
   "metadata": {},
   "source": [
    "## Untertitel"
   ]
  },
  {
   "cell_type": "code",
   "execution_count": 3,
   "id": "29eab8bc",
   "metadata": {},
   "outputs": [
    {
     "data": {
      "text/markdown": [
       "$$\n",
       "\\begin{aligned}\n",
       "c& = a + b = 42 \\quad &  \\quad &  \n",
       " \\end{aligned}\n",
       "$$"
      ],
      "text/plain": [
       "<IPython.core.display.Markdown object>"
      ]
     },
     "metadata": {},
     "output_type": "display_data"
    }
   ],
   "source": [
    "c = a + b\n",
    "put_out(symbolic=True)"
   ]
  },
  {
   "cell_type": "markdown",
   "id": "90a964a8",
   "metadata": {},
   "source": [
    "### Untertitel"
   ]
  },
  {
   "cell_type": "code",
   "execution_count": 4,
   "id": "4394aeb3",
   "metadata": {},
   "outputs": [
    {
     "data": {
      "text/markdown": [
       "Die Antowrt auf alle Fragen beträgt $42$."
      ],
      "text/plain": [
       "<IPython.core.display.Markdown object>"
      ]
     },
     "metadata": {},
     "output_type": "display_data"
    }
   ],
   "source": [
    "display(Markdown(f\"\"\"Die Antowrt auf alle Fragen beträgt ${c}$.\"\"\"))"
   ]
  },
  {
   "cell_type": "markdown",
   "id": "988befa8",
   "metadata": {},
   "source": [
    "![Das ist die Bildunterschrift](./Abbildungen/Bild_01.jpg){#fig-referenzwort}"
   ]
  },
  {
   "cell_type": "code",
   "execution_count": 5,
   "id": "abe0b890",
   "metadata": {},
   "outputs": [
    {
     "data": {
      "text/markdown": [
       "Das Resultat beträgt $42$. Das ist auch in @fig-referenzwort ersichtlich."
      ],
      "text/plain": [
       "<IPython.core.display.Markdown object>"
      ]
     },
     "metadata": {},
     "output_type": "display_data"
    }
   ],
   "source": [
    "display(Markdown(f\"\"\"Das Resultat beträgt ${c}$. Das ist auch in @fig-referenzwort ersichtlich.\"\"\"))"
   ]
  },
  {
   "cell_type": "markdown",
   "id": "4d078835",
   "metadata": {},
   "source": [
    "Wie in Abbildung @fig-referenzwort gezeigt: XYZ!"
   ]
  }
 ],
 "metadata": {
  "kernelspec": {
   "display_name": "engineering",
   "language": "python",
   "name": "python3"
  },
  "language_info": {
   "codemirror_mode": {
    "name": "ipython",
    "version": 3
   },
   "file_extension": ".py",
   "mimetype": "text/x-python",
   "name": "python",
   "nbconvert_exporter": "python",
   "pygments_lexer": "ipython3",
   "version": "3.12.4"
  }
 },
 "nbformat": 4,
 "nbformat_minor": 5
}
