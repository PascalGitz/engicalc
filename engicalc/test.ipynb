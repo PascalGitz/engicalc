{
 "cells": [
  {
   "cell_type": "code",
   "execution_count": 1,
   "id": "f6691e65",
   "metadata": {},
   "outputs": [],
   "source": [
    "from parsing import parse, cell_content\n",
    "from sympify import do_sympify\n",
    "from numeric import *\n"
   ]
  },
  {
   "cell_type": "code",
   "execution_count": 2,
   "id": "fd6fba7c",
   "metadata": {},
   "outputs": [
    {
     "name": "stdout",
     "output_type": "stream",
     "text": [
      "{'__name__': '__main__', '__doc__': 'Automatically created module for IPython interactive environment', '__package__': None, '__loader__': None, '__spec__': None, '__builtin__': <module 'builtins' (built-in)>, '__builtins__': <module 'builtins' (built-in)>, '_ih': ['', 'from parsing import parse, cell_content\\nfrom sympify import do_sympify\\nfrom numeric import *', 'var_test = 10\\ncondition_test = True\\nassign_test = var_test + 10\\n\\nprint(globals())\\ndef f_c(k_c, gamma_c):\\n    return k_c * gamma_c * 20 \\n\\ndef test_func2():\\n    assign_test2 = var_test + 34\\n    return assign_test2 \\n\\n# this is a comment\\ndef test_func3(a):\\n    assign_test2 = var_test + 34*a\\n\\n    return assign_test2 \\n\\nif condition_test >= 1:\\n    if condition_test < 10:\\n        assign_test3 = var_test + 30\\n\\n    elif condition_test <= 1000:\\n        assign_test3 = var_test + 40\\n    else:\\n        assign_test3 = var_test + 20\\nelse:\\n    assign_test3 = var_test + 50\\n\\n\\nx = f_c(2, 3)\\n\\ncontent = cell_content()'], '_oh': {}, '_dh': [WindowsPath('c:/Users/pasca/Documents/GitHub/engicalc/engicalc')], 'In': ['', 'from parsing import parse, cell_content\\nfrom sympify import do_sympify\\nfrom numeric import *', 'var_test = 10\\ncondition_test = True\\nassign_test = var_test + 10\\n\\nprint(globals())\\ndef f_c(k_c, gamma_c):\\n    return k_c * gamma_c * 20 \\n\\ndef test_func2():\\n    assign_test2 = var_test + 34\\n    return assign_test2 \\n\\n# this is a comment\\ndef test_func3(a):\\n    assign_test2 = var_test + 34*a\\n\\n    return assign_test2 \\n\\nif condition_test >= 1:\\n    if condition_test < 10:\\n        assign_test3 = var_test + 30\\n\\n    elif condition_test <= 1000:\\n        assign_test3 = var_test + 40\\n    else:\\n        assign_test3 = var_test + 20\\nelse:\\n    assign_test3 = var_test + 50\\n\\n\\nx = f_c(2, 3)\\n\\ncontent = cell_content()'], 'Out': {}, 'get_ipython': <function get_ipython at 0x0000020F85288040>, 'exit': <IPython.core.autocall.ZMQExitAutocall object at 0x0000020F87A44AD0>, 'quit': <IPython.core.autocall.ZMQExitAutocall object at 0x0000020F87A44AD0>, 'open': <function open at 0x0000020F857068E0>, '_': '', '__': '', '___': '', '__vsc_ipynb_file__': 'c:\\\\Users\\\\pasca\\\\Documents\\\\GitHub\\\\engicalc\\\\engicalc\\\\test.ipynb', '_i': 'from parsing import parse, cell_content\\nfrom sympify import do_sympify\\nfrom numeric import *', '_ii': '', '_iii': '', '_i1': 'from parsing import parse, cell_content\\nfrom sympify import do_sympify\\nfrom numeric import *', 'parse': <function parse at 0x0000020F87CDAFC0>, 'cell_content': <function cell_content at 0x0000020F87CDB100>, 'do_sympify': <function do_sympify at 0x0000020F88F29620>, 'numeric_value': <function numeric_value at 0x0000020F88F29760>, '_i2': 'var_test = 10\\ncondition_test = True\\nassign_test = var_test + 10\\n\\nprint(globals())\\ndef f_c(k_c, gamma_c):\\n    return k_c * gamma_c * 20 \\n\\ndef test_func2():\\n    assign_test2 = var_test + 34\\n    return assign_test2 \\n\\n# this is a comment\\ndef test_func3(a):\\n    assign_test2 = var_test + 34*a\\n    \\n    return assign_test2 \\n\\nif condition_test >= 1:\\n    if condition_test < 10:\\n        assign_test3 = var_test + 30\\n\\n    elif condition_test <= 1000:\\n        assign_test3 = var_test + 40\\n    else:\\n        assign_test3 = var_test + 20\\nelse:\\n    assign_test3 = var_test + 50\\n\\n\\nx = f_c(2, 3)\\n\\ncontent = cell_content()', 'var_test': 10, 'condition_test': True, 'assign_test': 20}\n"
     ]
    }
   ],
   "source": [
    "var_test = 10\n",
    "condition_test = True\n",
    "assign_test = var_test + 10\n",
    "\n",
    "print(globals())\n",
    "def f_c(k_c, gamma_c):\n",
    "    return k_c * gamma_c * 20 \n",
    "\n",
    "def test_func2():\n",
    "    assign_test2 = var_test + 34\n",
    "    return assign_test2 \n",
    "\n",
    "# this is a comment\n",
    "def test_func3(a):\n",
    "    assign_test2 = var_test + 34*a\n",
    "    \n",
    "    return assign_test2 \n",
    "\n",
    "if condition_test >= 1:\n",
    "    if condition_test < 10:\n",
    "        assign_test3 = var_test + 30\n",
    "\n",
    "    elif condition_test <= 1000:\n",
    "        assign_test3 = var_test + 40\n",
    "    else:\n",
    "        assign_test3 = var_test + 20\n",
    "else:\n",
    "    assign_test3 = var_test + 50\n",
    "\n",
    "\n",
    "x = f_c(2, 3)\n",
    "\n",
    "content = cell_content()"
   ]
  },
  {
   "cell_type": "code",
   "execution_count": 3,
   "id": "31fb92de",
   "metadata": {},
   "outputs": [
    {
     "data": {
      "text/plain": [
       "('assignment', 'assign_test = var_test + 10')"
      ]
     },
     "execution_count": 3,
     "metadata": {},
     "output_type": "execute_result"
    }
   ],
   "source": [
    "parse(content)[2]"
   ]
  },
  {
   "cell_type": "code",
   "execution_count": 4,
   "id": "9d5420bc",
   "metadata": {},
   "outputs": [
    {
     "data": {
      "text/plain": [
       "('assignment', 'assign_test = var_test + 10')"
      ]
     },
     "execution_count": 4,
     "metadata": {},
     "output_type": "execute_result"
    }
   ],
   "source": [
    "parse(content)[2]"
   ]
  },
  {
   "cell_type": "code",
   "execution_count": 5,
   "id": "85a38874",
   "metadata": {},
   "outputs": [
    {
     "data": {
      "text/plain": [
       "20"
      ]
     },
     "execution_count": 5,
     "metadata": {},
     "output_type": "execute_result"
    }
   ],
   "source": [
    "numeric_value(parse(content)[2])"
   ]
  },
  {
   "cell_type": "code",
   "execution_count": 6,
   "id": "c9b6eb82",
   "metadata": {},
   "outputs": [],
   "source": [
    "from IPython.display import display, Markdown\n",
    "from sympy import latex"
   ]
  },
  {
   "cell_type": "code",
   "execution_count": 7,
   "id": "8cb1d2ba",
   "metadata": {},
   "outputs": [
    {
     "data": {
      "text/markdown": [
       "$\\left( var_{test}, \\  10\\right)$"
      ],
      "text/plain": [
       "<IPython.core.display.Markdown object>"
      ]
     },
     "metadata": {},
     "output_type": "display_data"
    },
    {
     "data": {
      "text/markdown": [
       "$\\left( condition_{test}, \\  \\text{True}\\right)$"
      ],
      "text/plain": [
       "<IPython.core.display.Markdown object>"
      ]
     },
     "metadata": {},
     "output_type": "display_data"
    },
    {
     "data": {
      "text/markdown": [
       "$\\left( assign_{test}, \\  var_{test} + 10\\right)$"
      ],
      "text/plain": [
       "<IPython.core.display.Markdown object>"
      ]
     },
     "metadata": {},
     "output_type": "display_data"
    },
    {
     "data": {
      "text/markdown": [
       "$\\left( assign_{test}, \\  var_{test} + 10\\right)$"
      ],
      "text/plain": [
       "<IPython.core.display.Markdown object>"
      ]
     },
     "metadata": {},
     "output_type": "display_data"
    },
    {
     "data": {
      "text/markdown": [
       "$\\left( f_{c}{\\left(k_{c},\\gamma_{c} \\right)}, \\  20 \\gamma_{c} k_{c}\\right)$"
      ],
      "text/plain": [
       "<IPython.core.display.Markdown object>"
      ]
     },
     "metadata": {},
     "output_type": "display_data"
    },
    {
     "data": {
      "text/markdown": [
       "$\\left( \\operatorname{test}_{func2}{\\left( \\right)}, \\  assign_{test2}\\right)$"
      ],
      "text/plain": [
       "<IPython.core.display.Markdown object>"
      ]
     },
     "metadata": {},
     "output_type": "display_data"
    },
    {
     "data": {
      "text/markdown": [
       "$\\left( assign_{test2}, \\  var_{test} + 34\\right)$"
      ],
      "text/plain": [
       "<IPython.core.display.Markdown object>"
      ]
     },
     "metadata": {},
     "output_type": "display_data"
    },
    {
     "data": {
      "text/markdown": [
       "$\\left( \\operatorname{test}_{func3}{\\left(a \\right)}, \\  assign_{test2}\\right)$"
      ],
      "text/plain": [
       "<IPython.core.display.Markdown object>"
      ]
     },
     "metadata": {},
     "output_type": "display_data"
    },
    {
     "data": {
      "text/markdown": [
       "$\\left( assign_{test2}, \\  34 a + var_{test}\\right)$"
      ],
      "text/plain": [
       "<IPython.core.display.Markdown object>"
      ]
     },
     "metadata": {},
     "output_type": "display_data"
    },
    {
     "data": {
      "text/markdown": [
       "$\\begin{cases} \\begin{cases} \\left( assign_{test3}, \\  var_{test} + 30\\right) & \\text{for}\\: condition_{test} < 10 \\\\\\left( assign_{test3}, \\  var_{test} + 40\\right) & \\text{for}\\: condition_{test} \\leq 1000 \\\\\\left( assign_{test3}, \\  var_{test} + 20\\right) & \\text{otherwise} \\end{cases} & \\text{for}\\: condition_{test} \\geq 1 \\\\\\left( assign_{test3}, \\  var_{test} + 50\\right) & \\text{otherwise} \\end{cases}$"
      ],
      "text/plain": [
       "<IPython.core.display.Markdown object>"
      ]
     },
     "metadata": {},
     "output_type": "display_data"
    },
    {
     "data": {
      "text/markdown": [
       "$\\left( x, \\  f_{c}{\\left(2,3 \\right)}\\right)$"
      ],
      "text/plain": [
       "<IPython.core.display.Markdown object>"
      ]
     },
     "metadata": {},
     "output_type": "display_data"
    }
   ],
   "source": [
    "for entry in do_sympify(parse(content)[:-1]):\n",
    "    display(Markdown(F\"${latex(entry)}$\"))"
   ]
  }
 ],
 "metadata": {
  "kernelspec": {
   "display_name": "engineering",
   "language": "python",
   "name": "python3"
  },
  "language_info": {
   "codemirror_mode": {
    "name": "ipython",
    "version": 3
   },
   "file_extension": ".py",
   "mimetype": "text/x-python",
   "name": "python",
   "nbconvert_exporter": "python",
   "pygments_lexer": "ipython3",
   "version": "3.13.2"
  }
 },
 "nbformat": 4,
 "nbformat_minor": 5
}
