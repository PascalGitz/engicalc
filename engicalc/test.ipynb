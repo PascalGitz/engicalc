{
 "cells": [
  {
   "cell_type": "code",
   "execution_count": 1,
   "id": "f6691e65",
   "metadata": {},
   "outputs": [],
   "source": [
    "import sympy as sp\n",
    "from parsing import parse, cell_content"
   ]
  },
  {
   "cell_type": "code",
   "execution_count": 2,
   "id": "26099793",
   "metadata": {},
   "outputs": [
    {
     "data": {
      "text/latex": [
       "$\\displaystyle assign_{test3} = var_{test} + 50$"
      ],
      "text/plain": [
       "Eq(assign_test3, var_test + 50)"
      ]
     },
     "execution_count": 2,
     "metadata": {},
     "output_type": "execute_result"
    }
   ],
   "source": [
    "sp.Eq(sp.sympify('assign_test3'), sp.sympify('var_test + 50'))"
   ]
  },
  {
   "cell_type": "code",
   "execution_count": 3,
   "id": "a6e94fca",
   "metadata": {},
   "outputs": [],
   "source": [
    "var_test = 10"
   ]
  },
  {
   "cell_type": "code",
   "execution_count": 4,
   "id": "fd6fba7c",
   "metadata": {},
   "outputs": [],
   "source": [
    "var_test\n",
    "condition_test = True\n",
    "assign_test = var_test + 10\n",
    "\n",
    "def test_func():\n",
    "    assign_test2 = var_test + 20\n",
    "    return assign_test2 \n",
    "\n",
    "def test_func2():\n",
    "    assign_test2 = var_test + 34\n",
    "    return assign_test2 \n",
    "\n",
    "# this is a comment\n",
    "def test_func3(a):\n",
    "    assign_test2 = var_test + 34*a\n",
    "    \n",
    "    return assign_test2 \n",
    "\n",
    "if condition_test == True:\n",
    "    assign_test3 = var_test + 30\n",
    "\n",
    "elif condition_test == False:\n",
    "    assign_test3 = var_test + 40\n",
    "\n",
    "else:\n",
    "    assign_test3 = var_test + 50\n",
    "\n",
    "x = test_func3(4)\n",
    "\n",
    "content = cell_content()"
   ]
  },
  {
   "cell_type": "code",
   "execution_count": 5,
   "id": "8cb1d2ba",
   "metadata": {},
   "outputs": [
    {
     "data": {
      "text/plain": [
       "[('name', 'var_test'),\n",
       " ('assignment', 'condition_test = True'),\n",
       " ('assignment', 'assign_test = var_test + 10'),\n",
       " ('function',\n",
       "  'def test_func():\\n    assign_test2 = var_test + 20\\n    return assign_test2 '),\n",
       " ('function',\n",
       "  'def test_func2():\\n    assign_test2 = var_test + 34\\n    return assign_test2 '),\n",
       " ('function',\n",
       "  'def test_func3(a):\\n    assign_test2 = var_test + 34*a\\n    \\n    return assign_test2 '),\n",
       " ('conditional',\n",
       "  'if condition_test == True:\\n    assign_test3 = var_test + 30\\n\\nelif condition_test == False:\\n    assign_test3 = var_test + 40\\n\\nelse:\\n    assign_test3 = var_test + 50'),\n",
       " ('assignment', 'x = test_func3(4)'),\n",
       " ('assignment', 'content = cell_content()')]"
      ]
     },
     "execution_count": 5,
     "metadata": {},
     "output_type": "execute_result"
    }
   ],
   "source": [
    "parse(content)"
   ]
  },
  {
   "cell_type": "code",
   "execution_count": 8,
   "id": "5beae434",
   "metadata": {},
   "outputs": [],
   "source": [
    "var_test + 10 * test_func3(3)\n",
    "content = cell_content()\n"
   ]
  },
  {
   "cell_type": "code",
   "execution_count": 9,
   "id": "3deae897",
   "metadata": {},
   "outputs": [
    {
     "data": {
      "text/plain": [
       "[('expr', 'var_test + 10 * test_func3(3)'),\n",
       " ('assignment', 'content = cell_content()')]"
      ]
     },
     "execution_count": 9,
     "metadata": {},
     "output_type": "execute_result"
    }
   ],
   "source": [
    "parse(content)"
   ]
  },
  {
   "cell_type": "code",
   "execution_count": null,
   "id": "068d0668",
   "metadata": {},
   "outputs": [],
   "source": []
  }
 ],
 "metadata": {
  "kernelspec": {
   "display_name": "engineering",
   "language": "python",
   "name": "python3"
  },
  "language_info": {
   "codemirror_mode": {
    "name": "ipython",
    "version": 3
   },
   "file_extension": ".py",
   "mimetype": "text/x-python",
   "name": "python",
   "nbconvert_exporter": "python",
   "pygments_lexer": "ipython3",
   "version": "3.10.16"
  }
 },
 "nbformat": 4,
 "nbformat_minor": 5
}
