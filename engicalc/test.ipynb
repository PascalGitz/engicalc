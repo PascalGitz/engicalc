{
 "cells": [
  {
   "cell_type": "code",
   "execution_count": 1,
   "id": "664c20b9",
   "metadata": {},
   "outputs": [],
   "source": [
    "\n",
    "import numpy as np\n",
    "\n",
    "from IPython.display import display, Markdown\n",
    "\n"
   ]
  },
  {
   "cell_type": "code",
   "execution_count": 2,
   "id": "f6691e65",
   "metadata": {},
   "outputs": [],
   "source": [
    "from parsing import parse, cell_content\n",
    "from units import kN, m, deg, N"
   ]
  },
  {
   "cell_type": "code",
   "execution_count": 3,
   "id": "0ffb3dc6",
   "metadata": {},
   "outputs": [],
   "source": [
    "from subs import get_import_aliases"
   ]
  },
  {
   "cell_type": "code",
   "execution_count": 4,
   "id": "4b37b03f",
   "metadata": {},
   "outputs": [],
   "source": [
    "from function import Function"
   ]
  },
  {
   "cell_type": "code",
   "execution_count": 5,
   "id": "20a0882f",
   "metadata": {},
   "outputs": [
    {
     "data": {
      "text/markdown": [
       "$f_{c}(k_{c}, \\gamma_{c} = 50) = 10 \\cdot q \\cdot v^{2} + 20 \\cdot \\gamma_{c} \\cdot k_{c} \\cdot v\\\\\\quad k_{c} = \\begin{cases} 0 & \\text{for}\\: k_{c} \\leq 20 \\\\100 & \\text{for}\\: k_{c} \\geq 100 \\end{cases}\\\\\\quad v = \\sqrt{30}\\\\\\quad q = 30^{\\frac{v}{2}} + v \\cdot \\cos{\\left(k_{c} \\right)}\\\\\\quad c(v) = 10 \\cdot q \\cdot v^{2} + 20 \\cdot \\gamma_{c} \\cdot k_{c} \\cdot v\\\\\\quad v = \\begin{cases} 0 & \\text{for}\\: v < 0 \\\\100 & \\text{for}\\: v > 100 \\end{cases}$"
      ],
      "text/plain": [
       "<IPython.core.display.Markdown object>"
      ]
     },
     "metadata": {},
     "output_type": "display_data"
    }
   ],
   "source": [
    "def f_c(k_c, gamma_c=50):\n",
    "    if k_c <= 20:\n",
    "        k_c = 0\n",
    "    elif k_c >= 100:\n",
    "        k_c = 100\n",
    "    v = np.sqrt(30) \n",
    "    q = np.sqrt(30)**v + v *np.cos(k_c)\n",
    "    def c(v):\n",
    "        if v < 0:\n",
    "            v = 0\n",
    "        elif v > 100:\n",
    "            v = 100\n",
    "        return k_c * gamma_c * 20 * v + q * 10 * v**2\n",
    "\n",
    "\n",
    "    return k_c * gamma_c * 20*v + q * 10 * v**2\n",
    "\n",
    "\n",
    "for entry in parse(cell_content()):\n",
    "    display(Markdown(f\"${entry.latex_equation}$\"))\n"
   ]
  },
  {
   "cell_type": "code",
   "execution_count": 6,
   "id": "96374157",
   "metadata": {},
   "outputs": [],
   "source": [
    "from sympy import latex"
   ]
  },
  {
   "cell_type": "code",
   "execution_count": 7,
   "id": "91092f91",
   "metadata": {},
   "outputs": [],
   "source": [
    "from assignment import Assignment"
   ]
  },
  {
   "cell_type": "code",
   "execution_count": 8,
   "id": "853480de",
   "metadata": {},
   "outputs": [],
   "source": [
    "from markdown import Markdown_block"
   ]
  },
  {
   "cell_type": "code",
   "execution_count": 9,
   "id": "82fee560",
   "metadata": {},
   "outputs": [
    {
     "ename": "ValueError",
     "evalue": "Unknown options: {'show_expression': False}",
     "output_type": "error",
     "traceback": [
      "\u001b[1;31m---------------------------------------------------------------------------\u001b[0m",
      "\u001b[1;31mValueError\u001b[0m                                Traceback (most recent call last)",
      "\u001b[1;31mValueError\u001b[0m: Error from parse_expr with transformed code: \"Function ('Markdown_block' )(Function ('parse' )(Function ('cell_content' )()),show_expression =False )\"",
      "\nThe above exception was the direct cause of the following exception:\n",
      "\u001b[1;31mValueError\u001b[0m                                Traceback (most recent call last)",
      "Cell \u001b[1;32mIn[9], line 11\u001b[0m\n\u001b[0;32m      4\u001b[0m sum_F_x__lar \u001b[38;5;241m=\u001b[39m (np\u001b[38;5;241m.\u001b[39mabs(f_c(\u001b[38;5;241m30\u001b[39m,\u001b[38;5;241m50\u001b[39m))\u001b[38;5;241m*\u001b[39mkN)\u001b[38;5;241m.\u001b[39mto(kN)\n\u001b[0;32m      8\u001b[0m \u001b[38;5;66;03m# for entry in parse(cell_content()):\u001b[39;00m\n\u001b[0;32m      9\u001b[0m \u001b[38;5;66;03m#     display(Markdown(f\"${entry.latex_equation}$\"))\u001b[39;00m\n\u001b[1;32m---> 11\u001b[0m cell_Markdown \u001b[38;5;241m=\u001b[39m Markdown_block(\u001b[43mparse\u001b[49m\u001b[43m(\u001b[49m\u001b[43mcell_content\u001b[49m\u001b[43m(\u001b[49m\u001b[43m)\u001b[49m\u001b[43m)\u001b[49m, show_expression\u001b[38;5;241m=\u001b[39m\u001b[38;5;28;01mFalse\u001b[39;00m)\n",
      "File \u001b[1;32mc:\\Users\\Arbeit\\OneDrive - Bänziger Partner AG\\Dokumente\\GitHub\\engicalc\\engicalc\\parsing.py:30\u001b[0m, in \u001b[0;36mparse\u001b[1;34m(code)\u001b[0m\n\u001b[0;32m     28\u001b[0m     results\u001b[38;5;241m.\u001b[39mappend(Function(get_code(node, lines)))\n\u001b[0;32m     29\u001b[0m \u001b[38;5;28;01melif\u001b[39;00m \u001b[38;5;28misinstance\u001b[39m(node, ast\u001b[38;5;241m.\u001b[39mAssign):\n\u001b[1;32m---> 30\u001b[0m     results\u001b[38;5;241m.\u001b[39mappend(\u001b[43mAssignment\u001b[49m\u001b[43m(\u001b[49m\u001b[43mget_code\u001b[49m\u001b[43m(\u001b[49m\u001b[43mnode\u001b[49m\u001b[43m,\u001b[49m\u001b[43m \u001b[49m\u001b[43mlines\u001b[49m\u001b[43m)\u001b[49m\u001b[43m)\u001b[49m)\n\u001b[0;32m     31\u001b[0m \u001b[38;5;28;01melif\u001b[39;00m \u001b[38;5;28misinstance\u001b[39m(node, ast\u001b[38;5;241m.\u001b[39mIf):\n\u001b[0;32m     32\u001b[0m     results\u001b[38;5;241m.\u001b[39mappend(Conditional(get_code(node, lines)))\n",
      "File \u001b[1;32mc:\\Users\\Arbeit\\OneDrive - Bänziger Partner AG\\Dokumente\\GitHub\\engicalc\\engicalc\\assignment.py:8\u001b[0m, in \u001b[0;36mAssignment.__init__\u001b[1;34m(self, assignment_str)\u001b[0m\n\u001b[0;32m      6\u001b[0m \u001b[38;5;28mself\u001b[39m\u001b[38;5;241m.\u001b[39mname, \u001b[38;5;28mself\u001b[39m\u001b[38;5;241m.\u001b[39mexpression, \u001b[38;5;28mself\u001b[39m\u001b[38;5;241m.\u001b[39mvalue \u001b[38;5;241m=\u001b[39m split(assignment_str)\n\u001b[0;32m      7\u001b[0m \u001b[38;5;28mself\u001b[39m\u001b[38;5;241m.\u001b[39mlatex_name \u001b[38;5;241m=\u001b[39m latexify_name(\u001b[38;5;28mself\u001b[39m\u001b[38;5;241m.\u001b[39mname)\n\u001b[1;32m----> 8\u001b[0m \u001b[38;5;28mself\u001b[39m\u001b[38;5;241m.\u001b[39mlatex_expression \u001b[38;5;241m=\u001b[39m \u001b[43mlatexify_expression\u001b[49m\u001b[43m(\u001b[49m\u001b[38;5;28;43mself\u001b[39;49m\u001b[38;5;241;43m.\u001b[39;49m\u001b[43mexpression\u001b[49m\u001b[43m)\u001b[49m\n\u001b[0;32m      9\u001b[0m \u001b[38;5;28mself\u001b[39m\u001b[38;5;241m.\u001b[39mlatex_value \u001b[38;5;241m=\u001b[39m latexify_value(\u001b[38;5;28mself\u001b[39m\u001b[38;5;241m.\u001b[39mvalue)\n\u001b[0;32m     10\u001b[0m \u001b[38;5;28mself\u001b[39m\u001b[38;5;241m.\u001b[39mlatex_equation \u001b[38;5;241m=\u001b[39m \u001b[38;5;28mself\u001b[39m\u001b[38;5;241m.\u001b[39mbuild_latex_equation()\n",
      "File \u001b[1;32mc:\\Users\\Arbeit\\OneDrive - Bänziger Partner AG\\Dokumente\\GitHub\\engicalc\\engicalc\\latexit.py:16\u001b[0m, in \u001b[0;36mlatexify_expression\u001b[1;34m(expression)\u001b[0m\n\u001b[0;32m     13\u001b[0m \u001b[38;5;28;01mdef\u001b[39;00m\u001b[38;5;250m \u001b[39m\u001b[38;5;21mlatexify_expression\u001b[39m(expression):\n\u001b[0;32m     14\u001b[0m     \u001b[38;5;66;03m# Placeholder for substitution function, to be added later\u001b[39;00m\n\u001b[0;32m     15\u001b[0m     prepared \u001b[38;5;241m=\u001b[39m do_substitution(expression)  \u001b[38;5;66;03m# In the future, apply substitution(prepared)\u001b[39;00m\n\u001b[1;32m---> 16\u001b[0m     sympy_obj \u001b[38;5;241m=\u001b[39m \u001b[43msympify\u001b[49m\u001b[43m(\u001b[49m\u001b[43mprepared\u001b[49m\u001b[43m)\u001b[49m\n\u001b[0;32m     17\u001b[0m     \u001b[38;5;28;01mreturn\u001b[39;00m latex(sympy_obj, mul_symbol\u001b[38;5;241m=\u001b[39m\u001b[38;5;124m'\u001b[39m\u001b[38;5;124mdot\u001b[39m\u001b[38;5;124m'\u001b[39m, order\u001b[38;5;241m=\u001b[39m\u001b[38;5;124m'\u001b[39m\u001b[38;5;124mnone\u001b[39m\u001b[38;5;124m'\u001b[39m)\n",
      "File \u001b[1;32mc:\\Users\\Arbeit\\miniconda3\\envs\\engineering\\lib\\site-packages\\sympy\\core\\sympify.py:481\u001b[0m, in \u001b[0;36msympify\u001b[1;34m(a, locals, convert_xor, strict, rational, evaluate)\u001b[0m\n\u001b[0;32m    479\u001b[0m \u001b[38;5;28;01mtry\u001b[39;00m:\n\u001b[0;32m    480\u001b[0m     a \u001b[38;5;241m=\u001b[39m a\u001b[38;5;241m.\u001b[39mreplace(\u001b[38;5;124m'\u001b[39m\u001b[38;5;130;01m\\n\u001b[39;00m\u001b[38;5;124m'\u001b[39m, \u001b[38;5;124m'\u001b[39m\u001b[38;5;124m'\u001b[39m)\n\u001b[1;32m--> 481\u001b[0m     expr \u001b[38;5;241m=\u001b[39m \u001b[43mparse_expr\u001b[49m\u001b[43m(\u001b[49m\u001b[43ma\u001b[49m\u001b[43m,\u001b[49m\u001b[43m \u001b[49m\u001b[43mlocal_dict\u001b[49m\u001b[38;5;241;43m=\u001b[39;49m\u001b[38;5;28;43mlocals\u001b[39;49m\u001b[43m,\u001b[49m\u001b[43m \u001b[49m\u001b[43mtransformations\u001b[49m\u001b[38;5;241;43m=\u001b[39;49m\u001b[43mtransformations\u001b[49m\u001b[43m,\u001b[49m\u001b[43m \u001b[49m\u001b[43mevaluate\u001b[49m\u001b[38;5;241;43m=\u001b[39;49m\u001b[43mevaluate\u001b[49m\u001b[43m)\u001b[49m\n\u001b[0;32m    482\u001b[0m \u001b[38;5;28;01mexcept\u001b[39;00m (TokenError, \u001b[38;5;167;01mSyntaxError\u001b[39;00m) \u001b[38;5;28;01mas\u001b[39;00m exc:\n\u001b[0;32m    483\u001b[0m     \u001b[38;5;28;01mraise\u001b[39;00m SympifyError(\u001b[38;5;124m'\u001b[39m\u001b[38;5;124mcould not parse \u001b[39m\u001b[38;5;132;01m%r\u001b[39;00m\u001b[38;5;124m'\u001b[39m \u001b[38;5;241m%\u001b[39m a, exc)\n",
      "File \u001b[1;32mc:\\Users\\Arbeit\\miniconda3\\envs\\engineering\\lib\\site-packages\\sympy\\parsing\\sympy_parser.py:1090\u001b[0m, in \u001b[0;36mparse_expr\u001b[1;34m(s, local_dict, transformations, global_dict, evaluate)\u001b[0m\n\u001b[0;32m   1088\u001b[0m \u001b[38;5;28;01mfor\u001b[39;00m i \u001b[38;5;129;01min\u001b[39;00m local_dict\u001b[38;5;241m.\u001b[39mpop(null, ()):\n\u001b[0;32m   1089\u001b[0m     local_dict[i] \u001b[38;5;241m=\u001b[39m null\n\u001b[1;32m-> 1090\u001b[0m \u001b[38;5;28;01mraise\u001b[39;00m e \u001b[38;5;28;01mfrom\u001b[39;00m\u001b[38;5;250m \u001b[39m\u001b[38;5;21;01mValueError\u001b[39;00m(\u001b[38;5;124mf\u001b[39m\u001b[38;5;124m\"\u001b[39m\u001b[38;5;124mError from parse_expr with transformed code: \u001b[39m\u001b[38;5;132;01m{\u001b[39;00mcode\u001b[38;5;132;01m!r}\u001b[39;00m\u001b[38;5;124m\"\u001b[39m)\n",
      "File \u001b[1;32mc:\\Users\\Arbeit\\miniconda3\\envs\\engineering\\lib\\site-packages\\sympy\\parsing\\sympy_parser.py:1081\u001b[0m, in \u001b[0;36mparse_expr\u001b[1;34m(s, local_dict, transformations, global_dict, evaluate)\u001b[0m\n\u001b[0;32m   1078\u001b[0m     code \u001b[38;5;241m=\u001b[39m \u001b[38;5;28mcompile\u001b[39m(evaluateFalse(code), \u001b[38;5;124m'\u001b[39m\u001b[38;5;124m<string>\u001b[39m\u001b[38;5;124m'\u001b[39m, \u001b[38;5;124m'\u001b[39m\u001b[38;5;124meval\u001b[39m\u001b[38;5;124m'\u001b[39m) \u001b[38;5;66;03m# type: ignore\u001b[39;00m\n\u001b[0;32m   1080\u001b[0m \u001b[38;5;28;01mtry\u001b[39;00m:\n\u001b[1;32m-> 1081\u001b[0m     rv \u001b[38;5;241m=\u001b[39m \u001b[43meval_expr\u001b[49m\u001b[43m(\u001b[49m\u001b[43mcode\u001b[49m\u001b[43m,\u001b[49m\u001b[43m \u001b[49m\u001b[43mlocal_dict\u001b[49m\u001b[43m,\u001b[49m\u001b[43m \u001b[49m\u001b[43mglobal_dict\u001b[49m\u001b[43m)\u001b[49m\n\u001b[0;32m   1082\u001b[0m     \u001b[38;5;66;03m# restore neutral definitions for names\u001b[39;00m\n\u001b[0;32m   1083\u001b[0m     \u001b[38;5;28;01mfor\u001b[39;00m i \u001b[38;5;129;01min\u001b[39;00m local_dict\u001b[38;5;241m.\u001b[39mpop(null, ()):\n",
      "File \u001b[1;32mc:\\Users\\Arbeit\\miniconda3\\envs\\engineering\\lib\\site-packages\\sympy\\parsing\\sympy_parser.py:909\u001b[0m, in \u001b[0;36meval_expr\u001b[1;34m(code, local_dict, global_dict)\u001b[0m\n\u001b[0;32m    903\u001b[0m \u001b[38;5;28;01mdef\u001b[39;00m\u001b[38;5;250m \u001b[39m\u001b[38;5;21meval_expr\u001b[39m(code, local_dict: DICT, global_dict: DICT):\n\u001b[0;32m    904\u001b[0m \u001b[38;5;250m    \u001b[39m\u001b[38;5;124;03m\"\"\"\u001b[39;00m\n\u001b[0;32m    905\u001b[0m \u001b[38;5;124;03m    Evaluate Python code generated by ``stringify_expr``.\u001b[39;00m\n\u001b[0;32m    906\u001b[0m \n\u001b[0;32m    907\u001b[0m \u001b[38;5;124;03m    Generally, ``parse_expr`` should be used.\u001b[39;00m\n\u001b[0;32m    908\u001b[0m \u001b[38;5;124;03m    \"\"\"\u001b[39;00m\n\u001b[1;32m--> 909\u001b[0m     expr \u001b[38;5;241m=\u001b[39m \u001b[38;5;28;43meval\u001b[39;49m\u001b[43m(\u001b[49m\n\u001b[0;32m    910\u001b[0m \u001b[43m        \u001b[49m\u001b[43mcode\u001b[49m\u001b[43m,\u001b[49m\u001b[43m \u001b[49m\u001b[43mglobal_dict\u001b[49m\u001b[43m,\u001b[49m\u001b[43m \u001b[49m\u001b[43mlocal_dict\u001b[49m\u001b[43m)\u001b[49m  \u001b[38;5;66;03m# take local objects in preference\u001b[39;00m\n\u001b[0;32m    911\u001b[0m     \u001b[38;5;28;01mreturn\u001b[39;00m expr\n",
      "File \u001b[1;32m<string>:1\u001b[0m\n",
      "File \u001b[1;32mc:\\Users\\Arbeit\\miniconda3\\envs\\engineering\\lib\\site-packages\\sympy\\core\\function.py:832\u001b[0m, in \u001b[0;36mAppliedUndef.__new__\u001b[1;34m(cls, *args, **options)\u001b[0m\n\u001b[0;32m    829\u001b[0m \u001b[38;5;28;01mif\u001b[39;00m u:\n\u001b[0;32m    830\u001b[0m     \u001b[38;5;28;01mraise\u001b[39;00m \u001b[38;5;167;01mTypeError\u001b[39;00m(\u001b[38;5;124m'\u001b[39m\u001b[38;5;124mInvalid argument: expecting an expression, not UndefinedFunction\u001b[39m\u001b[38;5;132;01m%s\u001b[39;00m\u001b[38;5;124m: \u001b[39m\u001b[38;5;132;01m%s\u001b[39;00m\u001b[38;5;124m'\u001b[39m \u001b[38;5;241m%\u001b[39m (\n\u001b[0;32m    831\u001b[0m         \u001b[38;5;124m'\u001b[39m\u001b[38;5;124ms\u001b[39m\u001b[38;5;124m'\u001b[39m\u001b[38;5;241m*\u001b[39m(\u001b[38;5;28mlen\u001b[39m(u) \u001b[38;5;241m>\u001b[39m \u001b[38;5;241m1\u001b[39m), \u001b[38;5;124m'\u001b[39m\u001b[38;5;124m, \u001b[39m\u001b[38;5;124m'\u001b[39m\u001b[38;5;241m.\u001b[39mjoin(u)))\n\u001b[1;32m--> 832\u001b[0m obj \u001b[38;5;241m=\u001b[39m \u001b[38;5;28msuper\u001b[39m()\u001b[38;5;241m.\u001b[39m\u001b[38;5;21m__new__\u001b[39m(\u001b[38;5;28mcls\u001b[39m, \u001b[38;5;241m*\u001b[39margs, \u001b[38;5;241m*\u001b[39m\u001b[38;5;241m*\u001b[39moptions)\n\u001b[0;32m    833\u001b[0m \u001b[38;5;28;01mreturn\u001b[39;00m obj\n",
      "File \u001b[1;32mc:\\Users\\Arbeit\\miniconda3\\envs\\engineering\\lib\\site-packages\\sympy\\core\\cache.py:72\u001b[0m, in \u001b[0;36m__cacheit.<locals>.func_wrapper.<locals>.wrapper\u001b[1;34m(*args, **kwargs)\u001b[0m\n\u001b[0;32m     69\u001b[0m \u001b[38;5;129m@wraps\u001b[39m(func)\n\u001b[0;32m     70\u001b[0m \u001b[38;5;28;01mdef\u001b[39;00m\u001b[38;5;250m \u001b[39m\u001b[38;5;21mwrapper\u001b[39m(\u001b[38;5;241m*\u001b[39margs, \u001b[38;5;241m*\u001b[39m\u001b[38;5;241m*\u001b[39mkwargs):\n\u001b[0;32m     71\u001b[0m     \u001b[38;5;28;01mtry\u001b[39;00m:\n\u001b[1;32m---> 72\u001b[0m         retval \u001b[38;5;241m=\u001b[39m cfunc(\u001b[38;5;241m*\u001b[39margs, \u001b[38;5;241m*\u001b[39m\u001b[38;5;241m*\u001b[39mkwargs)\n\u001b[0;32m     73\u001b[0m     \u001b[38;5;28;01mexcept\u001b[39;00m \u001b[38;5;167;01mTypeError\u001b[39;00m \u001b[38;5;28;01mas\u001b[39;00m e:\n\u001b[0;32m     74\u001b[0m         \u001b[38;5;28;01mif\u001b[39;00m \u001b[38;5;129;01mnot\u001b[39;00m e\u001b[38;5;241m.\u001b[39margs \u001b[38;5;129;01mor\u001b[39;00m \u001b[38;5;129;01mnot\u001b[39;00m e\u001b[38;5;241m.\u001b[39margs[\u001b[38;5;241m0\u001b[39m]\u001b[38;5;241m.\u001b[39mstartswith(\u001b[38;5;124m'\u001b[39m\u001b[38;5;124munhashable type:\u001b[39m\u001b[38;5;124m'\u001b[39m):\n",
      "File \u001b[1;32mc:\\Users\\Arbeit\\miniconda3\\envs\\engineering\\lib\\site-packages\\sympy\\core\\function.py:466\u001b[0m, in \u001b[0;36mFunction.__new__\u001b[1;34m(cls, *args, **options)\u001b[0m\n\u001b[0;32m    458\u001b[0m     \u001b[38;5;28;01mraise\u001b[39;00m \u001b[38;5;167;01mTypeError\u001b[39;00m(temp \u001b[38;5;241m%\u001b[39m {\n\u001b[0;32m    459\u001b[0m         \u001b[38;5;124m'\u001b[39m\u001b[38;5;124mname\u001b[39m\u001b[38;5;124m'\u001b[39m: \u001b[38;5;28mcls\u001b[39m,\n\u001b[0;32m    460\u001b[0m         \u001b[38;5;124m'\u001b[39m\u001b[38;5;124mqual\u001b[39m\u001b[38;5;124m'\u001b[39m: \u001b[38;5;124m'\u001b[39m\u001b[38;5;124mexactly\u001b[39m\u001b[38;5;124m'\u001b[39m \u001b[38;5;28;01mif\u001b[39;00m \u001b[38;5;28mlen\u001b[39m(\u001b[38;5;28mcls\u001b[39m\u001b[38;5;241m.\u001b[39mnargs) \u001b[38;5;241m==\u001b[39m \u001b[38;5;241m1\u001b[39m \u001b[38;5;28;01melse\u001b[39;00m \u001b[38;5;124m'\u001b[39m\u001b[38;5;124mat least\u001b[39m\u001b[38;5;124m'\u001b[39m,\n\u001b[0;32m    461\u001b[0m         \u001b[38;5;124m'\u001b[39m\u001b[38;5;124margs\u001b[39m\u001b[38;5;124m'\u001b[39m: \u001b[38;5;28mmin\u001b[39m(\u001b[38;5;28mcls\u001b[39m\u001b[38;5;241m.\u001b[39mnargs),\n\u001b[0;32m    462\u001b[0m         \u001b[38;5;124m'\u001b[39m\u001b[38;5;124mplural\u001b[39m\u001b[38;5;124m'\u001b[39m: \u001b[38;5;124m'\u001b[39m\u001b[38;5;124ms\u001b[39m\u001b[38;5;124m'\u001b[39m\u001b[38;5;241m*\u001b[39m(\u001b[38;5;28mmin\u001b[39m(\u001b[38;5;28mcls\u001b[39m\u001b[38;5;241m.\u001b[39mnargs) \u001b[38;5;241m!=\u001b[39m \u001b[38;5;241m1\u001b[39m),\n\u001b[0;32m    463\u001b[0m         \u001b[38;5;124m'\u001b[39m\u001b[38;5;124mgiven\u001b[39m\u001b[38;5;124m'\u001b[39m: n})\n\u001b[0;32m    465\u001b[0m evaluate \u001b[38;5;241m=\u001b[39m options\u001b[38;5;241m.\u001b[39mget(\u001b[38;5;124m'\u001b[39m\u001b[38;5;124mevaluate\u001b[39m\u001b[38;5;124m'\u001b[39m, global_parameters\u001b[38;5;241m.\u001b[39mevaluate)\n\u001b[1;32m--> 466\u001b[0m result \u001b[38;5;241m=\u001b[39m \u001b[38;5;28msuper\u001b[39m()\u001b[38;5;241m.\u001b[39m\u001b[38;5;21m__new__\u001b[39m(\u001b[38;5;28mcls\u001b[39m, \u001b[38;5;241m*\u001b[39margs, \u001b[38;5;241m*\u001b[39m\u001b[38;5;241m*\u001b[39moptions)\n\u001b[0;32m    467\u001b[0m \u001b[38;5;28;01mif\u001b[39;00m evaluate \u001b[38;5;129;01mand\u001b[39;00m \u001b[38;5;28misinstance\u001b[39m(result, \u001b[38;5;28mcls\u001b[39m) \u001b[38;5;129;01mand\u001b[39;00m result\u001b[38;5;241m.\u001b[39margs:\n\u001b[0;32m    468\u001b[0m     _should_evalf \u001b[38;5;241m=\u001b[39m [\u001b[38;5;28mcls\u001b[39m\u001b[38;5;241m.\u001b[39m_should_evalf(a) \u001b[38;5;28;01mfor\u001b[39;00m a \u001b[38;5;129;01min\u001b[39;00m result\u001b[38;5;241m.\u001b[39margs]\n",
      "File \u001b[1;32mc:\\Users\\Arbeit\\miniconda3\\envs\\engineering\\lib\\site-packages\\sympy\\core\\cache.py:72\u001b[0m, in \u001b[0;36m__cacheit.<locals>.func_wrapper.<locals>.wrapper\u001b[1;34m(*args, **kwargs)\u001b[0m\n\u001b[0;32m     69\u001b[0m \u001b[38;5;129m@wraps\u001b[39m(func)\n\u001b[0;32m     70\u001b[0m \u001b[38;5;28;01mdef\u001b[39;00m\u001b[38;5;250m \u001b[39m\u001b[38;5;21mwrapper\u001b[39m(\u001b[38;5;241m*\u001b[39margs, \u001b[38;5;241m*\u001b[39m\u001b[38;5;241m*\u001b[39mkwargs):\n\u001b[0;32m     71\u001b[0m     \u001b[38;5;28;01mtry\u001b[39;00m:\n\u001b[1;32m---> 72\u001b[0m         retval \u001b[38;5;241m=\u001b[39m cfunc(\u001b[38;5;241m*\u001b[39margs, \u001b[38;5;241m*\u001b[39m\u001b[38;5;241m*\u001b[39mkwargs)\n\u001b[0;32m     73\u001b[0m     \u001b[38;5;28;01mexcept\u001b[39;00m \u001b[38;5;167;01mTypeError\u001b[39;00m \u001b[38;5;28;01mas\u001b[39;00m e:\n\u001b[0;32m     74\u001b[0m         \u001b[38;5;28;01mif\u001b[39;00m \u001b[38;5;129;01mnot\u001b[39;00m e\u001b[38;5;241m.\u001b[39margs \u001b[38;5;129;01mor\u001b[39;00m \u001b[38;5;129;01mnot\u001b[39;00m e\u001b[38;5;241m.\u001b[39margs[\u001b[38;5;241m0\u001b[39m]\u001b[38;5;241m.\u001b[39mstartswith(\u001b[38;5;124m'\u001b[39m\u001b[38;5;124munhashable type:\u001b[39m\u001b[38;5;124m'\u001b[39m):\n",
      "File \u001b[1;32mc:\\Users\\Arbeit\\miniconda3\\envs\\engineering\\lib\\site-packages\\sympy\\core\\function.py:304\u001b[0m, in \u001b[0;36mApplication.__new__\u001b[1;34m(cls, *args, **options)\u001b[0m\n\u001b[0;32m    301\u001b[0m options\u001b[38;5;241m.\u001b[39mpop(\u001b[38;5;124m'\u001b[39m\u001b[38;5;124mnargs\u001b[39m\u001b[38;5;124m'\u001b[39m, \u001b[38;5;28;01mNone\u001b[39;00m)\n\u001b[0;32m    303\u001b[0m \u001b[38;5;28;01mif\u001b[39;00m options:\n\u001b[1;32m--> 304\u001b[0m     \u001b[38;5;28;01mraise\u001b[39;00m \u001b[38;5;167;01mValueError\u001b[39;00m(\u001b[38;5;124m\"\u001b[39m\u001b[38;5;124mUnknown options: \u001b[39m\u001b[38;5;132;01m%s\u001b[39;00m\u001b[38;5;124m\"\u001b[39m \u001b[38;5;241m%\u001b[39m options)\n\u001b[0;32m    306\u001b[0m \u001b[38;5;28;01mif\u001b[39;00m evaluate:\n\u001b[0;32m    307\u001b[0m     evaluated \u001b[38;5;241m=\u001b[39m \u001b[38;5;28mcls\u001b[39m\u001b[38;5;241m.\u001b[39meval(\u001b[38;5;241m*\u001b[39margs)\n",
      "\u001b[1;31mValueError\u001b[0m: Unknown options: {'show_expression': False}"
     ]
    }
   ],
   "source": [
    "x = 30*1/kN/m\n",
    "var_test = 10 \n",
    "condition_test = 20\n",
    "sum_F_x__lar = (np.abs(f_c(30,50))*kN).to(kN)\n",
    "\n",
    "\n",
    "\n",
    "# for entry in parse(cell_content()):\n",
    "#     display(Markdown(f\"${entry.latex_equation}$\"))\n",
    "\n",
    "cell_Markdown = Markdown_block(parse(cell_content()), show_expression=False)"
   ]
  },
  {
   "cell_type": "code",
   "execution_count": null,
   "id": "b13238ce",
   "metadata": {},
   "outputs": [
    {
     "data": {
      "text/markdown": [
       "$\\begin{aligned}x = \\frac{30}{\\mathrm{kN} \\cdot \\mathrm{m}} = 30.0 \\ \\frac{1}{\\mathrm{kN} \\cdot \\mathrm{m}} \\ var_{test} = 10 = 10 \\ condition_{test} = 20 = 20 \\ \\sum^{lar}_{F x} = \\mathrm{kN} \\cdot \\left|{f_{c}{\\left(30,50 \\right)}}\\right| = 3494111.5691 \\ \\mathrm{kN} \\ cell_{Markdown} = \\operatorname{Markdown}_{block}{\\left(\\operatorname{parse}{\\left(\\operatorname{cell}_{content}{\\left( \\right)} \\right)} \\right)}\\end{aligned}$"
      ],
      "text/plain": [
       "<IPython.core.display.Markdown object>"
      ]
     },
     "metadata": {},
     "output_type": "display_data"
    }
   ],
   "source": [
    "display(Markdown(f\"${cell_Markdown.latex_aligned}$\"))"
   ]
  },
  {
   "cell_type": "code",
   "execution_count": null,
   "id": "1e8b144e",
   "metadata": {},
   "outputs": [],
   "source": []
  }
 ],
 "metadata": {
  "kernelspec": {
   "display_name": "engineering",
   "language": "python",
   "name": "python3"
  },
  "language_info": {
   "codemirror_mode": {
    "name": "ipython",
    "version": 3
   },
   "file_extension": ".py",
   "mimetype": "text/x-python",
   "name": "python",
   "nbconvert_exporter": "python",
   "pygments_lexer": "ipython3",
   "version": "3.10.16"
  }
 },
 "nbformat": 4,
 "nbformat_minor": 5
}
