{
 "cells": [
  {
   "cell_type": "code",
   "execution_count": 1,
   "id": "664c20b9",
   "metadata": {},
   "outputs": [],
   "source": [
    "from sympy.abc import x,y,z\n",
    "import pint\n",
    "import sympy as sp\n",
    "\n",
    "\n",
    "ureg = pint.UnitRegistry()\n"
   ]
  },
  {
   "cell_type": "code",
   "execution_count": 2,
   "id": "f6691e65",
   "metadata": {},
   "outputs": [],
   "source": [
    "from sympify import do_sympify\n",
    "from parsing import parse, cell_content\n",
    "from numeric import numeric_eval\n",
    "from render import render"
   ]
  },
  {
   "cell_type": "code",
   "execution_count": 3,
   "id": "fd6fba7c",
   "metadata": {},
   "outputs": [
    {
     "name": "stdout",
     "output_type": "stream",
     "text": [
      "[('assignment', 'var_test = 10 '), ('assignment', 'condition_test = 20'), ('assignment', 'assign_test = var_test + 10'), ('function', 'def f_c(k_c, gamma_c):\\n    return k_c * gamma_c * 20'), ('conditional', 'if condition_test<= 60 and condition_test > 20:\\n    assign_test4 = var_test + 60\\nelif condition_test > 30:\\n    assign_test4 = var_test + 50\\nelse:\\n    assign_test4 = var_test + 70'), ('assignment', 'x = f_c(2, 3)')]\n"
     ]
    },
    {
     "data": {
      "text/markdown": [
       "$$\\begin{aligned}var_{test} = 10 = 10.00 \\\\ condition_{test} = 20 = 20.00 \\\\ assign_{test} = var_{test} + 10 = 20.00 \\\\ f_{c}{\\left(k_{c},\\gamma_{c} \\right)} = 20 \\gamma_{c} k_{c} = None \\\\ assign_{test4} = \\begin{cases} var_{test} + 60 & \\text{for}\\: condition_{test} \\leq 60 \\wedge condition_{test} > 20 \\\\var_{test} + 50 & \\text{for}\\: condition_{test} > 30 \\\\var_{test} + 70 & \\text{otherwise} \\end{cases} = 80.00 \\\\ x = f_{c}{\\left(2,3 \\right)} = 120.00\\end{aligned}$$"
      ],
      "text/plain": [
       "<IPython.core.display.Markdown object>"
      ]
     },
     "metadata": {},
     "output_type": "display_data"
    }
   ],
   "source": [
    "\n",
    "var_test = 10 \n",
    "condition_test = 20\n",
    "assign_test = var_test + 10\n",
    "\n",
    "def f_c(k_c, gamma_c):\n",
    "    return k_c * gamma_c * 20\n",
    "\n",
    "# def test_func2():\n",
    "#     assign_test2 = var_test + 34\n",
    "#     return assign_test2\n",
    "\n",
    "# # this is a comment\n",
    "# def test_func3(a):\n",
    "#     if a < 0:\n",
    "#         assign_test2 = var_test + 34\n",
    "#     else:   \n",
    "#         assign_test2 = var_test + 34*a\n",
    "#     return assign_test2\n",
    "\n",
    "\n",
    "\n",
    "\n",
    "if condition_test<= 60 and condition_test > 20:\n",
    "    assign_test4 = var_test + 60\n",
    "elif condition_test > 30:\n",
    "    assign_test4 = var_test + 50\n",
    "else:\n",
    "    assign_test4 = var_test + 70\n",
    "\n",
    "x = f_c(2, 3)\n",
    "\n",
    "render()"
   ]
  }
 ],
 "metadata": {
  "kernelspec": {
   "display_name": "engineering",
   "language": "python",
   "name": "python3"
  },
  "language_info": {
   "codemirror_mode": {
    "name": "ipython",
    "version": 3
   },
   "file_extension": ".py",
   "mimetype": "text/x-python",
   "name": "python",
   "nbconvert_exporter": "python",
   "pygments_lexer": "ipython3",
   "version": "3.13.2"
  }
 },
 "nbformat": 4,
 "nbformat_minor": 5
}
