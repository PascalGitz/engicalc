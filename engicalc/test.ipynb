{
 "cells": [
  {
   "cell_type": "code",
   "execution_count": 1,
   "id": "664c20b9",
   "metadata": {},
   "outputs": [],
   "source": [
    "\n",
    "import numpy as np\n",
    "\n",
    "from IPython.display import display, Markdown\n",
    "\n"
   ]
  },
  {
   "cell_type": "code",
   "execution_count": 2,
   "id": "f6691e65",
   "metadata": {},
   "outputs": [
    {
     "ename": "ImportError",
     "evalue": "attempted relative import with no known parent package",
     "output_type": "error",
     "traceback": [
      "\u001b[31m---------------------------------------------------------------------------\u001b[39m",
      "\u001b[31mImportError\u001b[39m                               Traceback (most recent call last)",
      "\u001b[36mCell\u001b[39m\u001b[36m \u001b[39m\u001b[32mIn[2]\u001b[39m\u001b[32m, line 1\u001b[39m\n\u001b[32m----> \u001b[39m\u001b[32m1\u001b[39m \u001b[38;5;28;01mfrom\u001b[39;00m\u001b[38;5;250m \u001b[39m\u001b[34;01mrender\u001b[39;00m\u001b[38;5;250m \u001b[39m\u001b[38;5;28;01mimport\u001b[39;00m render\n\u001b[32m      2\u001b[39m \u001b[38;5;28;01mfrom\u001b[39;00m\u001b[38;5;250m \u001b[39m\u001b[34;01munits\u001b[39;00m\u001b[38;5;250m \u001b[39m\u001b[38;5;28;01mimport\u001b[39;00m kN, m, deg, N\n",
      "\u001b[36mFile \u001b[39m\u001b[32mc:\\Users\\pasca\\Documents\\GitHub\\engicalc\\engicalc\\render.py:2\u001b[39m\n\u001b[32m      1\u001b[39m \u001b[38;5;28;01mfrom\u001b[39;00m\u001b[38;5;250m \u001b[39m\u001b[34;01msympy\u001b[39;00m\u001b[38;5;250m \u001b[39m\u001b[38;5;28;01mimport\u001b[39;00m latex\n\u001b[32m----> \u001b[39m\u001b[32m2\u001b[39m \u001b[38;5;28;01mfrom\u001b[39;00m\u001b[38;5;250m \u001b[39m\u001b[34;01mparsing\u001b[39;00m\u001b[38;5;250m \u001b[39m\u001b[38;5;28;01mimport\u001b[39;00m parse, cell_content\n\u001b[32m      3\u001b[39m \u001b[38;5;28;01mfrom\u001b[39;00m\u001b[38;5;250m \u001b[39m\u001b[34;01msympify\u001b[39;00m\u001b[38;5;250m \u001b[39m\u001b[38;5;28;01mimport\u001b[39;00m do_sympify\n\u001b[32m      4\u001b[39m \u001b[38;5;28;01mfrom\u001b[39;00m\u001b[38;5;250m \u001b[39m\u001b[34;01mnumeric\u001b[39;00m\u001b[38;5;250m \u001b[39m\u001b[38;5;28;01mimport\u001b[39;00m numeric_eval\n",
      "\u001b[36mFile \u001b[39m\u001b[32mc:\\Users\\pasca\\Documents\\GitHub\\engicalc\\engicalc\\parsing.py:5\u001b[39m\n\u001b[32m      3\u001b[39m \u001b[38;5;28;01mfrom\u001b[39;00m\u001b[38;5;250m \u001b[39m\u001b[34;01massignment\u001b[39;00m\u001b[38;5;250m \u001b[39m\u001b[38;5;28;01mimport\u001b[39;00m Assignment\n\u001b[32m      4\u001b[39m \u001b[38;5;28;01mfrom\u001b[39;00m\u001b[38;5;250m \u001b[39m\u001b[34;01mconditional\u001b[39;00m\u001b[38;5;250m \u001b[39m\u001b[38;5;28;01mimport\u001b[39;00m Conditional \n\u001b[32m----> \u001b[39m\u001b[32m5\u001b[39m \u001b[38;5;28;01mfrom\u001b[39;00m\u001b[38;5;250m \u001b[39m\u001b[34;01mfunction\u001b[39;00m\u001b[38;5;250m \u001b[39m\u001b[38;5;28;01mimport\u001b[39;00m Function\n\u001b[32m      7\u001b[39m \u001b[38;5;28;01mdef\u001b[39;00m\u001b[38;5;250m \u001b[39m\u001b[34mget_code\u001b[39m(node, lines):\n\u001b[32m      8\u001b[39m     start = \u001b[38;5;28mgetattr\u001b[39m(node, \u001b[33m'\u001b[39m\u001b[33mlineno\u001b[39m\u001b[33m'\u001b[39m, \u001b[32m1\u001b[39m) - \u001b[32m1\u001b[39m\n",
      "\u001b[36mFile \u001b[39m\u001b[32mc:\\Users\\pasca\\Documents\\GitHub\\engicalc\\engicalc\\function.py:3\u001b[39m\n\u001b[32m      1\u001b[39m \u001b[38;5;28;01mimport\u001b[39;00m\u001b[38;5;250m \u001b[39m\u001b[34;01mast\u001b[39;00m\n\u001b[32m      2\u001b[39m \u001b[38;5;28;01mfrom\u001b[39;00m\u001b[38;5;250m \u001b[39m\u001b[34;01mlatex\u001b[39;00m\u001b[38;5;250m \u001b[39m\u001b[38;5;28;01mimport\u001b[39;00m latexify_name, latexify_expression\n\u001b[32m----> \u001b[39m\u001b[32m3\u001b[39m \u001b[38;5;28;01mfrom\u001b[39;00m\u001b[38;5;250m \u001b[39m\u001b[34;01m.\u001b[39;00m\u001b[34;01mparsing\u001b[39;00m\u001b[38;5;250m \u001b[39m\u001b[38;5;28;01mimport\u001b[39;00m parse\n\u001b[32m      5\u001b[39m \u001b[38;5;28;01mclass\u001b[39;00m\u001b[38;5;250m \u001b[39m\u001b[34;01mFunction\u001b[39;00m:\n\u001b[32m      6\u001b[39m     \u001b[38;5;28;01mdef\u001b[39;00m\u001b[38;5;250m \u001b[39m\u001b[34m__init__\u001b[39m(\u001b[38;5;28mself\u001b[39m, function_str=\u001b[38;5;28;01mNone\u001b[39;00m):\n",
      "\u001b[31mImportError\u001b[39m: attempted relative import with no known parent package"
     ]
    }
   ],
   "source": [
    "\n",
    "from render import render\n",
    "from units import kN, m, deg, N"
   ]
  },
  {
   "cell_type": "code",
   "execution_count": null,
   "id": "0ffb3dc6",
   "metadata": {},
   "outputs": [],
   "source": [
    "from subs import get_import_aliases"
   ]
  },
  {
   "cell_type": "code",
   "execution_count": null,
   "id": "4b37b03f",
   "metadata": {},
   "outputs": [],
   "source": [
    "from function import Function"
   ]
  },
  {
   "cell_type": "code",
   "execution_count": null,
   "id": "20a0882f",
   "metadata": {},
   "outputs": [
    {
     "data": {
      "text/markdown": [
       "$f_{c}$"
      ],
      "text/plain": [
       "<IPython.core.display.Markdown object>"
      ]
     },
     "metadata": {},
     "output_type": "display_data"
    }
   ],
   "source": [
    "def f_c(k_c=30, gamma_c=50):\n",
    "    v = np.sqrt(30) \n",
    "\n",
    "    return k_c * gamma_c * 20*v\n",
    "\n",
    "\n",
    "for entry in parse(cell_content()):\n",
    "    display(Markdown(f\"${entry.lateex}$\"))"
   ]
  },
  {
   "cell_type": "code",
   "execution_count": null,
   "id": "aba67c5b",
   "metadata": {},
   "outputs": [],
   "source": []
  },
  {
   "cell_type": "code",
   "execution_count": null,
   "id": "91092f91",
   "metadata": {},
   "outputs": [],
   "source": [
    "from assignment import Assignment"
   ]
  },
  {
   "cell_type": "code",
   "execution_count": null,
   "id": "82fee560",
   "metadata": {},
   "outputs": [
    {
     "name": "stderr",
     "output_type": "stream",
     "text": [
      "<string>:1: SyntaxWarning: invalid escape sequence '\\m'\n"
     ]
    },
    {
     "data": {
      "text/markdown": [
       "$var_{test} = 10 = 10$"
      ],
      "text/plain": [
       "<IPython.core.display.Markdown object>"
      ]
     },
     "metadata": {},
     "output_type": "display_data"
    },
    {
     "data": {
      "text/markdown": [
       "$condition_{test} = 20 = 20$"
      ],
      "text/plain": [
       "<IPython.core.display.Markdown object>"
      ]
     },
     "metadata": {},
     "output_type": "display_data"
    },
    {
     "data": {
      "text/markdown": [
       "$\\sum^{lar}_{F x} = \\mathrm{kN} \\cdot \\left|{f_{c}{\\left(30,50 \\right)}}\\right| = 164316767.25154984 N$"
      ],
      "text/plain": [
       "<IPython.core.display.Markdown object>"
      ]
     },
     "metadata": {},
     "output_type": "display_data"
    }
   ],
   "source": [
    "\n",
    "var_test = 10 \n",
    "condition_test = 20\n",
    "sum_F_x__lar = (np.abs(f_c(30,50))*kN).to(N)\n",
    "\n",
    "\n",
    "\n",
    "for entry in parse(cell_content()):\n",
    "    display(Markdown(f\"${entry.latex_equation}$\"))"
   ]
  },
  {
   "cell_type": "code",
   "execution_count": null,
   "id": "2a218da4",
   "metadata": {},
   "outputs": [
    {
     "ename": "NameError",
     "evalue": "name 'content' is not defined",
     "output_type": "error",
     "traceback": [
      "\u001b[31m---------------------------------------------------------------------------\u001b[39m",
      "\u001b[31mNameError\u001b[39m                                 Traceback (most recent call last)",
      "\u001b[36mCell\u001b[39m\u001b[36m \u001b[39m\u001b[32mIn[8]\u001b[39m\u001b[32m, line 1\u001b[39m\n\u001b[32m----> \u001b[39m\u001b[32m1\u001b[39m display(Markdown(parse(\u001b[43mcontent\u001b[49m)))\n",
      "\u001b[31mNameError\u001b[39m: name 'content' is not defined"
     ]
    }
   ],
   "source": [
    "display(Markdown(parse(content)))"
   ]
  },
  {
   "cell_type": "code",
   "execution_count": null,
   "id": "95f5dec1",
   "metadata": {},
   "outputs": [],
   "source": [
    "import sympy as sp"
   ]
  },
  {
   "cell_type": "code",
   "execution_count": null,
   "id": "23aefb4f",
   "metadata": {},
   "outputs": [],
   "source": [
    "# sp.sympify('Abs(f_c(30,50))*Symbol(\\mathrm{°})')"
   ]
  },
  {
   "cell_type": "code",
   "execution_count": null,
   "id": "d5948d1e",
   "metadata": {},
   "outputs": [
    {
     "name": "stdout",
     "output_type": "stream",
     "text": [
      "name: sum_diam__diam\n",
      "\n",
      "expression: (np.abs(f_c(30,50))*kN).to(N)\n",
      "\n",
      "value: 164316767.25154984 N\n",
      "\n",
      "latex_name: \\sum^{\\oslash}_{\\oslash}\n",
      "\n",
      "latex_expression: \\mathrm{kN} \\cdot \\left|{f_{c}{\\left(30,50 \\right)}}\\right|\n",
      "\n",
      "latex_value: 164316767.25154984 N\n",
      "\n",
      "latex_equation: \\sum^{\\oslash}_{\\oslash} = \\mathrm{kN} \\cdot \\left|{f_{c}{\\left(30,50 \\right)}}\\right| = 164316767.25154984 N\n",
      "\n"
     ]
    },
    {
     "name": "stderr",
     "output_type": "stream",
     "text": [
      "<string>:1: SyntaxWarning: invalid escape sequence '\\m'\n"
     ]
    }
   ],
   "source": [
    "f_c = Assignment(parsed_content[2][1])\n",
    "\n",
    "for key, value in vars(f_c).items():\n",
    "    print(f\"{key}: {value}\\n\")"
   ]
  },
  {
   "cell_type": "code",
   "execution_count": null,
   "id": "23608c9d",
   "metadata": {},
   "outputs": [],
   "source": [
    "from conditional import Conditional"
   ]
  },
  {
   "cell_type": "code",
   "execution_count": null,
   "id": "f6abab06",
   "metadata": {},
   "outputs": [],
   "source": [
    "\n",
    "if condition_test<= 60 and condition_test > 20:\n",
    "    assign_test4 = var_test + 60\n",
    "elif condition_test <= 20:\n",
    "    assign_test4 = (var_test + 50)*kN\n",
    "else:\n",
    "    assign_test4 = var_test + 70\n",
    "\n",
    "content = cell_content()\n",
    "parsed_content = parse(content)"
   ]
  },
  {
   "cell_type": "code",
   "execution_count": null,
   "id": "2ea8521d",
   "metadata": {},
   "outputs": [
    {
     "name": "stdout",
     "output_type": "stream",
     "text": [
      "name: assign_test4\n",
      "\n",
      "expression: [('condition_test <= 60 and condition_test > 20', 'var_test + 60'), ('condition_test <= 20', '(var_test + 50) * kN'), ('else', 'var_test + 70')]\n",
      "\n",
      "value: 60 kN\n",
      "\n",
      "latex_name: assign_{test4}\n",
      "\n",
      "latex_expression: \\begin{cases} 60 + var_{test} & \\text{for}\\: condition_{test} \\leq 60 \\wedge condition_{test} > 20 \\\\\\mathrm{kN} \\cdot \\left(50 + var_{test}\\right) & \\text{for}\\: condition_{test} \\leq 20 \\\\70 + var_{test} & \\text{otherwise} \\end{cases}\n",
      "\n",
      "latex_value: 60 kN\n",
      "\n"
     ]
    },
    {
     "name": "stderr",
     "output_type": "stream",
     "text": [
      "<string>:1: SyntaxWarning: invalid escape sequence '\\m'\n"
     ]
    }
   ],
   "source": [
    "Condi = Conditional(parsed_content[0][1])\n",
    "\n",
    "for key, value in vars(Condi).items():\n",
    "    print(f\"{key}: {value}\\n\")"
   ]
  },
  {
   "cell_type": "code",
   "execution_count": null,
   "id": "fd6fba7c",
   "metadata": {},
   "outputs": [],
   "source": [
    "\n",
    "# var_test = 10 \n",
    "# condition_test = 20\n",
    "# assign_test = var_test + 10\n",
    "\n",
    "# def f_c(k_c, gamma_c):\n",
    "#     return k_c * gamma_c * 20\n",
    "\n",
    "# # def test_func2():\n",
    "# #     assign_test2 = var_test + 34\n",
    "# #     return assign_test2\n",
    "\n",
    "# # # this is a comment\n",
    "# # def test_func3(a):\n",
    "# #     if a < 0:\n",
    "# #         assign_test2 = var_test + 34\n",
    "# #     else:   \n",
    "# #         assign_test2 = var_test + 34*a\n",
    "# #     return assign_test2\n",
    "\n",
    "\n",
    "\n",
    "\n",
    "# if condition_test<= 60 and condition_test > 20:\n",
    "#     assign_test4 = var_test + 60\n",
    "# elif condition_test > 30:\n",
    "#     assign_test4 = var_test + 50\n",
    "# else:\n",
    "#     assign_test4 = var_test + 70\n",
    "\n",
    "# x = f_c(2, 3)\n",
    "\n",
    "# render()"
   ]
  }
 ],
 "metadata": {
  "kernelspec": {
   "display_name": "engineering",
   "language": "python",
   "name": "python3"
  },
  "language_info": {
   "codemirror_mode": {
    "name": "ipython",
    "version": 3
   },
   "file_extension": ".py",
   "mimetype": "text/x-python",
   "name": "python",
   "nbconvert_exporter": "python",
   "pygments_lexer": "ipython3",
   "version": "3.13.2"
  }
 },
 "nbformat": 4,
 "nbformat_minor": 5
}
