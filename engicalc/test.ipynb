{
 "cells": [
  {
   "cell_type": "code",
   "execution_count": 1,
   "id": "f6691e65",
   "metadata": {},
   "outputs": [],
   "source": [
    "from sympify import do_sympify\n",
    "from parsing import parse, cell_content\n",
    "from numeric import numeric_eval"
   ]
  },
  {
   "cell_type": "code",
   "execution_count": null,
   "id": "fd6fba7c",
   "metadata": {},
   "outputs": [],
   "source": [
    "var_test = 10\n",
    "condition_test = 20\n",
    "assign_test = var_test + 10\n",
    "\n",
    "# def f_c(k_c, gamma_c):\n",
    "#     return k_c * gamma_c * 20\n",
    "\n",
    "# def test_func2():\n",
    "#     assign_test2 = var_test + 34\n",
    "#     return assign_test2\n",
    "\n",
    "# # this is a comment\n",
    "# def test_func3(a):\n",
    "#     assign_test2 = var_test + 34*a\n",
    "\n",
    "#     return assign_test2\n",
    "\n",
    "\n",
    "\n",
    "\n",
    "if condition_test<= 30:\n",
    "    assign_test4 = var_test + 60\n",
    "elif condition_test > 30 and condition_test < 50:\n",
    "    assign_test4 = var_test + 50\n",
    "else:\n",
    "    assign_test4 = var_test + 70\n",
    "# x = f_c(2, 3)\n",
    "\n",
    "content = cell_content()"
   ]
  },
  {
   "cell_type": "code",
   "execution_count": 3,
   "id": "c9b6eb82",
   "metadata": {},
   "outputs": [],
   "source": [
    "from IPython.display import display, Markdown\n"
   ]
  },
  {
   "cell_type": "code",
   "execution_count": 4,
   "id": "0c31a4e4",
   "metadata": {},
   "outputs": [
    {
     "data": {
      "text/plain": [
       "[('assignment', 'var_test = 10'),\n",
       " ('assignment', 'condition_test = 20'),\n",
       " ('assignment', 'assign_test = var_test + 10'),\n",
       " ('conditional',\n",
       "  'if condition_test<= 30:\\n    assign_test4 = var_test + 60\\nelse:\\n    assign_test4 = var_test + 70')]"
      ]
     },
     "execution_count": 4,
     "metadata": {},
     "output_type": "execute_result"
    }
   ],
   "source": [
    "parse(content)[:-1]"
   ]
  },
  {
   "cell_type": "code",
   "execution_count": 5,
   "id": "dbf45074",
   "metadata": {},
   "outputs": [
    {
     "data": {
      "text/plain": [
       "[Eq(var_test, 10),\n",
       " Eq(condition_test, 20),\n",
       " Eq(assign_test, var_test + 10),\n",
       " Eq(assign_test4, Piecewise((var_test + 60, condition_test <= 30), (var_test + 70, True)))]"
      ]
     },
     "execution_count": 5,
     "metadata": {},
     "output_type": "execute_result"
    }
   ],
   "source": [
    "test = do_sympify(parse(content)[:-1])\n",
    "\n",
    "test"
   ]
  },
  {
   "cell_type": "code",
   "execution_count": 6,
   "id": "805f573e",
   "metadata": {},
   "outputs": [
    {
     "data": {
      "text/plain": [
       "('assignment', 'condition_test = 20')"
      ]
     },
     "metadata": {},
     "output_type": "display_data"
    },
    {
     "data": {
      "text/plain": [
       "('assignment', 'assign_test = var_test + 10')"
      ]
     },
     "metadata": {},
     "output_type": "display_data"
    },
    {
     "data": {
      "text/plain": [
       "('conditional',\n",
       " 'if condition_test<= 30:\\n    assign_test4 = var_test + 60\\nelse:\\n    assign_test4 = var_test + 70')"
      ]
     },
     "metadata": {},
     "output_type": "display_data"
    }
   ],
   "source": [
    "for entry in (parse(content)[1:-1]):\n",
    "    display(entry)"
   ]
  },
  {
   "cell_type": "code",
   "execution_count": 7,
   "id": "8cb1d2ba",
   "metadata": {},
   "outputs": [
    {
     "name": "stdout",
     "output_type": "stream",
     "text": [
      "set() {}\n"
     ]
    },
    {
     "data": {
      "text/latex": [
       "$\\displaystyle 20$"
      ],
      "text/plain": [
       "20"
      ]
     },
     "metadata": {},
     "output_type": "display_data"
    },
    {
     "name": "stdout",
     "output_type": "stream",
     "text": [
      "{var_test} {var_test: 10}\n"
     ]
    },
    {
     "data": {
      "text/latex": [
       "$\\displaystyle 20$"
      ],
      "text/plain": [
       "20"
      ]
     },
     "metadata": {},
     "output_type": "display_data"
    },
    {
     "name": "stdout",
     "output_type": "stream",
     "text": [
      "{condition_test, var_test} {condition_test: 20, var_test: 10}\n"
     ]
    },
    {
     "data": {
      "text/latex": [
       "$\\displaystyle 70$"
      ],
      "text/plain": [
       "70"
      ]
     },
     "metadata": {},
     "output_type": "display_data"
    }
   ],
   "source": [
    "for entry in do_sympify(parse(content)[1:-1]):\n",
    "    display(numeric_eval(entry))"
   ]
  },
  {
   "cell_type": "code",
   "execution_count": null,
   "id": "ee4a5fc4",
   "metadata": {},
   "outputs": [],
   "source": []
  }
 ],
 "metadata": {
  "kernelspec": {
   "display_name": "engineering",
   "language": "python",
   "name": "python3"
  },
  "language_info": {
   "codemirror_mode": {
    "name": "ipython",
    "version": 3
   },
   "file_extension": ".py",
   "mimetype": "text/x-python",
   "name": "python",
   "nbconvert_exporter": "python",
   "pygments_lexer": "ipython3",
   "version": "3.10.16"
  }
 },
 "nbformat": 4,
 "nbformat_minor": 5
}
