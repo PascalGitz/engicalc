{
 "cells": [
  {
   "cell_type": "code",
   "execution_count": null,
   "id": "664c20b9",
   "metadata": {},
   "outputs": [],
   "source": [
    "import numpy as np\n",
    "from IPython.display import display, Markdown\n",
    "\n",
    "from parsing import Cell\n"
   ]
  },
  {
   "cell_type": "code",
   "execution_count": 5,
   "id": "20a0882f",
   "metadata": {},
   "outputs": [
    {
     "data": {
      "text/markdown": [
       "$$\\begin{aligned}&f_{c}(k_{c}, \\gamma_{c} = 50) = 10 \\cdot q \\cdot v^{2} + 20 \\cdot \\gamma_{c} \\cdot k_{c} \\cdot v\\\\ & \\quad k_{c} = \\begin{cases} 0 & \\text{for}\\: k_{c} \\leq 20 \\\\100 & \\text{for}\\: k_{c} \\geq 100 \\end{cases}\\\\ & \\quad v = \\sqrt{30}\\\\ & \\quad q = 30^{\\frac{v}{2}} + v \\cdot \\cos{\\left(k_{c} \\right)}\\\\ & \\quad c(v) = 10 \\cdot q \\cdot v^{2} + 20 \\cdot \\gamma_{c} \\cdot k_{c} \\cdot v\\\\ & \\quad v = \\begin{cases} 0 & \\text{for}\\: v < 0 \\\\100 & \\text{for}\\: v > 100 \\end{cases}\\end{aligned}$$"
      ],
      "text/plain": [
       "<IPython.core.display.Markdown object>"
      ]
     },
     "metadata": {},
     "output_type": "display_data"
    }
   ],
   "source": [
    "def f_c(k_c, gamma_c=50):\n",
    "    if k_c <= 20:\n",
    "        k_c = 0\n",
    "    elif k_c >= 100:\n",
    "        k_c = 100\n",
    "    v = np.sqrt(30) \n",
    "    q = np.sqrt(30)**v + v *np.cos(k_c)\n",
    "    def c(v):\n",
    "        if v < 0:\n",
    "            v = 0\n",
    "        elif v > 100: \n",
    "        \n",
    "            v = 100\n",
    "        return k_c * gamma_c * 20 * v + q * 10 * v**2\n",
    "\n",
    "\n",
    "    return k_c * gamma_c * 20*v + q * 10 * v**2\n",
    "\n",
    "display(Markdown(Cell(show_value=True, rows=2).latex_aligned))\n"
   ]
  },
  {
   "cell_type": "code",
   "execution_count": 6,
   "id": "96374157",
   "metadata": {},
   "outputs": [],
   "source": [
    "from sympy import latex"
   ]
  },
  {
   "cell_type": "code",
   "execution_count": 7,
   "id": "91092f91",
   "metadata": {},
   "outputs": [],
   "source": [
    "from assignment import Assignment"
   ]
  },
  {
   "cell_type": "code",
   "execution_count": 8,
   "id": "82fee560",
   "metadata": {},
   "outputs": [
    {
     "name": "stderr",
     "output_type": "stream",
     "text": [
      "<string>:1: SyntaxWarning: invalid escape sequence '\\m'\n",
      "<string>:1: SyntaxWarning: invalid escape sequence '\\m'\n",
      "<string>:1: SyntaxWarning: invalid escape sequence '\\m'\n",
      "<string>:1: SyntaxWarning: invalid escape sequence '\\m'\n",
      "<string>:1: SyntaxWarning: invalid escape sequence '\\m'\n",
      "<string>:1: SyntaxWarning: invalid escape sequence '\\m'\n"
     ]
    },
    {
     "data": {
      "text/markdown": [
       "$$\\begin{aligned}&x = \\frac{30}{\\mathrm{kN} \\cdot \\mathrm{m}} = 30.0 \\ \\frac{1}{\\mathrm{kN} \\cdot \\mathrm{m}}  \\quad  &var_{test} = 10 = 10 \\\\ &condition_{test} = 20 = 20  \\quad  &\\sum^{lar}_{F x} = \\mathrm{kN} \\cdot \\left|{f_{c}{\\left(30,50 \\right)}}\\right| = 3494111.5691 \\ \\mathrm{kN} \\\\ &f_{c}(k_{c}, \\gamma_{c} = 50) = 10 \\cdot q \\cdot v^{2} + 20 \\cdot \\gamma_{c} \\cdot k_{c} \\cdot v\\\\ & \\quad k_{c} = \\begin{cases} 0 & \\text{for}\\: k_{c} \\leq 20 \\\\100 & \\text{for}\\: k_{c} \\geq 100 \\end{cases}\\\\ & \\quad v = \\sqrt{30}\\\\ & \\quad q = 30^{\\frac{v}{2}} + v \\cdot \\cos{\\left(k_{c} \\right)}\\\\ & \\quad c(v) = 10 \\cdot q \\cdot v^{2} + 20 \\cdot \\gamma_{c} \\cdot k_{c} \\cdot v\\\\ & \\quad v = \\begin{cases} 0 & \\text{for}\\: v < 0 \\\\100 & \\text{for}\\: v > 100 \\end{cases} \\quad  \\end{aligned}$$"
      ],
      "text/plain": [
       "<IPython.core.display.Markdown object>"
      ]
     },
     "metadata": {},
     "output_type": "display_data"
    }
   ],
   "source": [
    "x = 30*1/kN/m\n",
    "var_test = 10 \n",
    "condition_test = 20\n",
    "sum_F_x__lar = (np.abs(f_c(30,50))*kN).to(kN)\n",
    "\n",
    "\n",
    "def f_c(k_c, gamma_c=50):\n",
    "    if k_c <= 20:\n",
    "        k_c = 0\n",
    "    elif k_c >= 100:\n",
    "        k_c = 100\n",
    "    v = np.sqrt(30) \n",
    "    q = np.sqrt(30)**v + v *np.cos(k_c)\n",
    "    def c(v):\n",
    "        if v < 0:\n",
    "            v = 0\n",
    "        elif v > 100: \n",
    "        \n",
    "            v = 100\n",
    "        return k_c * gamma_c * 20 * v + q * 10 * v**2\n",
    "\n",
    "\n",
    "    return k_c * gamma_c * 20*v + q * 10 * v**2\n",
    "\n",
    "display(Markdown(Cell(show_value=True, rows=2).latex_aligned))"
   ]
  }
 ],
 "metadata": {
  "kernelspec": {
   "display_name": "engineering",
   "language": "python",
   "name": "python3"
  },
  "language_info": {
   "codemirror_mode": {
    "name": "ipython",
    "version": 3
   },
   "file_extension": ".py",
   "mimetype": "text/x-python",
   "name": "python",
   "nbconvert_exporter": "python",
   "pygments_lexer": "ipython3",
   "version": "3.13.2"
  }
 },
 "nbformat": 4,
 "nbformat_minor": 5
}
