{
 "cells": [
  {
   "cell_type": "code",
   "execution_count": 1,
   "id": "664c20b9",
   "metadata": {},
   "outputs": [],
   "source": [
    "from sympy.abc import x,y,z\n",
    "import pint\n",
    "import sympy as sp\n",
    "\n",
    "\n",
    "ureg = pint.UnitRegistry()\n"
   ]
  },
  {
   "cell_type": "code",
   "execution_count": 2,
   "id": "f6691e65",
   "metadata": {},
   "outputs": [
    {
     "ename": "ImportError",
     "evalue": "cannot import name 'numeric_eval' from 'engicalc.numeric' (C:\\Users\\Arbeit\\Projekte\\engicalc\\engicalc\\numeric.py)",
     "output_type": "error",
     "traceback": [
      "\u001b[1;31m---------------------------------------------------------------------------\u001b[0m",
      "\u001b[1;31mImportError\u001b[0m                               Traceback (most recent call last)",
      "Cell \u001b[1;32mIn[2], line 4\u001b[0m\n\u001b[0;32m      2\u001b[0m \u001b[38;5;28;01mfrom\u001b[39;00m\u001b[38;5;250m \u001b[39m\u001b[38;5;21;01mparsing\u001b[39;00m\u001b[38;5;250m \u001b[39m\u001b[38;5;28;01mimport\u001b[39;00m parse, cell_content\n\u001b[0;32m      3\u001b[0m \u001b[38;5;28;01mfrom\u001b[39;00m\u001b[38;5;250m \u001b[39m\u001b[38;5;21;01mnumeric\u001b[39;00m\u001b[38;5;250m \u001b[39m\u001b[38;5;28;01mimport\u001b[39;00m numeric_eval\n\u001b[1;32m----> 4\u001b[0m \u001b[38;5;28;01mfrom\u001b[39;00m\u001b[38;5;250m \u001b[39m\u001b[38;5;21;01mrender\u001b[39;00m\u001b[38;5;250m \u001b[39m\u001b[38;5;28;01mimport\u001b[39;00m render\n",
      "File \u001b[1;32mc:\\Users\\Arbeit\\OneDrive - Bänziger Partner AG\\Dokumente\\GitHub\\engicalc\\engicalc\\render.py:4\u001b[0m\n\u001b[0;32m      2\u001b[0m \u001b[38;5;28;01mfrom\u001b[39;00m\u001b[38;5;250m \u001b[39m\u001b[38;5;21;01mengicalc\u001b[39;00m\u001b[38;5;21;01m.\u001b[39;00m\u001b[38;5;21;01mparsing\u001b[39;00m\u001b[38;5;250m \u001b[39m\u001b[38;5;28;01mimport\u001b[39;00m parse, cell_content\n\u001b[0;32m      3\u001b[0m \u001b[38;5;28;01mfrom\u001b[39;00m\u001b[38;5;250m \u001b[39m\u001b[38;5;21;01mengicalc\u001b[39;00m\u001b[38;5;21;01m.\u001b[39;00m\u001b[38;5;21;01msympify\u001b[39;00m\u001b[38;5;250m \u001b[39m\u001b[38;5;28;01mimport\u001b[39;00m do_sympify\n\u001b[1;32m----> 4\u001b[0m \u001b[38;5;28;01mfrom\u001b[39;00m\u001b[38;5;250m \u001b[39m\u001b[38;5;21;01mengicalc\u001b[39;00m\u001b[38;5;21;01m.\u001b[39;00m\u001b[38;5;21;01mnumeric\u001b[39;00m\u001b[38;5;250m \u001b[39m\u001b[38;5;28;01mimport\u001b[39;00m numeric_eval\n\u001b[0;32m      6\u001b[0m \u001b[38;5;28;01mdef\u001b[39;00m\u001b[38;5;250m \u001b[39m\u001b[38;5;21mrender\u001b[39m(precision: \u001b[38;5;28mfloat\u001b[39m \u001b[38;5;241m=\u001b[39m \u001b[38;5;241m2\u001b[39m, symbolic: \u001b[38;5;28mbool\u001b[39m \u001b[38;5;241m=\u001b[39m \u001b[38;5;28;01mTrue\u001b[39;00m, evaluate: \u001b[38;5;28mbool\u001b[39m \u001b[38;5;241m=\u001b[39m \u001b[38;5;28;01mFalse\u001b[39;00m, numeric: \u001b[38;5;28mbool\u001b[39m \u001b[38;5;241m=\u001b[39m \u001b[38;5;28;01mTrue\u001b[39;00m, rows: \u001b[38;5;28mint\u001b[39m \u001b[38;5;241m=\u001b[39m \u001b[38;5;241m1\u001b[39m, style\u001b[38;5;241m=\u001b[39m\u001b[38;5;28;01mNone\u001b[39;00m, raw\u001b[38;5;241m=\u001b[39m\u001b[38;5;28;01mFalse\u001b[39;00m):\n\u001b[0;32m      7\u001b[0m \u001b[38;5;250m    \u001b[39m\u001b[38;5;124;03m\"\"\"\u001b[39;00m\n\u001b[0;32m      8\u001b[0m \u001b[38;5;124;03m    Uses cell_content() to get the cell content, parses it, creates symbolic and numeric parts, and returns a LaTeX string.\u001b[39;00m\n\u001b[0;32m      9\u001b[0m \u001b[38;5;124;03m    \"\"\"\u001b[39;00m\n",
      "\u001b[1;31mImportError\u001b[0m: cannot import name 'numeric_eval' from 'engicalc.numeric' (C:\\Users\\Arbeit\\Projekte\\engicalc\\engicalc\\numeric.py)"
     ]
    }
   ],
   "source": [
    "from sympify import do_sympify\n",
    "from parsing import parse, cell_content\n",
    "from numeric import numeric_eval\n",
    "from render import render"
   ]
  },
  {
   "cell_type": "code",
   "execution_count": null,
   "id": "fd6fba7c",
   "metadata": {},
   "outputs": [],
   "source": [
    "\n",
    "var_test = 10 \n",
    "condition_test = 20\n",
    "assign_test = var_test + 10\n",
    "\n",
    "def f_c(k_c, gamma_c):\n",
    "    return k_c * gamma_c * 20\n",
    "\n",
    "# def test_func2():\n",
    "#     assign_test2 = var_test + 34\n",
    "#     return assign_test2\n",
    "\n",
    "# # this is a comment\n",
    "# def test_func3(a):\n",
    "#     if a < 0:\n",
    "#         assign_test2 = var_test + 34\n",
    "#     else:   \n",
    "#         assign_test2 = var_test + 34*a\n",
    "#     return assign_test2\n",
    "\n",
    "\n",
    "\n",
    "\n",
    "if condition_test<= 60 and condition_test > 20:\n",
    "    assign_test4 = var_test + 60\n",
    "elif condition_test > 30:\n",
    "    assign_test4 = var_test + 50\n",
    "else:\n",
    "    assign_test4 = var_test + 70\n",
    "\n",
    "x = f_c(2, 3)\n",
    "\n",
    "content = cell_content()"
   ]
  },
  {
   "cell_type": "code",
   "execution_count": null,
   "id": "c9b6eb82",
   "metadata": {},
   "outputs": [],
   "source": [
    "from IPython.display import display, Markdown\n"
   ]
  },
  {
   "cell_type": "code",
   "execution_count": null,
   "id": "0c31a4e4",
   "metadata": {},
   "outputs": [
    {
     "data": {
      "text/plain": [
       "[('assignment', 'var_test = 10 '),\n",
       " ('assignment', 'condition_test = 20'),\n",
       " ('assignment', 'assign_test = var_test + 10'),\n",
       " ('function', 'def f_c(k_c, gamma_c):\\n    return k_c * gamma_c * 20'),\n",
       " ('conditional',\n",
       "  'if condition_test<= 60 and condition_test > 20:\\n    assign_test4 = var_test + 60\\nelif condition_test > 30:\\n    assign_test4 = var_test + 50\\nelse:\\n    assign_test4 = var_test + 70'),\n",
       " ('assignment', 'x = f_c(2, 3)')]"
      ]
     },
     "execution_count": 5,
     "metadata": {},
     "output_type": "execute_result"
    }
   ],
   "source": [
    "parse(content)[:-1]"
   ]
  },
  {
   "cell_type": "code",
   "execution_count": null,
   "id": "4ac59601",
   "metadata": {},
   "outputs": [],
   "source": [
    "from sympy import latex"
   ]
  },
  {
   "cell_type": "code",
   "execution_count": null,
   "id": "dbf45074",
   "metadata": {},
   "outputs": [
    {
     "data": {
      "text/markdown": [
       "$var_{test} = 10$"
      ],
      "text/plain": [
       "<IPython.core.display.Markdown object>"
      ]
     },
     "metadata": {},
     "output_type": "display_data"
    },
    {
     "data": {
      "text/markdown": [
       "$condition_{test} = 20$"
      ],
      "text/plain": [
       "<IPython.core.display.Markdown object>"
      ]
     },
     "metadata": {},
     "output_type": "display_data"
    },
    {
     "data": {
      "text/markdown": [
       "$assign_{test} = var_{test} + 10$"
      ],
      "text/plain": [
       "<IPython.core.display.Markdown object>"
      ]
     },
     "metadata": {},
     "output_type": "display_data"
    },
    {
     "data": {
      "text/markdown": [
       "$f_{c}{\\left(k_{c},\\gamma_{c} \\right)} = 20 \\gamma_{c} k_{c}$"
      ],
      "text/plain": [
       "<IPython.core.display.Markdown object>"
      ]
     },
     "metadata": {},
     "output_type": "display_data"
    },
    {
     "data": {
      "text/markdown": [
       "$assign_{test4} = \\begin{cases} var_{test} + 60 & \\text{for}\\: condition_{test} \\leq 60 \\wedge condition_{test} > 20 \\\\var_{test} + 50 & \\text{for}\\: condition_{test} > 30 \\\\var_{test} + 70 & \\text{otherwise} \\end{cases}$"
      ],
      "text/plain": [
       "<IPython.core.display.Markdown object>"
      ]
     },
     "metadata": {},
     "output_type": "display_data"
    },
    {
     "data": {
      "text/markdown": [
       "$x = f_{c}{\\left(2,3 \\right)}$"
      ],
      "text/plain": [
       "<IPython.core.display.Markdown object>"
      ]
     },
     "metadata": {},
     "output_type": "display_data"
    }
   ],
   "source": [
    "test = do_sympify(parse(content)[:-1])\n",
    "\n",
    "for i in test:\n",
    "    display(Markdown(f\"${latex(i)}$\"))"
   ]
  },
  {
   "cell_type": "code",
   "execution_count": null,
   "id": "805f573e",
   "metadata": {},
   "outputs": [
    {
     "data": {
      "text/plain": [
       "('assignment', 'condition_test = 20')"
      ]
     },
     "metadata": {},
     "output_type": "display_data"
    },
    {
     "data": {
      "text/plain": [
       "('assignment', 'assign_test = var_test + 10')"
      ]
     },
     "metadata": {},
     "output_type": "display_data"
    },
    {
     "data": {
      "text/plain": [
       "('function', 'def f_c(k_c, gamma_c):\\n    return k_c * gamma_c * 20')"
      ]
     },
     "metadata": {},
     "output_type": "display_data"
    },
    {
     "data": {
      "text/plain": [
       "('conditional',\n",
       " 'if condition_test<= 60 and condition_test > 20:\\n    assign_test4 = var_test + 60\\nelif condition_test > 30:\\n    assign_test4 = var_test + 50\\nelse:\\n    assign_test4 = var_test + 70')"
      ]
     },
     "metadata": {},
     "output_type": "display_data"
    },
    {
     "data": {
      "text/plain": [
       "('assignment', 'x = f_c(2, 3)')"
      ]
     },
     "metadata": {},
     "output_type": "display_data"
    }
   ],
   "source": [
    "for entry in (parse(content)[1:-1]):\n",
    "    display(entry)"
   ]
  },
  {
   "cell_type": "code",
   "execution_count": null,
   "id": "8cb1d2ba",
   "metadata": {},
   "outputs": [
    {
     "data": {
      "text/plain": [
       "20"
      ]
     },
     "metadata": {},
     "output_type": "display_data"
    },
    {
     "data": {
      "text/plain": [
       "20"
      ]
     },
     "metadata": {},
     "output_type": "display_data"
    },
    {
     "data": {
      "text/plain": [
       "None"
      ]
     },
     "metadata": {},
     "output_type": "display_data"
    },
    {
     "data": {
      "text/plain": [
       "80"
      ]
     },
     "metadata": {},
     "output_type": "display_data"
    },
    {
     "data": {
      "text/plain": [
       "120"
      ]
     },
     "metadata": {},
     "output_type": "display_data"
    }
   ],
   "source": [
    "for entry in do_sympify(parse(content)[1:-1]):\n",
    "    display(numeric_eval(entry))"
   ]
  },
  {
   "cell_type": "code",
   "execution_count": null,
   "id": "ee4a5fc4",
   "metadata": {},
   "outputs": [],
   "source": []
  }
 ],
 "metadata": {
  "kernelspec": {
   "display_name": "engineering",
   "language": "python",
   "name": "python3"
  },
  "language_info": {
   "codemirror_mode": {
    "name": "ipython",
    "version": 3
   },
   "file_extension": ".py",
   "mimetype": "text/x-python",
   "name": "python",
   "nbconvert_exporter": "python",
   "pygments_lexer": "ipython3",
   "version": "3.10.16"
  }
 },
 "nbformat": 4,
 "nbformat_minor": 5
}
