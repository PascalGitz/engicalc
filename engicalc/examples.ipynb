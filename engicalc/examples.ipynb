{
 "cells": [
  {
   "cell_type": "raw",
   "id": "8a8435bf",
   "metadata": {
    "vscode": {
     "languageId": "raw"
    }
   },
   "source": [
    "---\n",
    "title: \"Hello Typst!\"\n",
    "format:\n",
    "  typst:\n",
    "    toc: true\n",
    "    section-numbering: 1.1.a\n",
    "    columns: 2\n",
    "    execute:\n",
    "        warnings: false\n",
    "        echo: false\n",
    "---"
   ]
  },
  {
   "cell_type": "code",
   "execution_count": 1,
   "id": "0c12e2d6",
   "metadata": {},
   "outputs": [],
   "source": [
    "from engicalc import *\n",
    "import numpy as np"
   ]
  },
  {
   "cell_type": "markdown",
   "id": "c1f1737a",
   "metadata": {},
   "source": [
    "### Parameters"
   ]
  },
  {
   "cell_type": "code",
   "execution_count": 2,
   "id": "a05acffc",
   "metadata": {},
   "outputs": [],
   "source": [
    "diam_sw = 12*mm\n",
    "s_sw = 150*mm\n",
    "z = 190*mm\n",
    "\n",
    "f_sd = 435*N/mm**2\n",
    "alpha = 25*deg\n",
    "\n",
    "parameters = Cell(show_expression=False, rows=3)"
   ]
  },
  {
   "cell_type": "code",
   "execution_count": 3,
   "id": "54c49080",
   "metadata": {},
   "outputs": [
    {
     "data": {
      "text/markdown": [
       "$$\\begin{aligned}& \\oslash_{sw}=12\\mathrm{mm} \\quad  s_{sw}=150\\mathrm{mm} \\quad  z=190\\mathrm{mm} \\\\ &  f_{sd}=435.0\\frac{\\mathrm{N}}{\\mathrm{mm}^{2}} \\quad  \\alpha=25\\mathrm{°}\\end{aligned}$$"
      ],
      "text/plain": [
       "$$\\begin{aligned}& \\oslash_{sw}=12\\mathrm{mm} \\quad  s_{sw}=150\\mathrm{mm} \\quad  z=190\\mathrm{mm} \\\\ &  f_{sd}=435.0\\frac{\\mathrm{N}}{\\mathrm{mm}^{2}} \\quad  \\alpha=25\\mathrm{°}\\end{aligned}$$"
      ]
     },
     "execution_count": 3,
     "metadata": {},
     "output_type": "execute_result"
    }
   ],
   "source": [
    "parameters"
   ]
  },
  {
   "cell_type": "code",
   "execution_count": 4,
   "id": "4f548243",
   "metadata": {},
   "outputs": [
    {
     "name": "stdout",
     "output_type": "stream",
     "text": [
      "$$\\begin{aligned}& \\oslash_{sw}=12\\mathrm{mm} \\quad  s_{sw}=150\\mathrm{mm} \\quad  z=190\\mathrm{mm} \\\\ &  f_{sd}=435.0\\frac{\\mathrm{N}}{\\mathrm{mm}^{2}} \\quad  \\alpha=25\\mathrm{°}\\end{aligned}$$\n"
     ]
    }
   ],
   "source": [
    "print(parameters)"
   ]
  },
  {
   "cell_type": "markdown",
   "id": "5fba7a9b",
   "metadata": {},
   "source": [
    "### Shearrestistance"
   ]
  },
  {
   "cell_type": "code",
   "execution_count": 5,
   "id": "5372d90a",
   "metadata": {},
   "outputs": [
    {
     "data": {
      "text/markdown": [
       "$$\\begin{aligned}& a_{sw}=\\frac{\\oslash_{sw}^{2} \\pi}{4 s_{sw}}=753.98\\frac{\\mathrm{mm}^{2}}{\\mathrm{m}} \\\\ &  V^{s}_{Rd}=\\frac{z f_{sd} a_{sw}}{\\tan{\\left(\\alpha \\right)}}=133.64\\mathrm{kN}\\end{aligned}$$"
      ],
      "text/plain": [
       "$$\\begin{aligned}& a_{sw}=\\frac{\\oslash_{sw}^{2} \\pi}{4 s_{sw}}=753.98\\frac{\\mathrm{mm}^{2}}{\\mathrm{m}} \\\\ &  V^{s}_{Rd}=\\frac{z f_{sd} a_{sw}}{\\tan{\\left(\\alpha \\right)}}=133.64\\mathrm{kN}\\end{aligned}$$"
      ]
     },
     "execution_count": 5,
     "metadata": {},
     "output_type": "execute_result"
    }
   ],
   "source": [
    "a_sw = (diam_sw**2 / 4 * np.pi /s_sw).to(mm**2/m)\n",
    "V_Rd__s = (z / np.tan(alpha) *  f_sd * a_sw).to(kN)\n",
    "\n",
    "Cell(precision=2)"
   ]
  },
  {
   "cell_type": "markdown",
   "id": "415a5377",
   "metadata": {},
   "source": [
    "### Function\n",
    "\n",
    "the function body is indented"
   ]
  },
  {
   "cell_type": "code",
   "execution_count": 6,
   "id": "0727c0ad",
   "metadata": {},
   "outputs": [],
   "source": [
    "def V_Rd__s(diam_sw, s_sw, f_s, z, alpha):\n",
    "    a_s = (diam_sw**2 / 4 * np.pi /s_sw).to(mm**2/m)\n",
    "    if a_s >= 20 *mm**2/m + diam_sw.m * mm**2 / m:\n",
    "        alpha = 43*deg\n",
    "    elif a_s >= 30 *mm**2/m:\n",
    "        alpha = 22*deg\n",
    "    else:\n",
    "        alpha = alpha\n",
    "    return (z / np.tan(alpha) *  f_s * a_s).to(kN)\n",
    "\n",
    "\n",
    "\n",
    "V_Rd__s_visual = Cell(show_expression=True)\n"
   ]
  },
  {
   "cell_type": "code",
   "execution_count": 7,
   "id": "b37793d9",
   "metadata": {},
   "outputs": [
    {
     "data": {
      "text/markdown": [
       "$$\\begin{aligned}& V^{s}_{Rd}(\\oslash_{sw}, s_{sw}, f_{s}, z, \\alpha) = \\frac{z f_{s} a_{s}}{\\tan{\\left(\\alpha \\right)}}\\\\ & \\quad a_{s}=\\frac{\\oslash_{sw}^{2} \\pi}{4 s_{sw}}\\\\ & \\quad \\alpha = \\begin{cases} 43 \\mathrm{°} & \\text{for}\\: a_{s} \\geq \\frac{20 \\mathrm{mm}^{2}}{\\mathrm{m}} + \\frac{\\oslash_{sw} \\mathrm{mm}^{2}}{\\mathrm{m}} \\\\22 \\mathrm{°} & \\text{for}\\: a_{s} \\geq \\frac{30 \\mathrm{mm}^{2}}{\\mathrm{m}} \\\\\\alpha & \\text{otherwise} \\end{cases} = 25\\mathrm{°}\\end{aligned}$$"
      ],
      "text/plain": [
       "$$\\begin{aligned}& V^{s}_{Rd}(\\oslash_{sw}, s_{sw}, f_{s}, z, \\alpha) = \\frac{z f_{s} a_{s}}{\\tan{\\left(\\alpha \\right)}}\\\\ & \\quad a_{s}=\\frac{\\oslash_{sw}^{2} \\pi}{4 s_{sw}}\\\\ & \\quad \\alpha = \\begin{cases} 43 \\mathrm{°} & \\text{for}\\: a_{s} \\geq \\frac{20 \\mathrm{mm}^{2}}{\\mathrm{m}} + \\frac{\\oslash_{sw} \\mathrm{mm}^{2}}{\\mathrm{m}} \\\\22 \\mathrm{°} & \\text{for}\\: a_{s} \\geq \\frac{30 \\mathrm{mm}^{2}}{\\mathrm{m}} \\\\\\alpha & \\text{otherwise} \\end{cases} = 25\\mathrm{°}\\end{aligned}$$"
      ]
     },
     "execution_count": 7,
     "metadata": {},
     "output_type": "execute_result"
    }
   ],
   "source": [
    "V_Rd__s_visual"
   ]
  },
  {
   "cell_type": "code",
   "execution_count": 8,
   "id": "5eadd9eb",
   "metadata": {},
   "outputs": [
    {
     "data": {
      "text/markdown": [
       "$$\\begin{aligned}& V^{s 1}_{Rd}=V^{s}_{Rd}{\\left(10 \\mathrm{mm},150 \\mathrm{mm},\\frac{435 \\mathrm{N}}{\\mathrm{mm}^{2}},200 \\mathrm{mm},25 \\mathrm{°} \\right)}=48.85\\mathrm{kN} \\\\ &  V^{s 2}_{Rd}=V^{s}_{Rd}{\\left(10 \\mathrm{mm},150 \\mathrm{mm},\\frac{435 \\mathrm{N}}{\\mathrm{mm}^{2}},120 \\mathrm{mm},45 \\mathrm{°} \\right)}=29.31\\mathrm{kN}\\end{aligned}$$"
      ],
      "text/plain": [
       "$$\\begin{aligned}& V^{s 1}_{Rd}=V^{s}_{Rd}{\\left(10 \\mathrm{mm},150 \\mathrm{mm},\\frac{435 \\mathrm{N}}{\\mathrm{mm}^{2}},200 \\mathrm{mm},25 \\mathrm{°} \\right)}=48.85\\mathrm{kN} \\\\ &  V^{s 2}_{Rd}=V^{s}_{Rd}{\\left(10 \\mathrm{mm},150 \\mathrm{mm},\\frac{435 \\mathrm{N}}{\\mathrm{mm}^{2}},120 \\mathrm{mm},45 \\mathrm{°} \\right)}=29.31\\mathrm{kN}\\end{aligned}$$"
      ]
     },
     "execution_count": 8,
     "metadata": {},
     "output_type": "execute_result"
    }
   ],
   "source": [
    "V_Rd__s__1 = V_Rd__s(10*mm, 150*mm, 435*N/mm**2, 200*mm, 25*deg)\n",
    "V_Rd__s__2 = V_Rd__s(10*mm, 150*mm, 435*N/mm**2, 120*mm, 45*deg)\n",
    "\n",
    "Cell()"
   ]
  },
  {
   "cell_type": "markdown",
   "id": "92e48deb",
   "metadata": {},
   "source": [
    "### Conditional"
   ]
  },
  {
   "cell_type": "code",
   "execution_count": 9,
   "id": "cfea331b",
   "metadata": {},
   "outputs": [
    {
     "data": {
      "text/markdown": [
       "$$\\begin{aligned}& z = \\begin{cases} \\sqrt{300} \\mathrm{mm} & \\text{for}\\: \\alpha \\geq 25 \\mathrm{°} \\\\\\ln{\\left(200 \\mathrm{mm} \\right)} & \\text{for}\\: \\alpha \\geq 10 \\mathrm{°} \\\\500 \\mathrm{mm} & \\text{otherwise} \\end{cases} = 17.32\\mathrm{mm}\\end{aligned}$$"
      ],
      "text/plain": [
       "$$\\begin{aligned}& z = \\begin{cases} \\sqrt{300} \\mathrm{mm} & \\text{for}\\: \\alpha \\geq 25 \\mathrm{°} \\\\\\ln{\\left(200 \\mathrm{mm} \\right)} & \\text{for}\\: \\alpha \\geq 10 \\mathrm{°} \\\\500 \\mathrm{mm} & \\text{otherwise} \\end{cases} = 17.32\\mathrm{mm}\\end{aligned}$$"
      ]
     },
     "execution_count": 9,
     "metadata": {},
     "output_type": "execute_result"
    }
   ],
   "source": [
    "if alpha >= 25*deg:\n",
    "    z = np.sqrt(300)*mm\n",
    "elif alpha < 25*deg and alpha >= 10*deg:\n",
    "    z = np.log(200*mm)\n",
    "else:\n",
    "    z = 500*mm\n",
    "\n",
    "Cell(show_expression=True, show_name=True, show_value=True)"
   ]
  },
  {
   "cell_type": "code",
   "execution_count": 10,
   "id": "7db56983",
   "metadata": {},
   "outputs": [],
   "source": [
    "b_w = 100*mm\n",
    "f_cd = 20 *N/mm**2\n",
    "\n",
    "params = Cell(rows=3, show_expression=False)\n"
   ]
  },
  {
   "cell_type": "code",
   "execution_count": 11,
   "id": "c7dbb929",
   "metadata": {},
   "outputs": [
    {
     "data": {
      "text/markdown": [
       "$$\\begin{aligned}& b_{w}=100\\mathrm{mm} \\quad  f_{cd}=20.0\\frac{\\mathrm{N}}{\\mathrm{mm}^{2}}\\end{aligned}$$"
      ],
      "text/plain": [
       "$$\\begin{aligned}& b_{w}=100\\mathrm{mm} \\quad  f_{cd}=20.0\\frac{\\mathrm{N}}{\\mathrm{mm}^{2}}\\end{aligned}$$"
      ]
     },
     "metadata": {},
     "output_type": "display_data"
    },
    {
     "data": {
      "text/markdown": [
       "$$\\begin{aligned}& A_{s}=\\frac{\\oslash_{sw}^{2} \\pi}{4}=113.1\\mathrm{mm}^{2} \\\\ &  x=\\frac{A_{s} f_{sd}}{0.85 b_{w} f_{cd}}=28.94\\mathrm{mm}\\end{aligned}$$"
      ],
      "text/plain": [
       "$$\\begin{aligned}& A_{s}=\\frac{\\oslash_{sw}^{2} \\pi}{4}=113.1\\mathrm{mm}^{2} \\\\ &  x=\\frac{A_{s} f_{sd}}{0.85 b_{w} f_{cd}}=28.94\\mathrm{mm}\\end{aligned}$$"
      ]
     },
     "metadata": {},
     "output_type": "display_data"
    }
   ],
   "source": [
    "\n",
    "\n",
    "A_s = diam_sw**2 / 4 * np.pi\n",
    "\n",
    "x = A_s * f_sd /(0.85* b_w * f_cd)\n",
    "\n",
    "calc = Cell()\n",
    "\n",
    "\n",
    "display(params, calc)"
   ]
  }
 ],
 "metadata": {
  "kernelspec": {
   "display_name": "engineering",
   "language": "python",
   "name": "python3"
  },
  "language_info": {
   "codemirror_mode": {
    "name": "ipython",
    "version": 3
   },
   "file_extension": ".py",
   "mimetype": "text/x-python",
   "name": "python",
   "nbconvert_exporter": "python",
   "pygments_lexer": "ipython3",
   "version": "3.13.2"
  }
 },
 "nbformat": 4,
 "nbformat_minor": 5
}
