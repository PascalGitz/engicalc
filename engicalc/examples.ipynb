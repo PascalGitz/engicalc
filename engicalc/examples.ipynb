{
 "cells": [
  {
   "cell_type": "raw",
   "id": "8a8435bf",
   "metadata": {
    "vscode": {
     "languageId": "raw"
    }
   },
   "source": [
    "---\n",
    "title: \"Hello Typst!\"\n",
    "format:\n",
    "  typst:\n",
    "    toc: true\n",
    "    section-numbering: 1.1.a\n",
    "    columns: 2\n",
    "    execute:\n",
    "        warnings: false\n",
    "        echo: false\n",
    "---"
   ]
  },
  {
   "cell_type": "code",
   "execution_count": 1,
   "id": "0c12e2d6",
   "metadata": {},
   "outputs": [],
   "source": [
    "from engicalc import *\n",
    "import numpy as np"
   ]
  },
  {
   "cell_type": "markdown",
   "id": "c1f1737a",
   "metadata": {},
   "source": [
    "### Parameters"
   ]
  },
  {
   "cell_type": "code",
   "execution_count": 2,
   "id": "a05acffc",
   "metadata": {},
   "outputs": [],
   "source": [
    "diam_sw = 12*mm\n",
    "s_sw = 150*mm\n",
    "z = 190*mm\n",
    "\n",
    "f_sd = 435*N/mm**2\n",
    "alpha = 25*deg\n",
    "\n",
    "parameters = Cell(show_expression=False, rows=3)"
   ]
  },
  {
   "cell_type": "code",
   "execution_count": 3,
   "id": "54c49080",
   "metadata": {},
   "outputs": [
    {
     "data": {
      "text/markdown": [
       "$$\\begin{aligned}& \\oslash_{sw}=12 \\mathrm{\\ mm} \\quad  s_{sw}=150 \\mathrm{\\ mm} \\quad  z=190 \\mathrm{\\ mm} \\\\ &  f_{sd}=435.0 \\frac{\\mathrm{\\ N}}{\\mathrm{\\ mm}^{2}} \\quad  \\alpha=25 \\mathrm{\\ °}\\end{aligned}$$"
      ],
      "text/plain": [
       "$$\\begin{aligned}& \\oslash_{sw}=12 \\mathrm{\\ mm} \\quad  s_{sw}=150 \\mathrm{\\ mm} \\quad  z=190 \\mathrm{\\ mm} \\\\ &  f_{sd}=435.0 \\frac{\\mathrm{\\ N}}{\\mathrm{\\ mm}^{2}} \\quad  \\alpha=25 \\mathrm{\\ °}\\end{aligned}$$"
      ]
     },
     "execution_count": 3,
     "metadata": {},
     "output_type": "execute_result"
    }
   ],
   "source": [
    "parameters"
   ]
  },
  {
   "cell_type": "code",
   "execution_count": 4,
   "id": "4f548243",
   "metadata": {},
   "outputs": [
    {
     "name": "stdout",
     "output_type": "stream",
     "text": [
      "$$\\begin{aligned}& \\oslash_{sw}=12 \\mathrm{\\ mm} \\quad  s_{sw}=150 \\mathrm{\\ mm} \\quad  z=190 \\mathrm{\\ mm} \\\\ &  f_{sd}=435.0 \\frac{\\mathrm{\\ N}}{\\mathrm{\\ mm}^{2}} \\quad  \\alpha=25 \\mathrm{\\ °}\\end{aligned}$$\n"
     ]
    }
   ],
   "source": [
    "print(parameters)"
   ]
  },
  {
   "cell_type": "markdown",
   "id": "5fba7a9b",
   "metadata": {},
   "source": [
    "### Shearrestistance"
   ]
  },
  {
   "cell_type": "code",
   "execution_count": 5,
   "id": "5372d90a",
   "metadata": {},
   "outputs": [
    {
     "data": {
      "text/markdown": [
       "$$\\begin{aligned}& a_{sw}=\\frac{\\pi \\oslash_{sw}^{2}}{4 s_{sw}}=753.98 \\frac{\\mathrm{\\ mm}^{2}}{\\mathrm{\\ m}} \\\\ &  V^{s}_{Rd}=\\frac{a_{sw} f_{sd} z}{\\tan{\\left(\\alpha \\right)}}=133.64 \\mathrm{\\ kN}\\end{aligned}$$"
      ],
      "text/plain": [
       "$$\\begin{aligned}& a_{sw}=\\frac{\\pi \\oslash_{sw}^{2}}{4 s_{sw}}=753.98 \\frac{\\mathrm{\\ mm}^{2}}{\\mathrm{\\ m}} \\\\ &  V^{s}_{Rd}=\\frac{a_{sw} f_{sd} z}{\\tan{\\left(\\alpha \\right)}}=133.64 \\mathrm{\\ kN}\\end{aligned}$$"
      ]
     },
     "execution_count": 5,
     "metadata": {},
     "output_type": "execute_result"
    }
   ],
   "source": [
    "a_sw = (diam_sw**2 / 4 * np.pi /s_sw).to(mm**2/m)\n",
    "V_Rd__s = (z / np.tan(alpha) *  f_sd * a_sw).to(kN)\n",
    "\n",
    "Cell(precision=2)"
   ]
  },
  {
   "cell_type": "markdown",
   "id": "415a5377",
   "metadata": {},
   "source": [
    "### Function"
   ]
  },
  {
   "cell_type": "code",
   "execution_count": 6,
   "id": "0727c0ad",
   "metadata": {},
   "outputs": [],
   "source": [
    "def V_Rd__s(diam_sw, s_sw, f_s, z, alpha):\n",
    "    a_s = (diam_sw**2 / 4 * np.pi /s_sw).to(mm**2/m)\n",
    "    return (z / np.tan(alpha) *  f_s * a_s).to(kN)\n",
    "\n",
    "\n",
    "\n",
    "V_Rd__s_visual = Cell(show_expression=True)\n"
   ]
  },
  {
   "cell_type": "code",
   "execution_count": 7,
   "id": "b37793d9",
   "metadata": {},
   "outputs": [
    {
     "data": {
      "text/markdown": [
       "$$\\begin{aligned}& V^{s}_{Rd}(\\oslash_{sw}, s_{sw}, f_{s}, z, \\alpha) = \\frac{a_{s} f_{s} z}{\\tan{\\left(\\alpha \\right)}}\\\\ & \\quad a_{s}=\\frac{\\pi \\oslash_{sw}^{2}}{4 s_{sw}}\\end{aligned}$$"
      ],
      "text/plain": [
       "$$\\begin{aligned}& V^{s}_{Rd}(\\oslash_{sw}, s_{sw}, f_{s}, z, \\alpha) = \\frac{a_{s} f_{s} z}{\\tan{\\left(\\alpha \\right)}}\\\\ & \\quad a_{s}=\\frac{\\pi \\oslash_{sw}^{2}}{4 s_{sw}}\\end{aligned}$$"
      ]
     },
     "execution_count": 7,
     "metadata": {},
     "output_type": "execute_result"
    }
   ],
   "source": [
    "V_Rd__s_visual"
   ]
  },
  {
   "cell_type": "code",
   "execution_count": 8,
   "id": "5eadd9eb",
   "metadata": {},
   "outputs": [
    {
     "data": {
      "text/markdown": [
       "$$\\begin{aligned}& V^{s 1}_{Rd}=V^{s}_{Rd}{\\left(10 \\mathrm{\\ mm},150 \\mathrm{\\ mm},\\frac{435 \\mathrm{\\ N}}{\\mathrm{\\ mm}^{2}},200 \\mathrm{\\ mm},25 \\mathrm{\\ °} \\right)}=97.69 \\mathrm{\\ kN} \\\\ &  V^{s 2}_{Rd}=V^{s}_{Rd}{\\left(10 \\mathrm{\\ mm},150 \\mathrm{\\ mm},\\frac{435 \\mathrm{\\ N}}{\\mathrm{\\ mm}^{2}},120 \\mathrm{\\ mm},45 \\mathrm{\\ °} \\right)}=27.33 \\mathrm{\\ kN}\\end{aligned}$$"
      ],
      "text/plain": [
       "$$\\begin{aligned}& V^{s 1}_{Rd}=V^{s}_{Rd}{\\left(10 \\mathrm{\\ mm},150 \\mathrm{\\ mm},\\frac{435 \\mathrm{\\ N}}{\\mathrm{\\ mm}^{2}},200 \\mathrm{\\ mm},25 \\mathrm{\\ °} \\right)}=97.69 \\mathrm{\\ kN} \\\\ &  V^{s 2}_{Rd}=V^{s}_{Rd}{\\left(10 \\mathrm{\\ mm},150 \\mathrm{\\ mm},\\frac{435 \\mathrm{\\ N}}{\\mathrm{\\ mm}^{2}},120 \\mathrm{\\ mm},45 \\mathrm{\\ °} \\right)}=27.33 \\mathrm{\\ kN}\\end{aligned}$$"
      ]
     },
     "execution_count": 8,
     "metadata": {},
     "output_type": "execute_result"
    }
   ],
   "source": [
    "V_Rd__s__1 = V_Rd__s(10*mm, 150*mm, 435*N/mm**2, 200*mm, 25*deg)\n",
    "V_Rd__s__2 = V_Rd__s(10*mm, 150*mm, 435*N/mm**2, 120*mm, 45*deg)\n",
    "\n",
    "Cell()"
   ]
  },
  {
   "cell_type": "markdown",
   "id": "92e48deb",
   "metadata": {},
   "source": [
    "### Conditional"
   ]
  },
  {
   "cell_type": "code",
   "execution_count": 9,
   "id": "cfea331b",
   "metadata": {},
   "outputs": [
    {
     "data": {
      "text/markdown": [
       "$$\\begin{aligned}& z = \\begin{cases} 300 \\mathrm{\\ mm} & \\text{for}\\: \\alpha \\geq 25 \\mathrm{\\ °} \\\\200 \\mathrm{\\ mm} & \\text{for}\\: \\alpha \\geq 10 \\mathrm{\\ °} \\\\500 \\mathrm{\\ mm} & \\text{otherwise} \\end{cases} = 300 \\mathrm{\\ mm}\\end{aligned}$$"
      ],
      "text/plain": [
       "$$\\begin{aligned}& z = \\begin{cases} 300 \\mathrm{\\ mm} & \\text{for}\\: \\alpha \\geq 25 \\mathrm{\\ °} \\\\200 \\mathrm{\\ mm} & \\text{for}\\: \\alpha \\geq 10 \\mathrm{\\ °} \\\\500 \\mathrm{\\ mm} & \\text{otherwise} \\end{cases} = 300 \\mathrm{\\ mm}\\end{aligned}$$"
      ]
     },
     "execution_count": 9,
     "metadata": {},
     "output_type": "execute_result"
    }
   ],
   "source": [
    "if alpha >= 25*deg:\n",
    "    z = 300*mm\n",
    "elif alpha < 25*deg and alpha >= 10*deg:\n",
    "    z = 200*mm\n",
    "else:\n",
    "    z = 500*mm\n",
    "\n",
    "Cell()"
   ]
  }
 ],
 "metadata": {
  "kernelspec": {
   "display_name": "engineering",
   "language": "python",
   "name": "python3"
  },
  "language_info": {
   "codemirror_mode": {
    "name": "ipython",
    "version": 3
   },
   "file_extension": ".py",
   "mimetype": "text/x-python",
   "name": "python",
   "nbconvert_exporter": "python",
   "pygments_lexer": "ipython3",
   "version": "3.13.2"
  }
 },
 "nbformat": 4,
 "nbformat_minor": 5
}
