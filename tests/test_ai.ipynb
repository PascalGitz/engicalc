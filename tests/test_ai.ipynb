{
 "cells": [
  {
   "cell_type": "code",
   "execution_count": 1,
   "metadata": {},
   "outputs": [],
   "source": [
    "import io\n",
    "from contextlib import redirect_stdout\n",
    "from sympy import sympify\n",
    "from sympy.printing.latex import latex\n",
    "from IPython.display import display, Math\n",
    "\n",
    "def parse_cell_variables(offset: int = 0) -> dict:\n",
    "    \"\"\"\n",
    "    Parses the cell history to extract variable names, their corresponding expressions, and values.\n",
    "    For Pint objects, strips the units and only uses the magnitudes in expressions.\n",
    "\n",
    "    Args:\n",
    "        offset (int): The number of previous cells to include for variable extraction. Defaults to 0.\n",
    "\n",
    "    Returns:\n",
    "        dict: A dictionary with 'variable_name', 'expression', and 'result' for each variable.\n",
    "    \"\"\"\n",
    "    ipy = get_ipython()\n",
    "    out = io.StringIO()\n",
    "\n",
    "    # Capture the history of executed commands\n",
    "    with redirect_stdout(out):\n",
    "        ipy.run_line_magic(\"history\", f\"{ipy.execution_count - offset}\")\n",
    "\n",
    "    # Get the current variables and their values from the user namespace\n",
    "    user_ns = ipy.user_ns\n",
    "\n",
    "    # Extract variable names and expressions from the captured output\n",
    "    lines = out.getvalue().replace(\" \", \"\").split(\"\\n\")\n",
    "\n",
    "    variables = {}\n",
    "    for line in lines:\n",
    "        if \"=\" in line:\n",
    "            var_name, expression = line.split(\"=\", 1)\n",
    "            if var_name in user_ns:\n",
    "                result = user_ns[var_name]\n",
    "                variables[var_name] = {\n",
    "                    'expression': expression,\n",
    "                    'result': result\n",
    "                }\n",
    "    return variables\n",
    "\n",
    "def replace_numpy_with_sympy(expression):\n",
    "    numpy_to_sympy = {\n",
    "        'np.sqrt': 'sp.sqrt',\n",
    "        'np.sin': 'sp.sin',\n",
    "        'np.cos': 'sp.cos',\n",
    "        'np.tan': 'sp.tan',\n",
    "        'np.exp': 'sp.exp',\n",
    "        'np.log': 'sp.log',\n",
    "        'np.array':'Matrix'\n",
    "        # Add more mappings as needed\n",
    "    }\n",
    "    for np_func, sp_func in numpy_to_sympy.items():\n",
    "        expression = expression.replace(np_func, sp_func)\n",
    "    return expression\n",
    "\n",
    "def render_latex_from_variables(variables):\n",
    "    for var_name, details in variables.items():\n",
    "        try:\n",
    "            # Replace NumPy functions with SymPy equivalents\n",
    "            expression = replace_numpy_with_sympy(details['expression'])\n",
    "            # Parse and convert to LaTeX\n",
    "            expr = sympify(expression, evaluate=False)\n",
    "            var = sympify(var_name)\n",
    "            result = details['result']\n",
    "            print(result)\n",
    "            latex_str = f\"{var} = {latex(expr)} = {result}\"\n",
    "            # Display the LaTeX string\n",
    "            display(Math(latex_str))\n",
    "        except Exception as e:\n",
    "            print(f\"Error: {e}\")\n",
    "\n",
    "# Example usage\n",
    "variables = parse_cell_variables()\n",
    "render_latex_from_variables(variables)\n"
   ]
  },
  {
   "cell_type": "code",
   "execution_count": 2,
   "metadata": {},
   "outputs": [],
   "source": [
    "import numpy as np"
   ]
  },
  {
   "cell_type": "code",
   "execution_count": 3,
   "metadata": {},
   "outputs": [
    {
     "name": "stdout",
     "output_type": "stream",
     "text": [
      "10\n"
     ]
    },
    {
     "data": {
      "text/latex": [
       "$\\displaystyle a = 10 = 10$"
      ],
      "text/plain": [
       "<IPython.core.display.Math object>"
      ]
     },
     "metadata": {},
     "output_type": "display_data"
    },
    {
     "name": "stdout",
     "output_type": "stream",
     "text": [
      "[2 5]\n"
     ]
    },
    {
     "data": {
      "text/latex": [
       "$\\displaystyle c = \\left[\\begin{matrix}2\\\\5\\end{matrix}\\right] = [2 5]$"
      ],
      "text/plain": [
       "<IPython.core.display.Math object>"
      ]
     },
     "metadata": {},
     "output_type": "display_data"
    },
    {
     "name": "stdout",
     "output_type": "stream",
     "text": [
      "[ 4 10]\n"
     ]
    },
    {
     "data": {
      "text/latex": [
       "$\\displaystyle b = 2 c = [ 4 10]$"
      ],
      "text/plain": [
       "<IPython.core.display.Math object>"
      ]
     },
     "metadata": {},
     "output_type": "display_data"
    }
   ],
   "source": [
    "a = 10\n",
    "c = np.array([2,5])\n",
    "if a >20:\n",
    "    b = 4*c\n",
    "if a <=20:\n",
    "    b = 2*c\n",
    "# Example usage\n",
    "render_latex_from_variables(parse_cell_variables())\n",
    "\n"
   ]
  },
  {
   "cell_type": "code",
   "execution_count": 3,
   "metadata": {},
   "outputs": [],
   "source": [
    "\n"
   ]
  },
  {
   "cell_type": "code",
   "execution_count": 4,
   "metadata": {},
   "outputs": [
    {
     "ename": "NameError",
     "evalue": "name 'un' is not defined",
     "output_type": "error",
     "traceback": [
      "\u001b[1;31m---------------------------------------------------------------------------\u001b[0m",
      "\u001b[1;31mNameError\u001b[0m                                 Traceback (most recent call last)",
      "Cell \u001b[1;32mIn[4], line 1\u001b[0m\n\u001b[1;32m----> 1\u001b[0m a \u001b[38;5;241m=\u001b[39m \u001b[38;5;241m20\u001b[39m\u001b[38;5;241m*\u001b[39m\u001b[43mun\u001b[49m\u001b[38;5;241m.\u001b[39mm\n\u001b[0;32m      3\u001b[0m parse_cell_variables()\n",
      "\u001b[1;31mNameError\u001b[0m: name 'un' is not defined"
     ]
    }
   ],
   "source": [
    "a = 20*un.m\n",
    "\n",
    "parse_cell_variables()"
   ]
  },
  {
   "cell_type": "code",
   "execution_count": 4,
   "metadata": {},
   "outputs": [
    {
     "name": "stdout",
     "output_type": "stream",
     "text": [
      "['theta=10', 'a=20*un.kNm', 'b=theta*a']\n"
     ]
    },
    {
     "data": {
      "text/markdown": [
       "$$theta = 10 = 10$$"
      ],
      "text/plain": [
       "<IPython.core.display.Markdown object>"
      ]
     },
     "metadata": {},
     "output_type": "display_data"
    },
    {
     "data": {
      "text/markdown": [
       "$$a = 20 \\cdot 1 = 20\\ \\mathrm{kNm}$$"
      ],
      "text/plain": [
       "<IPython.core.display.Markdown object>"
      ]
     },
     "metadata": {},
     "output_type": "display_data"
    },
    {
     "data": {
      "text/markdown": [
       "$$b = a \\theta = 200\\ \\mathrm{kNm}$$"
      ],
      "text/plain": [
       "<IPython.core.display.Markdown object>"
      ]
     },
     "metadata": {},
     "output_type": "display_data"
    }
   ],
   "source": [
    "theta = 10\n",
    "a = 20 *un.kNm\n",
    "b = theta * a\n",
    "put_out()"
   ]
  },
  {
   "cell_type": "code",
   "execution_count": null,
   "metadata": {},
   "outputs": [],
   "source": []
  }
 ],
 "metadata": {
  "kernelspec": {
   "display_name": "calc",
   "language": "python",
   "name": "python3"
  },
  "language_info": {
   "codemirror_mode": {
    "name": "ipython",
    "version": 3
   },
   "file_extension": ".py",
   "mimetype": "text/x-python",
   "name": "python",
   "nbconvert_exporter": "python",
   "pygments_lexer": "ipython3",
   "version": "3.11.9"
  }
 },
 "nbformat": 4,
 "nbformat_minor": 2
}
