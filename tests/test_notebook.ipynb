{
 "cells": [
  {
   "cell_type": "code",
   "execution_count": 1,
   "metadata": {},
   "outputs": [],
   "source": [
    "from engicalc import Beton, put_out\n",
    "from engicalc.concrete import kriechdehnung_SIA262_12\n",
    "import engicalc.units as un"
   ]
  },
  {
   "cell_type": "code",
   "execution_count": 2,
   "metadata": {},
   "outputs": [
    {
     "data": {
      "text/markdown": [
       "\n",
       "**SIA 262:2013 Abschnitt 3.1.2.6.1**\n",
       "\n",
       "Die Dehnung infolge Kriechens des Betons wird aus den elastischen Dehnungen mithilfe der Kriechzahl bestimmt:\n",
       "$$ \\varepsilon_{cc}(t) = \\varphi(t, t_0) \\varepsilon_{c,el} $$\n",
       "        "
      ],
      "text/plain": [
       "<IPython.core.display.Markdown object>"
      ]
     },
     "metadata": {},
     "output_type": "display_data"
    },
    {
     "data": {
      "text/markdown": [
       "$$\n",
       "\\begin{aligned}\n",
       "\\varepsilon_{cc} & = 2 \\quad & \\varepsilon_{cc 2} & = 4 \\end{aligned}\n",
       "$$"
      ],
      "text/plain": [
       "<IPython.core.display.Markdown object>"
      ]
     },
     "metadata": {},
     "output_type": "display_data"
    }
   ],
   "source": [
    "varepsilon_cc = kriechdehnung_SIA262_12(2,1, background=True)\n",
    "varepsilon_cc_2 = kriechdehnung_SIA262_12(4,1)\n",
    "put_out()"
   ]
  },
  {
   "cell_type": "code",
   "execution_count": 3,
   "metadata": {},
   "outputs": [
    {
     "name": "stdout",
     "output_type": "stream",
     "text": [
      "Beton: NPK G (C40/50)\n"
     ]
    }
   ],
   "source": [
    "NPK_G = Beton(\"G\")\n",
    "NPK_G.expositionsklassen = 'XC1'\n",
    "NPK_G.nennwert_groesstkorn = 32*un.mm\n",
    "NPK_G.druckfestigkeitsklasse = 'C40/50'\n",
    "print(NPK_G)"
   ]
  },
  {
   "cell_type": "code",
   "execution_count": 4,
   "metadata": {},
   "outputs": [
    {
     "data": {
      "text/markdown": [
       "| Bezeichnung                        | Wert      | Bezeichnung                                        | Wert       |\n",
       "| ---------------------------------- | --------- | -------------------------------------------------- | ---------- |\n",
       "| Name                               | NPK G     | Dichte $\\rho$                                      | None       |\n",
       "| Elastizitätsmodul                  | None      | Druckfestigkeitsklasse                             | C40/50     |\n",
       "| Expositionsklassen                 | XC1       | Nennwert Grösstkorn $D_{{max}}$                    | 32 mm      |\n",
       "| Klasse des Chloridgehalts $CL$     | 0.1       | Konsistenzklasse                                   | C3         |\n",
       "| Frost-Tausalz-Widerstand           | ('hoch',) | Charakteristische Würfeldruckfestigkeit $f_{{ck}}$ | 30.0 N/mm² |\n",
       "| Mittlere Zugfestigkeit $f_{{ctm}}$ | 2.9 N/mm² | -                                                  | -          |"
      ],
      "text/plain": [
       "<engicalc.materials.Beton at 0x7fc8b93c2e50>"
      ]
     },
     "execution_count": 4,
     "metadata": {},
     "output_type": "execute_result"
    }
   ],
   "source": [
    "NPK_G"
   ]
  }
 ],
 "metadata": {
  "kernelspec": {
   "display_name": "calc",
   "language": "python",
   "name": "python3"
  },
  "language_info": {
   "codemirror_mode": {
    "name": "ipython",
    "version": 3
   },
   "file_extension": ".py",
   "mimetype": "text/x-python",
   "name": "python",
   "nbconvert_exporter": "python",
   "pygments_lexer": "ipython3",
   "version": "3.11.9"
  }
 },
 "nbformat": 4,
 "nbformat_minor": 2
}
