{
 "cells": [
  {
   "cell_type": "code",
   "execution_count": 1,
   "metadata": {},
   "outputs": [],
   "source": [
    "from engicalc.concrete import kriechdehnung_SIA262_12\n",
    "from engicalc import put_out"
   ]
  },
  {
   "cell_type": "code",
   "execution_count": 2,
   "metadata": {},
   "outputs": [
    {
     "data": {
      "text/markdown": [
       "\n",
       "**SIA 262:2013 Abschnitt 3.1.2.6.1**\n",
       "\n",
       "Die Dehnung infolge Kriechens des Betons wird aus den elastischen Dehnungen mithilfe der Kriechzahl bestimmt:\n",
       "$$ \\varepsilon_{cc}(t) = \\varphi(t, t_0) \\varepsilon_{c,el} $$\n",
       "        "
      ],
      "text/plain": [
       "<IPython.core.display.Markdown object>"
      ]
     },
     "metadata": {},
     "output_type": "display_data"
    },
    {
     "data": {
      "text/markdown": [
       "$$\n",
       "\\begin{aligned}\n",
       "\\varepsilon_{cc} & = 2 \\quad & \\varepsilon_{cc 2} & = 4 \\end{aligned}\n",
       "$$"
      ],
      "text/plain": [
       "<IPython.core.display.Markdown object>"
      ]
     },
     "metadata": {},
     "output_type": "display_data"
    }
   ],
   "source": [
    "varepsilon_cc = kriechdehnung_SIA262_12(2,1, background=True)\n",
    "varepsilon_cc_2 = kriechdehnung_SIA262_12(4,1)\n",
    "put_out()"
   ]
  },
  {
   "cell_type": "code",
   "execution_count": 3,
   "metadata": {},
   "outputs": [
    {
     "ename": "TypeError",
     "evalue": "kriechdehnung_SIA262_12() missing 2 required positional arguments: 'psi' and 'epsilon_c_el'",
     "output_type": "error",
     "traceback": [
      "\u001b[0;31m---------------------------------------------------------------------------\u001b[0m",
      "\u001b[0;31mTypeError\u001b[0m                                 Traceback (most recent call last)",
      "Cell \u001b[0;32mIn[3], line 1\u001b[0m\n\u001b[0;32m----> 1\u001b[0m kriechdehnung_SIA262_12()\n",
      "\u001b[0;31mTypeError\u001b[0m: kriechdehnung_SIA262_12() missing 2 required positional arguments: 'psi' and 'epsilon_c_el'"
     ]
    }
   ],
   "source": [
    "kriechdehnung_SIA262_12()"
   ]
  }
 ],
 "metadata": {
  "kernelspec": {
   "display_name": "calc",
   "language": "python",
   "name": "python3"
  },
  "language_info": {
   "codemirror_mode": {
    "name": "ipython",
    "version": 3
   },
   "file_extension": ".py",
   "mimetype": "text/x-python",
   "name": "python",
   "nbconvert_exporter": "python",
   "pygments_lexer": "ipython3",
   "version": "3.11.9"
  }
 },
 "nbformat": 4,
 "nbformat_minor": 2
}
