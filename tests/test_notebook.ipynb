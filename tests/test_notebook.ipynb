{
 "cells": [
  {
   "cell_type": "code",
   "execution_count": 1,
   "metadata": {},
   "outputs": [],
   "source": [
    "from engicalc import *\n",
    "import engicalc.concrete as ecc\n",
    "import engicalc.materials as emt\n",
    "import engicalc.units as un\n",
    "\n",
    "import sympy as sp\n",
    "import numpy as np"
   ]
  },
  {
   "cell_type": "code",
   "execution_count": 2,
   "metadata": {},
   "outputs": [
    {
     "data": {
      "text/plain": [
       "[('theta = 10', 'other'),\n",
       " ('v = theta *3 + np.sqrt(4)', 'other'),\n",
       " ('if theta <= 20:', 'unknown'),\n",
       " ('a = 10 * un.kNm', 'other'),\n",
       " ('if theta >20:', 'unknown'),\n",
       " ('a = 0', 'other'),\n",
       " ('c = theta * a *np.array([1,2])', 'other'),\n",
       " ('q = np.cos(45*un.deg)', 'other'),\n",
       " ('cell_parser()', 'other')]"
      ]
     },
     "execution_count": 2,
     "metadata": {},
     "output_type": "execute_result"
    }
   ],
   "source": [
    "theta = 10\n",
    "v = theta *3 + np.sqrt(4)\n",
    "if theta <= 20:\n",
    "    a = 10 * un.kNm\n",
    "if theta >20:\n",
    "    a = 0\n",
    "\n",
    "c = theta * a *np.array([1,2])\n",
    "q = np.cos(45*un.deg)\n",
    "\n",
    "cell_parser()"
   ]
  },
  {
   "cell_type": "code",
   "execution_count": 3,
   "metadata": {},
   "outputs": [
    {
     "data": {
      "text/plain": [
       "'1 + 20'"
      ]
     },
     "execution_count": 3,
     "metadata": {},
     "output_type": "execute_result"
    }
   ],
   "source": [
    "import numpy as np\n",
    "format_symbolic(\"20+1\", evaluate=False)\n",
    "# Returns: '\\\\begin{bmatrix}1.23 & 2.35\\\\\\\\3.46 & 4.57\\\\end{bmatrix}'\n"
   ]
  },
  {
   "cell_type": "code",
   "execution_count": 4,
   "metadata": {},
   "outputs": [
    {
     "ename": "ValueError",
     "evalue": "not enough values to unpack (expected 3, got 2)",
     "output_type": "error",
     "traceback": [
      "\u001b[1;31m---------------------------------------------------------------------------\u001b[0m",
      "\u001b[1;31mValueError\u001b[0m                                Traceback (most recent call last)",
      "Cell \u001b[1;32mIn[4], line 5\u001b[0m\n\u001b[0;32m      2\u001b[0m s_x \u001b[38;5;241m=\u001b[39m \u001b[38;5;241m150\u001b[39m\u001b[38;5;241m*\u001b[39mun\u001b[38;5;241m.\u001b[39mmm\n\u001b[0;32m      3\u001b[0m b_w \u001b[38;5;241m=\u001b[39m \u001b[38;5;241m1\u001b[39m\u001b[38;5;241m*\u001b[39mun\u001b[38;5;241m.\u001b[39mm\n\u001b[1;32m----> 5\u001b[0m \u001b[43mput_out\u001b[49m\u001b[43m(\u001b[49m\u001b[43m)\u001b[49m\n",
      "File \u001b[1;32mc:\\users\\pascal gitz\\projekte\\engicalc\\engicalc\\output.py:160\u001b[0m, in \u001b[0;36mput_out\u001b[1;34m(precision, symbolic, offset, rows, evaluate)\u001b[0m\n\u001b[0;32m    158\u001b[0m \u001b[38;5;250m\u001b[39m\u001b[38;5;124;03m\"\"\"Constructs and displays the final Markdown output.\"\"\"\u001b[39;00m\n\u001b[0;32m    159\u001b[0m parsed_lines \u001b[38;5;241m=\u001b[39m cell_parser(offset)\n\u001b[1;32m--> 160\u001b[0m equations \u001b[38;5;241m=\u001b[39m \u001b[43mbuild_equations\u001b[49m\u001b[43m(\u001b[49m\u001b[43mparsed_lines\u001b[49m\u001b[43m,\u001b[49m\u001b[43m \u001b[49m\u001b[43msymbolic\u001b[49m\u001b[38;5;241;43m=\u001b[39;49m\u001b[43msymbolic\u001b[49m\u001b[43m,\u001b[49m\u001b[43m \u001b[49m\u001b[43mevaluate\u001b[49m\u001b[38;5;241;43m=\u001b[39;49m\u001b[43mevaluate\u001b[49m\u001b[43m,\u001b[49m\u001b[43m \u001b[49m\u001b[43mprecision\u001b[49m\u001b[38;5;241;43m=\u001b[39;49m\u001b[43mprecision\u001b[49m\u001b[43m)\u001b[49m\n\u001b[0;32m    162\u001b[0m \u001b[38;5;28mprint\u001b[39m(equations)\n",
      "File \u001b[1;32mc:\\users\\pascal gitz\\projekte\\engicalc\\engicalc\\output.py:150\u001b[0m, in \u001b[0;36mbuild_equations\u001b[1;34m(parsed_lines, symbolic, evaluate, precision)\u001b[0m\n\u001b[0;32m    147\u001b[0m \u001b[38;5;250m\u001b[39m\u001b[38;5;124;03m\"\"\"Builds a list of Markdown equations from parsed assignment lines.\"\"\"\u001b[39;00m\n\u001b[0;32m    148\u001b[0m equations \u001b[38;5;241m=\u001b[39m []\n\u001b[1;32m--> 150\u001b[0m \u001b[38;5;28;01mfor\u001b[39;00m line_type, line, rhs_value \u001b[38;5;129;01min\u001b[39;00m parsed_lines:\n\u001b[0;32m    151\u001b[0m     \u001b[38;5;28;01mif\u001b[39;00m line_type \u001b[38;5;241m==\u001b[39m \u001b[38;5;124m'\u001b[39m\u001b[38;5;124massignment\u001b[39m\u001b[38;5;124m'\u001b[39m:\n\u001b[0;32m    152\u001b[0m         equation \u001b[38;5;241m=\u001b[39m format_equation(line, rhs_value, symbolic, evaluate, precision)\n",
      "\u001b[1;31mValueError\u001b[0m: not enough values to unpack (expected 3, got 2)"
     ]
    }
   ],
   "source": [
    "diam_x = 20*un.mm\n",
    "s_x = 150*un.mm\n",
    "b_w = 1*un.m\n",
    "\n",
    "put_out()\n"
   ]
  },
  {
   "cell_type": "code",
   "execution_count": 5,
   "metadata": {},
   "outputs": [
    {
     "name": "stdout",
     "output_type": "stream",
     "text": [
      "[]\n"
     ]
    }
   ],
   "source": [
    "a_s = diam_x **2 / 4 * np.pi /s_x\n",
    "A_s = (a_s *b_w).to(un.mm**2)\n",
    "\n",
    "put_out(symbolic=True)"
   ]
  },
  {
   "cell_type": "code",
   "execution_count": 6,
   "metadata": {},
   "outputs": [
    {
     "name": "stdout",
     "output_type": "stream",
     "text": [
      "[]\n"
     ]
    }
   ],
   "source": [
    "b = 2*np.array([np.sqrt(a.m),a.m])\n",
    "c = 2 * b\n",
    "d = 2 * c + 2* c\n",
    "\n",
    "\n",
    "put_out(symbolic=True, rows=1)"
   ]
  },
  {
   "cell_type": "code",
   "execution_count": 7,
   "metadata": {},
   "outputs": [
    {
     "data": {
      "text/markdown": [
       "\n",
       "*SIA 262:2013 Abschnitt 4.4.1.3 (99)*\n",
       "\n",
       "Gemäss SIA 262:2013, Abschnitt 4.4.1.3, wird der Abminderungsfaktor $k_t$ zur Berücksichtigung der Abmessung bestimmt:\n",
       "$$ k_t = \\frac{1}{1+0.5 \\cdot t} $$\n",
       "            "
      ],
      "text/plain": [
       "<IPython.core.display.Markdown object>"
      ]
     },
     "metadata": {},
     "output_type": "display_data"
    },
    {
     "name": "stdout",
     "output_type": "stream",
     "text": [
      "[]\n"
     ]
    }
   ],
   "source": [
    "k_t = ecc.abminderungsfaktor_kt_SIA262_99(2, biegebeanspruchung=False, background=True)\n",
    "\n",
    "put_out()"
   ]
  },
  {
   "cell_type": "markdown",
   "metadata": {},
   "source": [
    "# Output Features"
   ]
  },
  {
   "cell_type": "code",
   "execution_count": 8,
   "metadata": {},
   "outputs": [
    {
     "name": "stdout",
     "output_type": "stream",
     "text": [
      "[]\n"
     ]
    }
   ],
   "source": [
    "variable_pint_test = 15*un.mm\n",
    "variable_test = 20\n",
    "string_test = 'Das ist ein String'\n",
    "\n",
    "Ausnutzung_des_Querkraftwiderstands = 1.0\n",
    "\n",
    "sum_diam_apos_special_comma_test = 15*un.mm\n",
    "\n",
    "\n",
    "put_out(symbolic=True)\n"
   ]
  },
  {
   "cell_type": "code",
   "execution_count": 9,
   "metadata": {},
   "outputs": [],
   "source": [
    "single_variable_test = 55"
   ]
  },
  {
   "cell_type": "code",
   "execution_count": 10,
   "metadata": {},
   "outputs": [
    {
     "name": "stdout",
     "output_type": "stream",
     "text": [
      "[]\n"
     ]
    }
   ],
   "source": [
    "single_variable_test\n",
    "\n",
    "put_out()"
   ]
  },
  {
   "cell_type": "code",
   "execution_count": 11,
   "metadata": {},
   "outputs": [],
   "source": [
    "from numpy.linalg import det"
   ]
  },
  {
   "cell_type": "code",
   "execution_count": 12,
   "metadata": {},
   "outputs": [
    {
     "name": "stdout",
     "output_type": "stream",
     "text": [
      "[]\n"
     ]
    }
   ],
   "source": [
    "vector_test = np.array([variable_test, variable_test, variable_test])\n",
    "matrix_test = np.array([[4, 2, variable_test],[variable_test, 6, variable_test], [2, variable_test, 3]])\n",
    "matrix_operation_test = vector_test * matrix_test\n",
    "matrix_operation_test_2 = matrix_test @ vector_test\n",
    "\n",
    "determinant_test = det(matrix_test)\n",
    "unit_vector_test = vector_test*un.m\n",
    "unit_matrix_test = matrix_test*un.m\n",
    "\n",
    "put_out()\n"
   ]
  },
  {
   "cell_type": "code",
   "execution_count": 13,
   "metadata": {},
   "outputs": [
    {
     "name": "stdout",
     "output_type": "stream",
     "text": [
      "[]\n"
     ]
    }
   ],
   "source": [
    "list_test = [variable_test, variable_test]\n",
    "list_operation_test = 3 * list_test\n",
    "list_pint_test = list_test*un.m\n",
    "\n",
    "put_out()\n"
   ]
  },
  {
   "cell_type": "code",
   "execution_count": 14,
   "metadata": {},
   "outputs": [
    {
     "name": "stdout",
     "output_type": "stream",
     "text": [
      "[]\n"
     ]
    }
   ],
   "source": [
    "txt_test = 20\n",
    "put_out()"
   ]
  },
  {
   "cell_type": "code",
   "execution_count": 15,
   "metadata": {},
   "outputs": [
    {
     "ename": "TypeError",
     "evalue": "put_out() got an unexpected keyword argument 'tablefmt'",
     "output_type": "error",
     "traceback": [
      "\u001b[1;31m---------------------------------------------------------------------------\u001b[0m",
      "\u001b[1;31mTypeError\u001b[0m                                 Traceback (most recent call last)",
      "Cell \u001b[1;32mIn[15], line 13\u001b[0m\n\u001b[0;32m      1\u001b[0m dict_test \u001b[38;5;241m=\u001b[39m {\n\u001b[0;32m      2\u001b[0m     \u001b[38;5;124m\"\u001b[39m\u001b[38;5;124mdiam\u001b[39m\u001b[38;5;124m\"\u001b[39m :variable_pint_test,\n\u001b[0;32m      3\u001b[0m     \u001b[38;5;124m'\u001b[39m\u001b[38;5;124mtxt_hier kann jeder String stehen\u001b[39m\u001b[38;5;124m'\u001b[39m: \u001b[38;5;241m3.234423\u001b[39m}\n\u001b[0;32m      6\u001b[0m dict_2 \u001b[38;5;241m=\u001b[39m {\n\u001b[0;32m      7\u001b[0m     \u001b[38;5;124m'\u001b[39m\u001b[38;5;124mtxt_test\u001b[39m\u001b[38;5;124m'\u001b[39m:list_test,\n\u001b[0;32m      8\u001b[0m     \u001b[38;5;124m'\u001b[39m\u001b[38;5;124mmatrix_test\u001b[39m\u001b[38;5;124m'\u001b[39m:matrix_test,\n\u001b[0;32m      9\u001b[0m     \u001b[38;5;124m'\u001b[39m\u001b[38;5;124mmatrix_unit_test\u001b[39m\u001b[38;5;124m'\u001b[39m: unit_matrix_test\n\u001b[0;32m     10\u001b[0m }\n\u001b[1;32m---> 13\u001b[0m \u001b[43mput_out\u001b[49m\u001b[43m(\u001b[49m\u001b[43mprecision\u001b[49m\u001b[38;5;241;43m=\u001b[39;49m\u001b[38;5;241;43m4\u001b[39;49m\u001b[43m,\u001b[49m\u001b[43m \u001b[49m\u001b[43mrows\u001b[49m\u001b[38;5;241;43m=\u001b[39;49m\u001b[38;5;241;43m4\u001b[39;49m\u001b[43m,\u001b[49m\u001b[43m \u001b[49m\u001b[43mtablefmt\u001b[49m\u001b[38;5;241;43m=\u001b[39;49m\u001b[38;5;124;43m'\u001b[39;49m\u001b[38;5;124;43mpipe\u001b[39;49m\u001b[38;5;124;43m'\u001b[39;49m\u001b[43m)\u001b[49m\n",
      "\u001b[1;31mTypeError\u001b[0m: put_out() got an unexpected keyword argument 'tablefmt'"
     ]
    }
   ],
   "source": [
    "dict_test = {\n",
    "    \"diam\" :variable_pint_test,\n",
    "    'txt_hier kann jeder String stehen': 3.234423}\n",
    "\n",
    "\n",
    "dict_2 = {\n",
    "    'txt_test':list_test,\n",
    "    'matrix_test':matrix_test,\n",
    "    'matrix_unit_test': unit_matrix_test\n",
    "}\n",
    "\n",
    "\n",
    "put_out(precision=4, rows=4, tablefmt='pipe')\n"
   ]
  },
  {
   "cell_type": "code",
   "execution_count": 16,
   "metadata": {},
   "outputs": [
    {
     "ename": "NameError",
     "evalue": "name 'mm' is not defined",
     "output_type": "error",
     "traceback": [
      "\u001b[1;31m---------------------------------------------------------------------------\u001b[0m",
      "\u001b[1;31mNameError\u001b[0m                                 Traceback (most recent call last)",
      "Cell \u001b[1;32mIn[16], line 3\u001b[0m\n\u001b[0;32m      1\u001b[0m NPK_G \u001b[38;5;241m=\u001b[39m emt\u001b[38;5;241m.\u001b[39mBeton(\u001b[38;5;124m\"\u001b[39m\u001b[38;5;124mG\u001b[39m\u001b[38;5;124m\"\u001b[39m)\n\u001b[0;32m      2\u001b[0m NPK_G\u001b[38;5;241m.\u001b[39mtxt_Expositionsklassen \u001b[38;5;241m=\u001b[39m \u001b[38;5;124m'\u001b[39m\u001b[38;5;124mXC1\u001b[39m\u001b[38;5;124m'\u001b[39m\n\u001b[1;32m----> 3\u001b[0m NPK_G\u001b[38;5;241m.\u001b[39mD_max \u001b[38;5;241m=\u001b[39m \u001b[38;5;241m32\u001b[39m\u001b[38;5;241m*\u001b[39m\u001b[43mmm\u001b[49m\n\u001b[0;32m      4\u001b[0m NPK_G\u001b[38;5;241m.\u001b[39mtxt_Druckfestigkeitsklasse \u001b[38;5;241m=\u001b[39m \u001b[38;5;124m'\u001b[39m\u001b[38;5;124mC40/50\u001b[39m\u001b[38;5;124m'\u001b[39m\n\u001b[0;32m      5\u001b[0m \u001b[38;5;28mprint\u001b[39m(NPK_G)\n",
      "\u001b[1;31mNameError\u001b[0m: name 'mm' is not defined"
     ]
    }
   ],
   "source": [
    "NPK_G = emt.Beton(\"G\")\n",
    "NPK_G.txt_Expositionsklassen = 'XC1'\n",
    "NPK_G.D_max = 32*mm\n",
    "NPK_G.txt_Druckfestigkeitsklasse = 'C40/50'\n",
    "print(NPK_G)"
   ]
  },
  {
   "cell_type": "code",
   "execution_count": 15,
   "metadata": {},
   "outputs": [
    {
     "data": {
      "text/markdown": [
       "| Bezeichnung                                   | Wert                                          |\n",
       "|:----------------------------------------------|:----------------------------------------------|\n",
       "| $\\text{name}$                                 | $NPK G$                                       |\n",
       "| $\\rho$                                        | $2500.0 \\ \\frac{\\mathrm{kg}}{\\mathrm{m}^{3}}$ |\n",
       "| $\\text{Druckfestigkeitsklasse}$               | $C40/50$                                      |\n",
       "| $\\text{Expositionsklassen}$                   | $XC1$                                         |\n",
       "| $D_{max}$                                     | $32 \\ \\mathrm{mm}$                            |\n",
       "| $C_{l}$                                       | $0.1$                                         |\n",
       "| $\\text{Konsistenzklasse}$                     | $C3$                                          |\n",
       "| $\\text{Frost}\\text{Tausalz}\\text{Widerstand}$ | $('hoch',)$                                   |\n",
       "| $f_{ck}$                                      | $30.0 \\ \\frac{\\mathrm{N}}{\\mathrm{mm}^{2}}$   |\n",
       "| $f_{ctm}$                                     | $2.9 \\ \\frac{\\mathrm{N}}{\\mathrm{mm}^{2}}$    |"
      ],
      "text/plain": [
       "<engicalc.materials.Beton at 0x2a142d7bc50>"
      ]
     },
     "execution_count": 15,
     "metadata": {},
     "output_type": "execute_result"
    }
   ],
   "source": [
    "NPK_G"
   ]
  },
  {
   "cell_type": "code",
   "execution_count": null,
   "metadata": {},
   "outputs": [],
   "source": []
  },
  {
   "cell_type": "code",
   "execution_count": null,
   "metadata": {},
   "outputs": [],
   "source": []
  }
 ],
 "metadata": {
  "kernelspec": {
   "display_name": "calc",
   "language": "python",
   "name": "python3"
  },
  "language_info": {
   "codemirror_mode": {
    "name": "ipython",
    "version": 3
   },
   "file_extension": ".py",
   "mimetype": "text/x-python",
   "name": "python",
   "nbconvert_exporter": "python",
   "pygments_lexer": "ipython3",
   "version": "3.11.9"
  }
 },
 "nbformat": 4,
 "nbformat_minor": 2
}
