{
 "cells": [
  {
   "cell_type": "raw",
   "metadata": {
    "vscode": {
     "languageId": "raw"
    }
   },
   "source": [
    "---\n",
    "title: \"My Project\"\n",
    "format: gfm\n",
    "---"
   ]
  },
  {
   "cell_type": "markdown",
   "metadata": {},
   "source": [
    "# EngiCalc\n",
    "\n",
    "EngiCalc is a Python package designed to assist engineers in performing frequent calculations more efficiently. It aims to replace Excel in the daily workflow by providing easily readable calculation sheets in Jupyter Notebooks, which can then be output as Word files using Quarto. Python code is easier to check for errors, making it a more reliable choice for engineering calculations.\n",
    "\n",
    "## Installation\n",
    "\n",
    "Install from this Repo"
   ]
  },
  {
   "cell_type": "code",
   "execution_count": 1,
   "metadata": {},
   "outputs": [],
   "source": [
    "from engicalc import *\n"
   ]
  },
  {
   "cell_type": "markdown",
   "metadata": {},
   "source": [
    "## Functionality"
   ]
  },
  {
   "cell_type": "markdown",
   "metadata": {},
   "source": [
    "### Integration of Pint units"
   ]
  },
  {
   "cell_type": "markdown",
   "metadata": {},
   "source": [
    "#### Common Units"
   ]
  },
  {
   "cell_type": "markdown",
   "metadata": {},
   "source": [
    "common units are stored in variables. They are imported with the import of the package"
   ]
  },
  {
   "cell_type": "code",
   "execution_count": 2,
   "metadata": {},
   "outputs": [
    {
     "name": "stdout",
     "output_type": "stream",
     "text": [
      "kg\n",
      "t\n",
      "kNm\n",
      "Nm\n",
      "N\n",
      "kN\n",
      "MN\n",
      "m\n",
      "cm\n",
      "dm\n",
      "mm\n",
      "km\n",
      "rad\n",
      "deg\n",
      "%\n",
      "‰\n",
      "s\n",
      "°C\n",
      "K\n",
      "MPa\n",
      "\n"
     ]
    }
   ],
   "source": [
    "for unit in units.items():\n",
    "    print(unit[1])"
   ]
  },
  {
   "cell_type": "markdown",
   "metadata": {},
   "source": [
    "#### Handling Units "
   ]
  },
  {
   "cell_type": "markdown",
   "metadata": {},
   "source": [
    "Units can be added with operators: "
   ]
  },
  {
   "cell_type": "code",
   "execution_count": 3,
   "metadata": {},
   "outputs": [],
   "source": [
    "v = 30 *kNm\n",
    "\n",
    "v_t = v + 30*kNm\n"
   ]
  },
  {
   "cell_type": "markdown",
   "metadata": {},
   "source": [
    "The whole unit registry is imported and can always be accessed:\n"
   ]
  },
  {
   "cell_type": "code",
   "execution_count": 4,
   "metadata": {},
   "outputs": [
    {
     "name": "stdout",
     "output_type": "stream",
     "text": [
      "400 h\n"
     ]
    }
   ],
   "source": [
    "u = 400 *ureg.hours\n",
    "\n",
    "print(u)"
   ]
  },
  {
   "cell_type": "markdown",
   "metadata": {},
   "source": [
    "pint conversion"
   ]
  },
  {
   "cell_type": "code",
   "execution_count": 5,
   "metadata": {},
   "outputs": [
    {
     "data": {
      "text/html": [
       "1440000 s"
      ],
      "text/latex": [
       "$1440000\\ \\mathrm{s}$"
      ],
      "text/plain": [
       "<Quantity(1440000, 'second')>"
      ]
     },
     "execution_count": 5,
     "metadata": {},
     "output_type": "execute_result"
    }
   ],
   "source": [
    "u.to(s)"
   ]
  },
  {
   "cell_type": "markdown",
   "metadata": {},
   "source": [
    "### Markdown rendering"
   ]
  },
  {
   "cell_type": "markdown",
   "metadata": {},
   "source": [
    "#### Numeric representation"
   ]
  },
  {
   "cell_type": "code",
   "execution_count": 6,
   "metadata": {},
   "outputs": [
    {
     "data": {
      "text/markdown": [
       "$$\\begin{aligned}v& = 30 \\ \\mathrm{kNm} \\\\ v_{t}& = 60 \\ \\mathrm{kNm}\\end{aligned}$$"
      ],
      "text/plain": [
       "<IPython.core.display.Markdown object>"
      ]
     },
     "metadata": {},
     "output_type": "display_data"
    }
   ],
   "source": [
    "v = 30 *kNm\n",
    "\n",
    "v_t = v + 30*kNm\n",
    "\n",
    "put_out(symbolic=False)"
   ]
  },
  {
   "cell_type": "markdown",
   "metadata": {},
   "source": [
    "#### Symbolic Representation"
   ]
  },
  {
   "cell_type": "markdown",
   "metadata": {},
   "source": [
    "using Sympy sympify for the symbolic representation"
   ]
  },
  {
   "cell_type": "code",
   "execution_count": 7,
   "metadata": {},
   "outputs": [],
   "source": [
    "import sympy as sp"
   ]
  },
  {
   "cell_type": "code",
   "execution_count": 8,
   "metadata": {},
   "outputs": [
    {
     "data": {
      "text/latex": [
       "$\\displaystyle M^{GZT2}_{Rd}$"
      ],
      "text/plain": [
       "M_Rd__GZT2"
      ]
     },
     "execution_count": 8,
     "metadata": {},
     "output_type": "execute_result"
    }
   ],
   "source": [
    "sp.sympify(\"M_Rd__GZT2\")"
   ]
  },
  {
   "cell_type": "code",
   "execution_count": 9,
   "metadata": {},
   "outputs": [
    {
     "data": {
      "text/markdown": [
       "$$\\begin{aligned}M^{GZT2}_{Rd}& = 40 \\cdot \\mathrm{kNm} = 40 \\ \\mathrm{kNm} \\\\ M^{Top}_{Rd}& = 2130 \\cdot \\mathrm{kNm} = 2130 \\ \\mathrm{kNm} \\\\ M^{Bot}_{Rd}& = 44 \\cdot \\mathrm{kNm} = 44 \\ \\mathrm{kNm} \\\\ M_{Rd}& = \\left(M^{GZT2}_{Rd} + M^{Top}_{Rd} + M^{Bot}_{Rd} + 3409.31 \\cdot \\mathrm{kNm}\\right) \\cdot \\frac{1}{40 \\cdot \\mathrm{m}} \\cdot 32 \\cdot \\mathrm{cm} = 44.99 \\ \\mathrm{kNm}\\end{aligned}$$"
      ],
      "text/plain": [
       "<IPython.core.display.Markdown object>"
      ]
     },
     "metadata": {},
     "output_type": "display_data"
    }
   ],
   "source": [
    "M_Rd__GZT2 = 40*kNm \n",
    "\n",
    "M_Rd__Top = 2130*kNm \n",
    "\n",
    "M_Rd__Bot = 44*kNm\n",
    "\n",
    "\n",
    "M_Rd = ((M_Rd__GZT2 + M_Rd__Top+M_Rd__Bot + 3409.31*kNm) / (40*m) * 32*cm ).to(kNm)\n",
    "\n",
    "put_out()"
   ]
  },
  {
   "cell_type": "code",
   "execution_count": 10,
   "metadata": {},
   "outputs": [
    {
     "data": {
      "text/markdown": [
       "$$\\begin{aligned}\\Theta_{pl A}& = 5 \\\\ m_{u A}& = 10 \\\\ m_{y A}& = 5 \\\\ l& = 1 \\\\ b_{w}& = 0.1 \\\\ EI_{II}& = 20 \\\\ q_{S1 A}& = 10\\end{aligned}$$"
      ],
      "text/plain": [
       "<IPython.core.display.Markdown object>"
      ]
     },
     "metadata": {},
     "output_type": "display_data"
    }
   ],
   "source": [
    "Theta_pl_A= 5 \n",
    "m_u_A = 10 \n",
    "m_y_A=5\n",
    "l=1\n",
    "b_w=0.1\n",
    "EI_II=20\n",
    "q_S1_A= 10\n",
    "\n",
    "put_out()\n"
   ]
  },
  {
   "cell_type": "code",
   "execution_count": 11,
   "metadata": {},
   "outputs": [
    {
     "data": {
      "text/markdown": [
       "$$\\begin{aligned}\\alpha_{u A}& = \\frac{\\sqrt{\\Theta_{pl A}}}{2} = 1.12 \\\\ \\Delta& = \\left(\\sin{\\left(\\alpha_{u A} \\right)} + \\frac{\\left(m_{u A} - m_{y A}\\right) \\cdot l \\cdot b_{w}}{3 \\cdot EI_{II}}\\right) \\cdot 24 \\cdot EI_{II} \\cdot \\frac{1}{l^{3}} \\cdot \\mathrm{m} = 435.64 \\ \\mathrm{m} \\\\ q_{u A}& = \\Delta + q_{S1 A} \\cdot \\mathrm{m} = 445.64 \\ \\mathrm{m}\\end{aligned}$$"
      ],
      "text/plain": [
       "<IPython.core.display.Markdown object>"
      ]
     },
     "metadata": {},
     "output_type": "display_data"
    }
   ],
   "source": [
    "alpha_u_A = np.sqrt(Theta_pl_A) / 2\n",
    "Delta = ((np.sin(alpha_u_A) + (m_u_A - m_y_A) * l * b_w / (3 * EI_II)) * 24 * EI_II / l**3)*m\n",
    "q_u_A = Delta + q_S1_A*m\n",
    "put_out()"
   ]
  },
  {
   "cell_type": "markdown",
   "metadata": {},
   "source": [
    "##### Only symbolic"
   ]
  },
  {
   "cell_type": "code",
   "execution_count": 12,
   "metadata": {},
   "outputs": [
    {
     "data": {
      "text/markdown": [
       "$$\\begin{aligned}M_{Rd}& = \\left(M^{GZT2}_{Rd} + M^{Top}_{Rd} + M^{Bot}_{Rd} + 3409.31 \\cdot \\mathrm{kNm}\\right) \\cdot \\frac{1}{40 \\cdot \\mathrm{m}} \\cdot 32 \\cdot \\mathrm{cm}\\end{aligned}$$"
      ],
      "text/plain": [
       "<IPython.core.display.Markdown object>"
      ]
     },
     "metadata": {},
     "output_type": "display_data"
    }
   ],
   "source": [
    "M_Rd\n",
    "\n",
    "put_out(numeric=False)"
   ]
  },
  {
   "cell_type": "markdown",
   "metadata": {},
   "source": [
    "#### Recalling variables"
   ]
  },
  {
   "cell_type": "code",
   "execution_count": 13,
   "metadata": {},
   "outputs": [
    {
     "data": {
      "text/markdown": [
       "$$\\begin{aligned}v& = 30 \\cdot \\mathrm{kNm} = 30 \\ \\mathrm{kNm} \\\\ M_{Rd}& = \\left(M^{GZT2}_{Rd} + M^{Top}_{Rd} + M^{Bot}_{Rd} + 3409.31 \\cdot \\mathrm{kNm}\\right) \\cdot \\frac{1}{40 \\cdot \\mathrm{m}} \\cdot 32 \\cdot \\mathrm{cm} = 44.99 \\ \\mathrm{kNm}\\end{aligned}$$"
      ],
      "text/plain": [
       "<IPython.core.display.Markdown object>"
      ]
     },
     "metadata": {},
     "output_type": "display_data"
    }
   ],
   "source": [
    "v\n",
    "M_Rd\n",
    "\n",
    "put_out()"
   ]
  },
  {
   "cell_type": "markdown",
   "metadata": {},
   "source": [
    "#### Multiple Rows"
   ]
  },
  {
   "cell_type": "code",
   "execution_count": 14,
   "metadata": {},
   "outputs": [
    {
     "data": {
      "text/markdown": [
       "$$\\begin{aligned}v& = 30 \\ \\mathrm{kNm} \\quad & M^{Bot}_{Rd}& = 44 \\ \\mathrm{kNm} \\quad & M^{Top}_{Rd}& = 2130 \\ \\mathrm{kNm}\\end{aligned}$$"
      ],
      "text/plain": [
       "<IPython.core.display.Markdown object>"
      ]
     },
     "metadata": {},
     "output_type": "display_data"
    }
   ],
   "source": [
    "v\n",
    "M_Rd__Bot\n",
    "M_Rd__Top\n",
    "put_out(rows=3, symbolic=False)"
   ]
  },
  {
   "cell_type": "markdown",
   "metadata": {},
   "source": [
    "#### Numpy functions"
   ]
  },
  {
   "cell_type": "code",
   "execution_count": 15,
   "metadata": {},
   "outputs": [
    {
     "data": {
      "text/markdown": [
       "$$\\begin{aligned}\\alpha& = 45 \\cdot \\mathrm{°} = 45 \\ \\mathrm{°} \\\\ test& = \\operatorname{atan}{\\left(\\alpha + 25 \\cdot \\mathrm{°} \\right)} = 0.88 \\ \\mathrm{rad}\\end{aligned}$$"
      ],
      "text/plain": [
       "<IPython.core.display.Markdown object>"
      ]
     },
     "metadata": {},
     "output_type": "display_data"
    }
   ],
   "source": [
    "alpha = 45*deg\n",
    "test = np.atan(alpha + 25*deg)\n",
    "\n",
    "put_out()"
   ]
  },
  {
   "cell_type": "code",
   "execution_count": 16,
   "metadata": {},
   "outputs": [
    {
     "data": {
      "text/markdown": [
       "$$\\begin{aligned}F_{x}& = \\left|{\\left[\\begin{matrix}- 13 \\cdot \\mathrm{kN}\\\\30 \\cdot \\mathrm{kN}\\\\23 \\cdot \\mathrm{kN}\\\\12 \\cdot \\mathrm{kN}\\end{matrix}\\right]}\\right| = \\left[\\begin{matrix}13\\\\30\\\\23\\\\12\\end{matrix}\\right] \\ \\mathrm{kN} \\\\ F_{z}& = F_{x} \\cdot \\operatorname{atan}{\\left(\\alpha \\right)} = \\left[\\begin{matrix}8.66\\\\19.97\\\\15.31\\\\7.99\\end{matrix}\\right] \\ \\mathrm{kN} \\cdot \\mathrm{rad}\\end{aligned}$$"
      ],
      "text/plain": [
       "<IPython.core.display.Markdown object>"
      ]
     },
     "metadata": {},
     "output_type": "display_data"
    }
   ],
   "source": [
    "F_x = np.abs(np.array([-13,30,23,12])*kN)\n",
    "F_z = F_x*np.atan(alpha)\n",
    "\n",
    "put_out()"
   ]
  },
  {
   "cell_type": "markdown",
   "metadata": {},
   "source": [
    "#### Raw Markdown"
   ]
  },
  {
   "cell_type": "code",
   "execution_count": 17,
   "metadata": {},
   "outputs": [
    {
     "data": {
      "text/markdown": [
       "$$\\begin{aligned}v& = 30 \\ \\mathrm{kNm} \\\\ M^{Bot}_{Rd}& = 44 \\ \\mathrm{kNm} \\\\ M^{Top}_{Rd}& = 2130 \\ \\mathrm{kNm}\\end{aligned}$$"
      ],
      "text/plain": [
       "<IPython.core.display.Markdown object>"
      ]
     },
     "metadata": {},
     "output_type": "display_data"
    },
    {
     "name": "stdout",
     "output_type": "stream",
     "text": [
      "$$\\begin{aligned}v& = 30 \\ \\mathrm{kNm} \\\\ M^{Bot}_{Rd}& = 44 \\ \\mathrm{kNm} \\\\ M^{Top}_{Rd}& = 2130 \\ \\mathrm{kNm}\\end{aligned}$$\n"
     ]
    }
   ],
   "source": [
    "v\n",
    "M_Rd__Bot\n",
    "M_Rd__Top\n",
    "put_out(symbolic=False, raw=True)"
   ]
  },
  {
   "cell_type": "markdown",
   "metadata": {},
   "source": [
    "#### Special Characters"
   ]
  },
  {
   "cell_type": "code",
   "execution_count": 19,
   "metadata": {},
   "outputs": [
    {
     "data": {
      "text/markdown": [
       "$$\\begin{aligned}\\oslash_{\\infty}& = 20 \\\\ \\infty^{\\infty \\oslash}_{\\infty}& = 10\\end{aligned}$$"
      ],
      "text/plain": [
       "<IPython.core.display.Markdown object>"
      ]
     },
     "metadata": {},
     "output_type": "display_data"
    }
   ],
   "source": [
    "diam_infty = 20\n",
    "\n",
    "infty__infty_infty__diam = 10\n",
    "put_out(raw=False)"
   ]
  }
 ],
 "metadata": {
  "kernelspec": {
   "display_name": "engineering",
   "language": "python",
   "name": "python3"
  },
  "language_info": {
   "codemirror_mode": {
    "name": "ipython",
    "version": 3
   },
   "file_extension": ".py",
   "mimetype": "text/x-python",
   "name": "python",
   "nbconvert_exporter": "python",
   "pygments_lexer": "ipython3",
   "version": "3.10.16"
  }
 },
 "nbformat": 4,
 "nbformat_minor": 4
}
