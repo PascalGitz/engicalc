{
 "cells": [
  {
   "cell_type": "code",
   "execution_count": 1,
   "metadata": {},
   "outputs": [],
   "source": [
    "from engicalc import *\n",
    "import engicalc.concrete as ecc\n",
    "import engicalc.materials as emt\n",
    "import engicalc.units as un\n",
    "\n",
    "import sympy as sp\n",
    "import numpy as np"
   ]
  },
  {
   "cell_type": "code",
   "execution_count": 2,
   "metadata": {},
   "outputs": [
    {
     "ename": "ValueError",
     "evalue": "not enough values to unpack (expected 3, got 2)",
     "output_type": "error",
     "traceback": [
      "\u001b[1;31m---------------------------------------------------------------------------\u001b[0m",
      "\u001b[1;31mValueError\u001b[0m                                Traceback (most recent call last)",
      "Cell \u001b[1;32mIn[2], line 9\u001b[0m\n\u001b[0;32m      6\u001b[0m c \u001b[38;5;241m=\u001b[39m theta \u001b[38;5;241m*\u001b[39m a \u001b[38;5;241m*\u001b[39mnp\u001b[38;5;241m.\u001b[39marray([\u001b[38;5;241m1\u001b[39m,\u001b[38;5;241m2\u001b[39m])\n\u001b[0;32m      7\u001b[0m q \u001b[38;5;241m=\u001b[39m np\u001b[38;5;241m.\u001b[39mcos(\u001b[38;5;241m45\u001b[39m\u001b[38;5;241m*\u001b[39mun\u001b[38;5;241m.\u001b[39mdeg)\n\u001b[1;32m----> 9\u001b[0m \u001b[43mput_out\u001b[49m\u001b[43m(\u001b[49m\u001b[43m)\u001b[49m\n",
      "File \u001b[1;32mc:\\users\\pascal gitz\\projekte\\engicalc\\engicalc\\output.py:143\u001b[0m, in \u001b[0;36mput_out\u001b[1;34m(precision, symbolic, offset, rows, evaluate)\u001b[0m\n\u001b[0;32m    141\u001b[0m \u001b[38;5;250m\u001b[39m\u001b[38;5;124;03m\"\"\"Constructs and displays the final Markdown output.\"\"\"\u001b[39;00m\n\u001b[0;32m    142\u001b[0m parsed_lines \u001b[38;5;241m=\u001b[39m cell_parser(offset)\n\u001b[1;32m--> 143\u001b[0m equations \u001b[38;5;241m=\u001b[39m \u001b[43mbuild_equations\u001b[49m\u001b[43m(\u001b[49m\u001b[43mparsed_lines\u001b[49m\u001b[43m,\u001b[49m\u001b[43m \u001b[49m\u001b[43msymbolic\u001b[49m\u001b[38;5;241;43m=\u001b[39;49m\u001b[43msymbolic\u001b[49m\u001b[43m,\u001b[49m\u001b[43m \u001b[49m\u001b[43mevaluate\u001b[49m\u001b[38;5;241;43m=\u001b[39;49m\u001b[43mevaluate\u001b[49m\u001b[43m,\u001b[49m\u001b[43m \u001b[49m\u001b[43mprecision\u001b[49m\u001b[38;5;241;43m=\u001b[39;49m\u001b[43mprecision\u001b[49m\u001b[43m)\u001b[49m\n\u001b[0;32m    145\u001b[0m \u001b[38;5;66;03m# Horizontal display with aligned '=' signs\u001b[39;00m\n\u001b[0;32m    146\u001b[0m \u001b[38;5;28;01mif\u001b[39;00m \u001b[38;5;28mlen\u001b[39m(equations) \u001b[38;5;241m==\u001b[39m \u001b[38;5;241m0\u001b[39m:\n",
      "File \u001b[1;32mc:\\users\\pascal gitz\\projekte\\engicalc\\engicalc\\output.py:133\u001b[0m, in \u001b[0;36mbuild_equations\u001b[1;34m(parsed_lines, symbolic, evaluate, precision)\u001b[0m\n\u001b[0;32m    130\u001b[0m \u001b[38;5;250m\u001b[39m\u001b[38;5;124;03m\"\"\"Builds a list of Markdown equations from parsed assignment lines.\"\"\"\u001b[39;00m\n\u001b[0;32m    131\u001b[0m equations \u001b[38;5;241m=\u001b[39m []\n\u001b[1;32m--> 133\u001b[0m \u001b[38;5;28;01mfor\u001b[39;00m line_type, line, rhs_value \u001b[38;5;129;01min\u001b[39;00m parsed_lines:\n\u001b[0;32m    134\u001b[0m     \u001b[38;5;28;01mif\u001b[39;00m line_type \u001b[38;5;241m==\u001b[39m \u001b[38;5;124m'\u001b[39m\u001b[38;5;124massignment\u001b[39m\u001b[38;5;124m'\u001b[39m:\n\u001b[0;32m    135\u001b[0m         equation \u001b[38;5;241m=\u001b[39m format_equation(line, rhs_value, symbolic, evaluate, precision)\n",
      "\u001b[1;31mValueError\u001b[0m: not enough values to unpack (expected 3, got 2)"
     ]
    }
   ],
   "source": [
    "theta = 10\n",
    "v = theta *3 + np.sqrt(4)\n",
    "\n",
    "\n",
    "a = 40\n",
    "c = theta * a *np.array([1,2])\n",
    "q = np.cos(45*un.deg)\n",
    "\n",
    "put_out()"
   ]
  },
  {
   "cell_type": "code",
   "execution_count": 3,
   "metadata": {},
   "outputs": [
    {
     "data": {
      "text/plain": [
       "'1 + 20'"
      ]
     },
     "execution_count": 3,
     "metadata": {},
     "output_type": "execute_result"
    }
   ],
   "source": [
    "import numpy as np\n",
    "format_symbolic(\"20+1\", evaluate=False)\n",
    "# Returns: '\\\\begin{bmatrix}1.23 & 2.35\\\\\\\\3.46 & 4.57\\\\end{bmatrix}'\n"
   ]
  },
  {
   "cell_type": "code",
   "execution_count": 4,
   "metadata": {},
   "outputs": [
    {
     "data": {
      "text/markdown": [
       "$$\n",
       "\\begin{aligned}\n",
       "\\left\\{ \\begin{array}{cl}\n",
       "diam_{x} = 20*  = 20 \\ \\mathrm{mm} & \\quad \\textrm{None} \\\\\n",
       "s_{x} = 150*  = 150 \\ \\mathrm{mm} & \\quad \\textrm{None} \\\\\n",
       "b_{w} = 1*  = 1 \\ \\mathrm{m} & \\quad \\textrm{None}\n",
       "\\end{{array}} \\right. \\end{aligned}\n",
       "$$"
      ],
      "text/plain": [
       "<IPython.core.display.Markdown object>"
      ]
     },
     "metadata": {},
     "output_type": "display_data"
    }
   ],
   "source": [
    "diam_x = 20*un.mm\n",
    "s_x = 150*un.mm\n",
    "b_w = 1*un.m\n",
    "\n",
    "put_out()\n"
   ]
  },
  {
   "cell_type": "code",
   "execution_count": 5,
   "metadata": {},
   "outputs": [
    {
     "data": {
      "text/markdown": [
       "$$\n",
       "\\begin{aligned}\n",
       "\\left\\{ \\begin{array}{cl}\n",
       "a_{s} = \\frac{\\pi diam_{x}^{2}}{4 s_{x}} = 2.09 \\ \\mathrm{mm} & \\quad \\textrm{None} \\\\\n",
       "A_{s} = a_{s} b_{w} = 2094.4 \\ \\mathrm{mm}^{2} & \\quad \\textrm{None} \\\\\n",
       "put_out(symbolic = True) = Error evaluating: unmatched ')' (<string>, line 1) & \\quad \\textrm{None}\n",
       "\\end{{array}} \\right. \\end{aligned}\n",
       "$$"
      ],
      "text/plain": [
       "<IPython.core.display.Markdown object>"
      ]
     },
     "metadata": {},
     "output_type": "display_data"
    }
   ],
   "source": [
    "a_s = diam_x **2 / 4 * np.pi /s_x\n",
    "A_s = (a_s *b_w).to(un.mm**2)\n",
    "\n",
    "put_out(symbolic=True)"
   ]
  },
  {
   "cell_type": "code",
   "execution_count": 6,
   "metadata": {},
   "outputs": [
    {
     "ename": "ValueError",
     "evalue": "too many values to unpack (expected 2)",
     "output_type": "error",
     "traceback": [
      "\u001b[1;31m---------------------------------------------------------------------------\u001b[0m",
      "\u001b[1;31mValueError\u001b[0m                                Traceback (most recent call last)",
      "Cell \u001b[1;32mIn[6], line 6\u001b[0m\n\u001b[0;32m      2\u001b[0m c \u001b[38;5;241m=\u001b[39m \u001b[38;5;241m2\u001b[39m \u001b[38;5;241m*\u001b[39m b\n\u001b[0;32m      3\u001b[0m d \u001b[38;5;241m=\u001b[39m \u001b[38;5;241m2\u001b[39m \u001b[38;5;241m*\u001b[39m c \u001b[38;5;241m+\u001b[39m \u001b[38;5;241m2\u001b[39m\u001b[38;5;241m*\u001b[39m c\n\u001b[1;32m----> 6\u001b[0m \u001b[43mput_out\u001b[49m\u001b[43m(\u001b[49m\u001b[43msymbolic\u001b[49m\u001b[38;5;241;43m=\u001b[39;49m\u001b[38;5;28;43;01mTrue\u001b[39;49;00m\u001b[43m,\u001b[49m\u001b[43m \u001b[49m\u001b[43mrows\u001b[49m\u001b[38;5;241;43m=\u001b[39;49m\u001b[38;5;241;43m1\u001b[39;49m\u001b[43m)\u001b[49m\n",
      "File \u001b[1;32mc:\\users\\pascal gitz\\projekte\\engicalc\\engicalc\\output.py:183\u001b[0m, in \u001b[0;36mput_out\u001b[1;34m(precision, symbolic, offset, rows, evaluate)\u001b[0m\n\u001b[0;32m    181\u001b[0m \u001b[38;5;250m\u001b[39m\u001b[38;5;124;03m\"\"\"Constructs and displays the final Markdown output.\"\"\"\u001b[39;00m\n\u001b[0;32m    182\u001b[0m parsed_lines \u001b[38;5;241m=\u001b[39m cell_parser(offset)\n\u001b[1;32m--> 183\u001b[0m equations \u001b[38;5;241m=\u001b[39m \u001b[43mbuild_conditional_equation\u001b[49m\u001b[43m(\u001b[49m\u001b[43mparsed_lines\u001b[49m\u001b[43m,\u001b[49m\u001b[43m \u001b[49m\u001b[43msymbolic\u001b[49m\u001b[38;5;241;43m=\u001b[39;49m\u001b[43msymbolic\u001b[49m\u001b[43m,\u001b[49m\u001b[43m \u001b[49m\u001b[43mevaluate\u001b[49m\u001b[38;5;241;43m=\u001b[39;49m\u001b[43mevaluate\u001b[49m\u001b[43m,\u001b[49m\u001b[43m \u001b[49m\u001b[43mprecision\u001b[49m\u001b[38;5;241;43m=\u001b[39;49m\u001b[43mprecision\u001b[49m\u001b[43m)\u001b[49m\n\u001b[0;32m    185\u001b[0m \u001b[38;5;66;03m# Horizontal display with aligned '=' signs\u001b[39;00m\n\u001b[0;32m    186\u001b[0m \u001b[38;5;28;01mif\u001b[39;00m \u001b[38;5;28mlen\u001b[39m(equations) \u001b[38;5;241m==\u001b[39m \u001b[38;5;241m0\u001b[39m:\n",
      "File \u001b[1;32mc:\\users\\pascal gitz\\projekte\\engicalc\\engicalc\\output.py:163\u001b[0m, in \u001b[0;36mbuild_conditional_equation\u001b[1;34m(parsed_lines, symbolic, evaluate, precision)\u001b[0m\n\u001b[0;32m    161\u001b[0m     \u001b[38;5;28;01melif\u001b[39;00m line_type \u001b[38;5;241m==\u001b[39m \u001b[38;5;124m'\u001b[39m\u001b[38;5;124massignment\u001b[39m\u001b[38;5;124m'\u001b[39m:\n\u001b[0;32m    162\u001b[0m         rhs_value \u001b[38;5;241m=\u001b[39m conditional[\u001b[38;5;241m-\u001b[39m\u001b[38;5;241m1\u001b[39m]  \u001b[38;5;66;03m# Extract the evaluated value\u001b[39;00m\n\u001b[1;32m--> 163\u001b[0m         equation \u001b[38;5;241m=\u001b[39m \u001b[43mbuild_equation\u001b[49m\u001b[43m(\u001b[49m\u001b[43mline\u001b[49m\u001b[43m,\u001b[49m\u001b[43m \u001b[49m\u001b[43mrhs_value\u001b[49m\u001b[43m,\u001b[49m\u001b[43m \u001b[49m\u001b[43msymbolic\u001b[49m\u001b[43m,\u001b[49m\u001b[43m \u001b[49m\u001b[43mevaluate\u001b[49m\u001b[43m,\u001b[49m\u001b[43m \u001b[49m\u001b[43mprecision\u001b[49m\u001b[43m)\u001b[49m\n\u001b[0;32m    164\u001b[0m         conditional_block\u001b[38;5;241m.\u001b[39mappend(equation)\n\u001b[0;32m    166\u001b[0m \u001b[38;5;28;01mif\u001b[39;00m conditional_block:\n\u001b[0;32m    167\u001b[0m     \u001b[38;5;66;03m# Process the last conditional block\u001b[39;00m\n",
      "File \u001b[1;32mc:\\users\\pascal gitz\\projekte\\engicalc\\engicalc\\output.py:121\u001b[0m, in \u001b[0;36mbuild_equation\u001b[1;34m(line, rhs_value, show_symbolic, evaluate, precision)\u001b[0m\n\u001b[0;32m    119\u001b[0m \u001b[38;5;250m\u001b[39m\u001b[38;5;124;03m\"\"\"Builds a Markdown equation from a parsed assignment line.\"\"\"\u001b[39;00m\n\u001b[0;32m    120\u001b[0m \u001b[38;5;66;03m# Split the line by the '=' sign\u001b[39;00m\n\u001b[1;32m--> 121\u001b[0m lhs, rhs \u001b[38;5;241m=\u001b[39m line\u001b[38;5;241m.\u001b[39msplit(\u001b[38;5;124m'\u001b[39m\u001b[38;5;124m=\u001b[39m\u001b[38;5;124m'\u001b[39m)\n\u001b[0;32m    123\u001b[0m \u001b[38;5;66;03m# Strip any leading/trailing whitespace\u001b[39;00m\n\u001b[0;32m    124\u001b[0m lhs \u001b[38;5;241m=\u001b[39m lhs\u001b[38;5;241m.\u001b[39mstrip()\n",
      "\u001b[1;31mValueError\u001b[0m: too many values to unpack (expected 2)"
     ]
    }
   ],
   "source": [
    "b = 2*np.array([np.sqrt(a.m),a.m])\n",
    "c = 2 * b\n",
    "d = 2 * c + 2* c\n",
    "\n",
    "\n",
    "put_out(symbolic=True, rows=1)"
   ]
  },
  {
   "cell_type": "code",
   "execution_count": 7,
   "metadata": {},
   "outputs": [
    {
     "data": {
      "text/markdown": [
       "\n",
       "*SIA 262:2013 Abschnitt 4.4.1.3 (99)*\n",
       "\n",
       "Gemäss SIA 262:2013, Abschnitt 4.4.1.3, wird der Abminderungsfaktor $k_t$ zur Berücksichtigung der Abmessung bestimmt:\n",
       "$$ k_t = \\frac{1}{1+0.5 \\cdot t} $$\n",
       "            "
      ],
      "text/plain": [
       "<IPython.core.display.Markdown object>"
      ]
     },
     "metadata": {},
     "output_type": "display_data"
    },
    {
     "data": {
      "text/markdown": [
       "$$\n",
       "\\begin{aligned}\n",
       "k_{t} & = 0.5 \\end{aligned}\n",
       "$$"
      ],
      "text/plain": [
       "<IPython.core.display.Markdown object>"
      ]
     },
     "metadata": {},
     "output_type": "display_data"
    }
   ],
   "source": [
    "k_t = ecc.abminderungsfaktor_kt_SIA262_99(2, biegebeanspruchung=False, background=True)\n",
    "\n",
    "put_out()"
   ]
  },
  {
   "cell_type": "markdown",
   "metadata": {},
   "source": [
    "# Output Features"
   ]
  },
  {
   "cell_type": "code",
   "execution_count": 8,
   "metadata": {},
   "outputs": [
    {
     "data": {
      "text/markdown": [
       "$$\n",
       "\\begin{aligned}\n",
       "variable_{pint test} & = 15 = 15 \\ \\mathrm{mm} \\quad & variable_{test} & = 20 = 20 \\quad & string_{test} & = \\mathtt{\\text{DasisteinString}} = Das ist ein String \\\\ \n",
       "Ausnutzung_{des Querkraftwiderstands} & = 1.0 = 1.0 \\quad & sum_Symbol('\\oslash_apos_special_comma_test') & = 15 = 15 \\ \\mathrm{mm} \\quad &  \n",
       " \\end{aligned}\n",
       "$$"
      ],
      "text/plain": [
       "<IPython.core.display.Markdown object>"
      ]
     },
     "metadata": {},
     "output_type": "display_data"
    }
   ],
   "source": [
    "variable_pint_test = 15*un.mm\n",
    "variable_test = 20\n",
    "string_test = 'Das ist ein String'\n",
    "\n",
    "Ausnutzung_des_Querkraftwiderstands = 1.0\n",
    "\n",
    "sum_diam_apos_special_comma_test = 15*un.mm\n",
    "\n",
    "\n",
    "put_out(symbolic=True)\n"
   ]
  },
  {
   "cell_type": "code",
   "execution_count": 9,
   "metadata": {},
   "outputs": [],
   "source": [
    "single_variable_test = 55"
   ]
  },
  {
   "cell_type": "code",
   "execution_count": 10,
   "metadata": {},
   "outputs": [],
   "source": [
    "single_variable_test\n",
    "\n",
    "put_out()"
   ]
  },
  {
   "cell_type": "code",
   "execution_count": 11,
   "metadata": {},
   "outputs": [],
   "source": [
    "from numpy.linalg import det"
   ]
  },
  {
   "cell_type": "code",
   "execution_count": 12,
   "metadata": {},
   "outputs": [
    {
     "data": {
      "text/markdown": [
       "$$\n",
       "\\begin{aligned}\n",
       "vector_{test} & = \\left[\\begin{matrix}20\\\\20\\\\20\\end{matrix}\\right] \\quad & matrix_{test} & = \\left[\\begin{matrix}4 & 2 & 20\\\\20 & 6 & 20\\\\2 & 20 & 3\\end{matrix}\\right] \\quad & matrix_{operation test} & = \\left[\\begin{matrix}80 & 40 & 400\\\\400 & 120 & 400\\\\40 & 400 & 60\\end{matrix}\\right] \\\\ \n",
       "matrix_{operation test 2} & = \\left[\\begin{matrix}520\\\\920\\\\500\\end{matrix}\\right] \\quad & determinant_{test} & = 6192.0 \\quad & unit_{vector test} & = \\left[\\begin{matrix}20\\\\20\\\\20\\end{matrix}\\right] \\ \\mathrm{m} \\\\ \n",
       "unit_{matrix test} & = \\left[\\begin{matrix}4 & 2 & 20\\\\20 & 6 & 20\\\\2 & 20 & 3\\end{matrix}\\right] \\ \\mathrm{m} \\quad &  \\quad &  \n",
       " \\end{aligned}\n",
       "$$"
      ],
      "text/plain": [
       "<IPython.core.display.Markdown object>"
      ]
     },
     "metadata": {},
     "output_type": "display_data"
    }
   ],
   "source": [
    "vector_test = np.array([variable_test, variable_test, variable_test])\n",
    "matrix_test = np.array([[4, 2, variable_test],[variable_test, 6, variable_test], [2, variable_test, 3]])\n",
    "matrix_operation_test = vector_test * matrix_test\n",
    "matrix_operation_test_2 = matrix_test @ vector_test\n",
    "\n",
    "determinant_test = det(matrix_test)\n",
    "unit_vector_test = vector_test*un.m\n",
    "unit_matrix_test = matrix_test*un.m\n",
    "\n",
    "put_out()\n"
   ]
  },
  {
   "cell_type": "code",
   "execution_count": 13,
   "metadata": {},
   "outputs": [
    {
     "data": {
      "text/markdown": [
       "$$\n",
       "\\begin{aligned}\n",
       "list_{test} & = [20, 20] \\quad & list_{operation test} & = [20, 20, 20, 20, 20, 20] \\quad & list_{pint test} & = \\left[\\begin{matrix}20\\\\20\\end{matrix}\\right] \\ \\mathrm{m} \\end{aligned}\n",
       "$$"
      ],
      "text/plain": [
       "<IPython.core.display.Markdown object>"
      ]
     },
     "metadata": {},
     "output_type": "display_data"
    }
   ],
   "source": [
    "list_test = [variable_test, variable_test]\n",
    "list_operation_test = 3 * list_test\n",
    "list_pint_test = list_test*un.m\n",
    "\n",
    "put_out()\n"
   ]
  },
  {
   "cell_type": "code",
   "execution_count": 14,
   "metadata": {},
   "outputs": [
    {
     "data": {
      "text/markdown": [
       "$$\n",
       "\\begin{aligned}\n",
       "txt_{test} & = 20 \\end{aligned}\n",
       "$$"
      ],
      "text/plain": [
       "<IPython.core.display.Markdown object>"
      ]
     },
     "metadata": {},
     "output_type": "display_data"
    }
   ],
   "source": [
    "txt_test = 20\n",
    "put_out()"
   ]
  },
  {
   "cell_type": "code",
   "execution_count": 15,
   "metadata": {},
   "outputs": [
    {
     "data": {
      "text/markdown": [
       "$$\n",
       "\\begin{aligned}\n",
       "dict_{test} & = {'diam': <Quantity(15, 'millimeter')>, 'txt_hier kann jeder String stehen': 3.234423} \\quad & dict_{2} & = {'txt_test': [20, 20], 'matrix_test': array([[ 4,  2, 20],\n",
       "       [20,  6, 20],\n",
       "       [ 2, 20,  3]]), 'matrix_unit_test': <Quantity([[ 4  2 20]\n",
       " [20  6 20]\n",
       " [ 2 20  3]], 'meter')>} \\end{aligned}\n",
       "$$"
      ],
      "text/plain": [
       "<IPython.core.display.Markdown object>"
      ]
     },
     "metadata": {},
     "output_type": "display_data"
    }
   ],
   "source": [
    "dict_test = {\n",
    "    \"diam\" :variable_pint_test,\n",
    "    'txt_hier kann jeder String stehen': 3.234423}\n",
    "\n",
    "\n",
    "dict_2 = {\n",
    "    'txt_test':list_test,\n",
    "    'matrix_test':matrix_test,\n",
    "    'matrix_unit_test': unit_matrix_test\n",
    "}\n",
    "\n",
    "\n",
    "put_out(precision=4, rows=4, tablefmt='pipe')\n"
   ]
  },
  {
   "cell_type": "code",
   "execution_count": 16,
   "metadata": {},
   "outputs": [
    {
     "ename": "NameError",
     "evalue": "name 'mm' is not defined",
     "output_type": "error",
     "traceback": [
      "\u001b[1;31m---------------------------------------------------------------------------\u001b[0m",
      "\u001b[1;31mNameError\u001b[0m                                 Traceback (most recent call last)",
      "Cell \u001b[1;32mIn[16], line 3\u001b[0m\n\u001b[0;32m      1\u001b[0m NPK_G \u001b[38;5;241m=\u001b[39m emt\u001b[38;5;241m.\u001b[39mBeton(\u001b[38;5;124m\"\u001b[39m\u001b[38;5;124mG\u001b[39m\u001b[38;5;124m\"\u001b[39m)\n\u001b[0;32m      2\u001b[0m NPK_G\u001b[38;5;241m.\u001b[39mtxt_Expositionsklassen \u001b[38;5;241m=\u001b[39m \u001b[38;5;124m'\u001b[39m\u001b[38;5;124mXC1\u001b[39m\u001b[38;5;124m'\u001b[39m\n\u001b[1;32m----> 3\u001b[0m NPK_G\u001b[38;5;241m.\u001b[39mD_max \u001b[38;5;241m=\u001b[39m \u001b[38;5;241m32\u001b[39m\u001b[38;5;241m*\u001b[39m\u001b[43mmm\u001b[49m\n\u001b[0;32m      4\u001b[0m NPK_G\u001b[38;5;241m.\u001b[39mtxt_Druckfestigkeitsklasse \u001b[38;5;241m=\u001b[39m \u001b[38;5;124m'\u001b[39m\u001b[38;5;124mC40/50\u001b[39m\u001b[38;5;124m'\u001b[39m\n\u001b[0;32m      5\u001b[0m \u001b[38;5;28mprint\u001b[39m(NPK_G)\n",
      "\u001b[1;31mNameError\u001b[0m: name 'mm' is not defined"
     ]
    }
   ],
   "source": [
    "NPK_G = emt.Beton(\"G\")\n",
    "NPK_G.txt_Expositionsklassen = 'XC1'\n",
    "NPK_G.D_max = 32*mm\n",
    "NPK_G.txt_Druckfestigkeitsklasse = 'C40/50'\n",
    "print(NPK_G)"
   ]
  },
  {
   "cell_type": "code",
   "execution_count": 15,
   "metadata": {},
   "outputs": [
    {
     "data": {
      "text/markdown": [
       "| Bezeichnung                                   | Wert                                          |\n",
       "|:----------------------------------------------|:----------------------------------------------|\n",
       "| $\\text{name}$                                 | $NPK G$                                       |\n",
       "| $\\rho$                                        | $2500.0 \\ \\frac{\\mathrm{kg}}{\\mathrm{m}^{3}}$ |\n",
       "| $\\text{Druckfestigkeitsklasse}$               | $C40/50$                                      |\n",
       "| $\\text{Expositionsklassen}$                   | $XC1$                                         |\n",
       "| $D_{max}$                                     | $32 \\ \\mathrm{mm}$                            |\n",
       "| $C_{l}$                                       | $0.1$                                         |\n",
       "| $\\text{Konsistenzklasse}$                     | $C3$                                          |\n",
       "| $\\text{Frost}\\text{Tausalz}\\text{Widerstand}$ | $('hoch',)$                                   |\n",
       "| $f_{ck}$                                      | $30.0 \\ \\frac{\\mathrm{N}}{\\mathrm{mm}^{2}}$   |\n",
       "| $f_{ctm}$                                     | $2.9 \\ \\frac{\\mathrm{N}}{\\mathrm{mm}^{2}}$    |"
      ],
      "text/plain": [
       "<engicalc.materials.Beton at 0x2a142d7bc50>"
      ]
     },
     "execution_count": 15,
     "metadata": {},
     "output_type": "execute_result"
    }
   ],
   "source": [
    "NPK_G"
   ]
  },
  {
   "cell_type": "code",
   "execution_count": null,
   "metadata": {},
   "outputs": [],
   "source": []
  },
  {
   "cell_type": "code",
   "execution_count": null,
   "metadata": {},
   "outputs": [],
   "source": []
  }
 ],
 "metadata": {
  "kernelspec": {
   "display_name": "calc",
   "language": "python",
   "name": "python3"
  },
  "language_info": {
   "codemirror_mode": {
    "name": "ipython",
    "version": 3
   },
   "file_extension": ".py",
   "mimetype": "text/x-python",
   "name": "python",
   "nbconvert_exporter": "python",
   "pygments_lexer": "ipython3",
   "version": "3.11.9"
  }
 },
 "nbformat": 4,
 "nbformat_minor": 2
}
