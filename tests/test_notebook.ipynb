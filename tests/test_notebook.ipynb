{
 "cells": [
  {
   "cell_type": "code",
   "execution_count": 1,
   "metadata": {},
   "outputs": [],
   "source": [
    "from engicalc import *\n",
    "import engicalc.concrete as ecc\n",
    "import engicalc.materials as emt\n",
    "import engicalc.units as un\n",
    "\n",
    "import sympy as sp\n",
    "import numpy as np"
   ]
  },
  {
   "cell_type": "code",
   "execution_count": 2,
   "metadata": {},
   "outputs": [
    {
     "data": {
      "text/markdown": [
       "$$\n",
       "\\begin{aligned}\n",
       "\\Theta_{pl A}& = 5 \\quad & m_{u A}& = 10 \\quad & m_{y A}& = 5 \\\\ \n",
       "l& = 1 \\quad & b_{w}& = 0.1 \\quad & EI_{II}& = 20 \\\\ \n",
       "q_{S1 A}& = 10 \\quad &  \\quad &  \n",
       " \\end{aligned}\n",
       "$$"
      ],
      "text/plain": [
       "<IPython.core.display.Markdown object>"
      ]
     },
     "metadata": {},
     "output_type": "display_data"
    }
   ],
   "source": [
    "Theta_pl_A= 5 \n",
    "m_u_A = 10 \n",
    "m_y_A=5\n",
    "l=1\n",
    "b_w=0.1\n",
    "EI_II=20\n",
    "q_S1_A= 10\n",
    "\n",
    "put_out(symbolic=False, rows=3)"
   ]
  },
  {
   "cell_type": "code",
   "execution_count": 3,
   "metadata": {},
   "outputs": [
    {
     "data": {
      "text/markdown": [
       "$$\n",
       "\\begin{aligned}\n",
       "\\alpha_{u A}& = \\frac{\\Theta_{pl A}}{2} = 2.5 \\\\ \n",
       "\\Delta_{q A}& = \\left(\\alpha_{u A} + \\frac{b_{w} l \\left(m_{u A} - m_{y A}\\right)}{3 EI_{II}}\\right) 24 EI_{II} \\frac{1}{l^{3}} = 1204.0 \\\\ \n",
       "q_{u A}& = \\Delta_{q A} + q_{S1 A} = 1214.0 \\end{aligned}\n",
       "$$"
      ],
      "text/plain": [
       "<IPython.core.display.Markdown object>"
      ]
     },
     "metadata": {},
     "output_type": "display_data"
    }
   ],
   "source": [
    "# maximaler Rotationswinkel\n",
    "alpha_u_A = Theta_pl_A / 2\n",
    "\n",
    "# Streckenlast bis zum maximalen Rotationswinkel\n",
    "Delta_q_A = ((alpha_u_A + (m_u_A - m_y_A) * l * b_w / (3 * EI_II)) * 24 * EI_II / l**3)\n",
    "\n",
    "# Traglast für B500A\n",
    "q_u_A = Delta_q_A + q_S1_A\n",
    "\n",
    "put_out(symbolic=True, evaluate=False, rows=1)\n"
   ]
  },
  {
   "cell_type": "code",
   "execution_count": 4,
   "metadata": {},
   "outputs": [
    {
     "data": {
      "text/plain": [
       "'1 + 20'"
      ]
     },
     "execution_count": 4,
     "metadata": {},
     "output_type": "execute_result"
    }
   ],
   "source": [
    "import numpy as np\n",
    "format_symbolic(\"20+1\", evaluate=False)\n",
    "# Returns: '\\\\begin{bmatrix}1.23 & 2.35\\\\\\\\3.46 & 4.57\\\\end{bmatrix}'\n"
   ]
  },
  {
   "cell_type": "code",
   "execution_count": 5,
   "metadata": {},
   "outputs": [
    {
     "data": {
      "text/markdown": [
       "$$\n",
       "\\begin{aligned}\n",
       "\\oslash_{x}& = 20 = 20 \\ \\mathrm{mm} \\\\ \n",
       "s_{x}& = 150 = 150 \\ \\mathrm{mm} \\\\ \n",
       "b_{w}& = 1 = 1 \\ \\mathrm{m} \\end{aligned}\n",
       "$$"
      ],
      "text/plain": [
       "<IPython.core.display.Markdown object>"
      ]
     },
     "metadata": {},
     "output_type": "display_data"
    }
   ],
   "source": [
    "diam_x = 20*un.mm\n",
    "s_x = 150*un.mm\n",
    "b_w = 1*un.m\n",
    "\n",
    "put_out()\n"
   ]
  },
  {
   "cell_type": "code",
   "execution_count": 6,
   "metadata": {},
   "outputs": [
    {
     "data": {
      "text/markdown": [
       "$$\n",
       "\\begin{aligned}\n",
       "a_{s}& = \\frac{\\pi \\oslash_{x}^{2}}{4 s_{x}} = 2.09 \\ \\mathrm{mm} \\\\ \n",
       "A_{s}& = a_{s} b_{w} = 2094.4 \\ \\mathrm{mm}^{2} \\end{aligned}\n",
       "$$"
      ],
      "text/plain": [
       "<IPython.core.display.Markdown object>"
      ]
     },
     "metadata": {},
     "output_type": "display_data"
    }
   ],
   "source": [
    "a_s = diam_x **2 / 4 * np.pi /s_x\n",
    "A_s = (a_s *b_w).to(un.mm**2)\n",
    "\n",
    "put_out(symbolic=True)"
   ]
  },
  {
   "cell_type": "code",
   "execution_count": 7,
   "metadata": {},
   "outputs": [
    {
     "data": {
      "text/markdown": [
       "$$\n",
       "\\begin{aligned}\n",
       "a& = 20 \\ \\mathrm{N} \\end{aligned}\n",
       "$$"
      ],
      "text/plain": [
       "<IPython.core.display.Markdown object>"
      ]
     },
     "metadata": {},
     "output_type": "display_data"
    }
   ],
   "source": [
    "a = 20 *un.N\n",
    "\n",
    "put_out(symbolic=False)\n"
   ]
  },
  {
   "cell_type": "code",
   "execution_count": 8,
   "metadata": {},
   "outputs": [
    {
     "data": {
      "text/markdown": [
       "$$\n",
       "\\begin{aligned}\n",
       "b& = \\left[\\begin{matrix}2 \\sqrt{a}\\\\2 a\\end{matrix}\\right] = \\left[\\begin{matrix}8.94\\\\40.0\\end{matrix}\\right] \\quad & c& = 2 b = \\left[\\begin{matrix}17.89\\\\80.0\\end{matrix}\\right] \\quad & d& = 2 c + 2 c = \\left[\\begin{matrix}71.55\\\\320.0\\end{matrix}\\right] \\end{aligned}\n",
       "$$"
      ],
      "text/plain": [
       "<IPython.core.display.Markdown object>"
      ]
     },
     "metadata": {},
     "output_type": "display_data"
    }
   ],
   "source": [
    "b = 2*np.array([np.sqrt(a.m),a.m])\n",
    "c = 2 * b\n",
    "d = 2 * c + 2* c\n",
    "\n",
    "\n",
    "put_out(symbolic=True, rows=3)"
   ]
  },
  {
   "cell_type": "code",
   "execution_count": 9,
   "metadata": {},
   "outputs": [],
   "source": [
    "def Theta_pl(a):\n",
    "    return a"
   ]
  },
  {
   "cell_type": "code",
   "execution_count": 10,
   "metadata": {},
   "outputs": [
    {
     "data": {
      "text/markdown": [
       "$$\n",
       "\\begin{aligned}\n",
       "\\Theta_{pl A}& = \\Theta_{pl}{\\left(a \\right)} = 20 \\ \\mathrm{N} \\end{aligned}\n",
       "$$"
      ],
      "text/plain": [
       "<IPython.core.display.Markdown object>"
      ]
     },
     "metadata": {},
     "output_type": "display_data"
    }
   ],
   "source": [
    "Theta_pl_A = Theta_pl(a)\n",
    "\n",
    "put_out(symbolic=True)"
   ]
  },
  {
   "cell_type": "code",
   "execution_count": 11,
   "metadata": {},
   "outputs": [
    {
     "data": {
      "text/markdown": [
       "\n",
       "*SIA 262:2013 Abschnitt 4.4.1.3 (99)*\n",
       "\n",
       "Gemäss SIA 262:2013, Abschnitt 4.4.1.3, wird der Abminderungsfaktor $k_t$ zur Berücksichtigung der Abmessung bestimmt:\n",
       "$$ k_t = \\frac{1}{1+0.5 \\cdot t} $$\n",
       "            "
      ],
      "text/plain": [
       "<IPython.core.display.Markdown object>"
      ]
     },
     "metadata": {},
     "output_type": "display_data"
    },
    {
     "data": {
      "text/markdown": [
       "$$\n",
       "\\begin{aligned}\n",
       "k_{t}& = 0.5 \\end{aligned}\n",
       "$$"
      ],
      "text/plain": [
       "<IPython.core.display.Markdown object>"
      ]
     },
     "metadata": {},
     "output_type": "display_data"
    }
   ],
   "source": [
    "k_t = ecc.abminderungsfaktor_kt_SIA262_99(2, biegebeanspruchung=False, background=True)\n",
    "\n",
    "put_out(symbolic=False)"
   ]
  },
  {
   "cell_type": "markdown",
   "metadata": {},
   "source": [
    "# Output Features"
   ]
  },
  {
   "cell_type": "code",
   "execution_count": 12,
   "metadata": {},
   "outputs": [
    {
     "data": {
      "text/markdown": [
       "$$\n",
       "\\begin{aligned}\n",
       "variable_{pint test}& = 15 = 15 \\ \\mathrm{mm} \\quad & variable_{test}& = 20 = 20 \\quad & string_{test}& = \\mathtt{\\text{DasisteinString}} = Das ist ein String \\\\ \n",
       "Ausnutzung_{des Querkraftwiderstands}& = 1.0 = 1.0 \\quad & sum_Symbol('\\oslash_apos_special_comma_test')& = 15 = 15 \\ \\mathrm{mm} \\quad &  \n",
       " \\end{aligned}\n",
       "$$"
      ],
      "text/plain": [
       "<IPython.core.display.Markdown object>"
      ]
     },
     "metadata": {},
     "output_type": "display_data"
    }
   ],
   "source": [
    "variable_pint_test = 15*un.mm\n",
    "variable_test = 20\n",
    "string_test = 'Das ist ein String'\n",
    "\n",
    "Ausnutzung_des_Querkraftwiderstands = 1.0\n",
    "\n",
    "sum_diam_apos_special_comma_test = 15*un.mm\n",
    "\n",
    "\n",
    "put_out(symbolic=True, rows=3)\n"
   ]
  },
  {
   "cell_type": "code",
   "execution_count": 13,
   "metadata": {},
   "outputs": [],
   "source": [
    "single_variable_test = 55"
   ]
  },
  {
   "cell_type": "code",
   "execution_count": 14,
   "metadata": {},
   "outputs": [
    {
     "data": {
      "text/markdown": [
       "$$\n",
       "\\begin{aligned}\n",
       "\\end{aligned}\n",
       "$$"
      ],
      "text/plain": [
       "<IPython.core.display.Markdown object>"
      ]
     },
     "metadata": {},
     "output_type": "display_data"
    }
   ],
   "source": [
    "single_variable_test\n",
    "\n",
    "put_out()"
   ]
  },
  {
   "cell_type": "code",
   "execution_count": 15,
   "metadata": {},
   "outputs": [],
   "source": [
    "from numpy.linalg import det"
   ]
  },
  {
   "cell_type": "code",
   "execution_count": null,
   "metadata": {},
   "outputs": [
    {
     "data": {
      "text/markdown": [
       "$$\n",
       "\\begin{aligned}\n",
       "vector_{test}& = \\left[\\begin{matrix}variable_{test}\\\\variable_{test}\\\\variable_{test}\\end{matrix}\\right] = \\left[\\begin{matrix}20\\\\20\\\\20\\end{matrix}\\right] \\\\ \n",
       "matrix_{test}& = \\left[\\begin{matrix}4 & 2 & variable_{test}\\\\variable_{test} & 6 & variable_{test}\\\\2 & variable_{test} & 3\\end{matrix}\\right] = \\left[\\begin{matrix}4 & 2 & 20\\\\20 & 6 & 20\\\\2 & 20 & 3\\end{matrix}\\right] \\\\ \n",
       "matrix_{operation test}& = matrix_{test} vector_{test} = \\left[\\begin{matrix}80 & 40 & 400\\\\400 & 120 & 400\\\\40 & 400 & 60\\end{matrix}\\right] \\\\ \n",
       "matrix_{operation test 2}& = matrix_test@vector_test = \\left[\\begin{matrix}520\\\\920\\\\500\\end{matrix}\\right] \\\\ \n",
       "determinant_{test}& = det(matrix_test) = 6192.0 \\\\ \n",
       "unit_{vector test}& = vector_{test} = \\left[\\begin{matrix}20\\\\20\\\\20\\end{matrix}\\right] \\ \\mathrm{m} \\\\ \n",
       "unit_{matrix test}& = matrix_{test} = \\left[\\begin{matrix}4 & 2 & 20\\\\20 & 6 & 20\\\\2 & 20 & 3\\end{matrix}\\right] \\ \\mathrm{m} \\end{aligned}\n",
       "$$"
      ],
      "text/plain": [
       "<IPython.core.display.Markdown object>"
      ]
     },
     "metadata": {},
     "output_type": "display_data"
    }
   ],
   "source": [
    "vector_test = np.array([variable_test, variable_test, variable_test])\n",
    "matrix_test = np.array([[4, 2, variable_test],[variable_test, 6, variable_test], [2, variable_test, 3]])\n",
    "matrix_operation_test = vector_test * matrix_test\n",
    "matrix_operation_test_2 = matrix_test @ vector_test\n",
    "\n",
    "determinant_test = det(matrix_test)\n",
    "unit_vector_test = vector_test*un.m\n",
    "unit_matrix_test = matrix_test*un.m\n",
    "\n",
    "put_out()\n"
   ]
  },
  {
   "cell_type": "code",
   "execution_count": 17,
   "metadata": {},
   "outputs": [
    {
     "data": {
      "text/markdown": [
       "$$\n",
       "\\begin{aligned}\n",
       "list_{test}& = \\left[ variable_{test}, \\  variable_{test}\\right] = [20, 20] \\\\ \n",
       "list_{operation test}& = 3 list_{test} = [20, 20, 20, 20, 20, 20] \\\\ \n",
       "list_{pint test}& = list_{test} = \\left[\\begin{matrix}20\\\\20\\end{matrix}\\right] \\ \\mathrm{m} \\end{aligned}\n",
       "$$"
      ],
      "text/plain": [
       "<IPython.core.display.Markdown object>"
      ]
     },
     "metadata": {},
     "output_type": "display_data"
    }
   ],
   "source": [
    "list_test = [variable_test, variable_test]\n",
    "list_operation_test = 3 * list_test\n",
    "list_pint_test = list_test*un.m\n",
    "\n",
    "put_out()\n"
   ]
  },
  {
   "cell_type": "code",
   "execution_count": 18,
   "metadata": {},
   "outputs": [
    {
     "data": {
      "text/markdown": [
       "$$\n",
       "\\begin{aligned}\n",
       "txt_{test}& = 20 = 20 \\end{aligned}\n",
       "$$"
      ],
      "text/plain": [
       "<IPython.core.display.Markdown object>"
      ]
     },
     "metadata": {},
     "output_type": "display_data"
    }
   ],
   "source": [
    "txt_test = 20\n",
    "put_out()"
   ]
  },
  {
   "cell_type": "code",
   "execution_count": 19,
   "metadata": {},
   "outputs": [
    {
     "data": {
      "text/markdown": [
       "$$\n",
       "\\begin{aligned}\n",
       "dict_{test}& = { = {'diam': <Quantity(15, 'millimeter')>, 'txt_hier kann jeder String stehen': 3.234423} \\quad & dict_{2}& = { = {'txt_test': [20, 20], 'matrix_test': array([[ 4,  2, 20],\n",
       "       [20,  6, 20],\n",
       "       [ 2, 20,  3]]), 'matrix_unit_test': <Quantity([[ 4  2 20]\n",
       " [20  6 20]\n",
       " [ 2 20  3]], 'meter')>} \\quad &  \\quad &  \n",
       " \\end{aligned}\n",
       "$$"
      ],
      "text/plain": [
       "<IPython.core.display.Markdown object>"
      ]
     },
     "metadata": {},
     "output_type": "display_data"
    }
   ],
   "source": [
    "dict_test = {\n",
    "    \"diam\" :variable_pint_test,\n",
    "    'txt_hier kann jeder String stehen': 3.234423}\n",
    "\n",
    "\n",
    "dict_2 = {\n",
    "    'txt_test':list_test,\n",
    "    'matrix_test':matrix_test,\n",
    "    'matrix_unit_test': unit_matrix_test\n",
    "}\n",
    "\n",
    "\n",
    "put_out(precision=4, rows=4,)\n"
   ]
  },
  {
   "cell_type": "code",
   "execution_count": 20,
   "metadata": {},
   "outputs": [
    {
     "name": "stdout",
     "output_type": "stream",
     "text": [
      "Beton: NPK G (C40/50)\n"
     ]
    }
   ],
   "source": [
    "NPK_G = emt.Beton(\"G\")\n",
    "NPK_G.txt_Expositionsklassen = 'XC1'\n",
    "NPK_G.D_max = 32*un.mm\n",
    "NPK_G.txt_Druckfestigkeitsklasse = 'C40/50'\n",
    "print(NPK_G)"
   ]
  },
  {
   "cell_type": "code",
   "execution_count": 21,
   "metadata": {},
   "outputs": [
    {
     "data": {
      "text/plain": [
       "<engicalc.materials.Beton at 0x16a32229bd0>"
      ]
     },
     "execution_count": 21,
     "metadata": {},
     "output_type": "execute_result"
    }
   ],
   "source": [
    "NPK_G"
   ]
  },
  {
   "cell_type": "code",
   "execution_count": null,
   "metadata": {},
   "outputs": [],
   "source": []
  },
  {
   "cell_type": "code",
   "execution_count": null,
   "metadata": {},
   "outputs": [],
   "source": []
  }
 ],
 "metadata": {
  "kernelspec": {
   "display_name": "calc",
   "language": "python",
   "name": "python3"
  },
  "language_info": {
   "codemirror_mode": {
    "name": "ipython",
    "version": 3
   },
   "file_extension": ".py",
   "mimetype": "text/x-python",
   "name": "python",
   "nbconvert_exporter": "python",
   "pygments_lexer": "ipython3",
   "version": "3.11.9"
  }
 },
 "nbformat": 4,
 "nbformat_minor": 2
}
