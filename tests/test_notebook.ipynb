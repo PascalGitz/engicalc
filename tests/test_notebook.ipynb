{
 "cells": [
  {
   "cell_type": "code",
   "execution_count": 1,
   "metadata": {},
   "outputs": [],
   "source": [
    "from engicalc import *\n",
    "import engicalc.concrete as ecc\n",
    "import engicalc.materials as emt\n",
    "import engicalc.units as un\n",
    "\n",
    "import sympy as sp\n",
    "import numpy as np"
   ]
  },
  {
   "cell_type": "markdown",
   "metadata": {},
   "source": [
    "## Output"
   ]
  },
  {
   "cell_type": "markdown",
   "metadata": {},
   "source": [
    "### Simple Variable assignments"
   ]
  },
  {
   "cell_type": "code",
   "execution_count": 2,
   "metadata": {},
   "outputs": [
    {
     "data": {
      "text/markdown": [
       "$$\n",
       "\\begin{aligned}\n",
       "\\Theta_{pl A}& = 5 \\\\ \n",
       "m_{u A}& = 10 \\\\ \n",
       "m_{y A}& = 5 \\\\ \n",
       "l& = 1 \\\\ \n",
       "b_{w}& = 0.1 \\\\ \n",
       "EI_{II}& = 20 \\\\ \n",
       "q_{S1 A}& = 10 \\end{aligned}\n",
       "$$"
      ],
      "text/plain": [
       "<IPython.core.display.Markdown object>"
      ]
     },
     "metadata": {},
     "output_type": "display_data"
    }
   ],
   "source": [
    "Theta_pl_A= 5 \n",
    "m_u_A = 10 \n",
    "m_y_A=5\n",
    "l=1\n",
    "b_w=0.1\n",
    "EI_II=20\n",
    "q_S1_A= 10\n",
    "\n",
    "put_out()\n",
    "\n"
   ]
  },
  {
   "cell_type": "code",
   "execution_count": 3,
   "metadata": {},
   "outputs": [
    {
     "data": {
      "text/markdown": [
       "\n",
       "$$ A_s = \\frac{\\varnothing^2 \\cdot \\pi}{4} \\cdot \\frac{b}{s}\n",
       " $$\n",
       "        "
      ],
      "text/plain": [
       "<IPython.core.display.Markdown object>"
      ]
     },
     "metadata": {},
     "output_type": "display_data"
    },
    {
     "data": {
      "text/markdown": [
       "$$\n",
       "\\begin{aligned}\n",
       "A_{s1}& = 753.98 \\ \\mathrm{mm}^{2} \\\\ \n",
       "A_{s2}& = 1026.25 \\ \\mathrm{mm}^{2} \\end{aligned}\n",
       "$$"
      ],
      "text/plain": [
       "<IPython.core.display.Markdown object>"
      ]
     },
     "metadata": {},
     "output_type": "display_data"
    }
   ],
   "source": [
    "A_s1 = (ecc.as_from_diam_and_s(b=1*un.m, diam=12*un.mm, s=150*un.mm, background=True)).to(un.mm**2)\n",
    "A_s2 = (ecc.as_from_diam_and_s(b=1*un.m, diam=14*un.mm, s=150*un.mm)).to(un.mm**2)\n",
    "\n",
    "put_out(rows = 1)"
   ]
  },
  {
   "cell_type": "markdown",
   "metadata": {},
   "source": [
    "### Variable recall"
   ]
  },
  {
   "cell_type": "code",
   "execution_count": 4,
   "metadata": {},
   "outputs": [
    {
     "data": {
      "text/markdown": [
       "$$\n",
       "\\begin{aligned}\n",
       "b_{w}& = 0.1 \\end{aligned}\n",
       "$$"
      ],
      "text/plain": [
       "<IPython.core.display.Markdown object>"
      ]
     },
     "metadata": {},
     "output_type": "display_data"
    }
   ],
   "source": [
    "b_w\n",
    "\n",
    "put_out(symbolic=False)"
   ]
  },
  {
   "cell_type": "markdown",
   "metadata": {},
   "source": [
    "### Pint units"
   ]
  },
  {
   "cell_type": "code",
   "execution_count": 5,
   "metadata": {},
   "outputs": [
    {
     "data": {
      "text/markdown": [
       "$$\n",
       "\\begin{aligned}\n",
       "test_{pint unit}& = 30 \\ \\mathrm{mm} \\\\ \n",
       "test_{pint conversion}& = 0.03 \\ \\mathrm{m} \\end{aligned}\n",
       "$$"
      ],
      "text/plain": [
       "<IPython.core.display.Markdown object>"
      ]
     },
     "metadata": {},
     "output_type": "display_data"
    }
   ],
   "source": [
    "test_pint_unit = 30*un.mm\n",
    "test_pint_conversion = test_pint_unit.to(un.m)\n",
    "put_out()"
   ]
  },
  {
   "cell_type": "markdown",
   "metadata": {},
   "source": [
    "### Special Characters"
   ]
  },
  {
   "cell_type": "code",
   "execution_count": 6,
   "metadata": {},
   "outputs": [
    {
     "data": {
      "text/markdown": [
       "$$\n",
       "\\begin{aligned}\n",
       "test_{{\\oslash}' , A}& = 30 \\\\ \n",
       "{\\oslash}'_{test , C}& = 40 \\end{aligned}\n",
       "$$"
      ],
      "text/plain": [
       "<IPython.core.display.Markdown object>"
      ]
     },
     "metadata": {},
     "output_type": "display_data"
    }
   ],
   "source": [
    "test_diam_apos_com_A = 30\n",
    "diam_apos_test_com_C = 40\n",
    "put_out()"
   ]
  },
  {
   "cell_type": "markdown",
   "metadata": {},
   "source": [
    "### Symbolic representation"
   ]
  },
  {
   "cell_type": "code",
   "execution_count": 7,
   "metadata": {},
   "outputs": [
    {
     "data": {
      "text/latex": [
       "$\\displaystyle {\\Delta}'$"
      ],
      "text/plain": [
       "Deltaprime"
      ]
     },
     "execution_count": 7,
     "metadata": {},
     "output_type": "execute_result"
    }
   ],
   "source": [
    "sp.Symbol(\"Deltaprime\")"
   ]
  },
  {
   "cell_type": "code",
   "execution_count": 8,
   "metadata": {},
   "outputs": [
    {
     "data": {
      "text/markdown": [
       "$$\n",
       "\\begin{aligned}\n",
       "\\alpha_{u A}& = \\frac{\\sqrt{\\Theta_{pl A}}}{2} \\\\ \n",
       "{\\Delta}'_{q , adm}& = \\left(\\sin{\\left(\\alpha_{u A} \\right)} + \\frac{\\left(m_{u A} - m_{y A}\\right) \\cdot l \\cdot b_{w}}{3 \\cdot EI_{II}}\\right) \\cdot 24 \\cdot EI_{II} \\cdot \\frac{1}{l^{3}} \\\\ \n",
       "q_{u A}& = {\\Delta}'_{q , adm} + q_{S1 A} \\end{aligned}\n",
       "$$"
      ],
      "text/plain": [
       "<IPython.core.display.Markdown object>"
      ]
     },
     "metadata": {},
     "output_type": "display_data"
    }
   ],
   "source": [
    "alpha_u_A = np.sqrt(Theta_pl_A) / 2\n",
    "Delta_apos_q_com_adm = ((np.sin(alpha_u_A) + (m_u_A - m_y_A) * l * b_w / (3 * EI_II)) * 24 * EI_II / l**3)*un.m\n",
    "q_u_A = Delta_apos_q_com_adm + q_S1_A*un.m\n",
    "put_out(symbolic=True,numeric=False)\n",
    "\n"
   ]
  },
  {
   "cell_type": "markdown",
   "metadata": {},
   "source": [
    "### Numeric representation"
   ]
  },
  {
   "cell_type": "code",
   "execution_count": 9,
   "metadata": {},
   "outputs": [
    {
     "data": {
      "text/markdown": [
       "$$\n",
       "\\begin{aligned}\n",
       "\\alpha_{u A}& = 1.12 \\\\ \n",
       "{\\Delta}'_{q , adm}& = 435.64 \\ \\mathrm{m} \\\\ \n",
       "q_{u A}& = 445.64 \\ \\mathrm{m} \\end{aligned}\n",
       "$$"
      ],
      "text/plain": [
       "<IPython.core.display.Markdown object>"
      ]
     },
     "metadata": {},
     "output_type": "display_data"
    }
   ],
   "source": [
    "alpha_u_A\n",
    "Delta_apos_q_com_adm\n",
    "q_u_A\n",
    "\n",
    "put_out(symbolic=False, numeric=True)"
   ]
  },
  {
   "cell_type": "markdown",
   "metadata": {},
   "source": [
    "### Symbolic and numeric representation"
   ]
  },
  {
   "cell_type": "code",
   "execution_count": 10,
   "metadata": {},
   "outputs": [
    {
     "data": {
      "text/markdown": [
       "$$\n",
       "\\begin{aligned}\n",
       "\\alpha_{u A}& = \\frac{\\sqrt{\\Theta_{pl A}}}{2} = 1.12 \\\\ \n",
       "{\\Delta}'_{q , adm}& = \\left(\\sin{\\left(\\alpha_{u A} \\right)} + \\frac{\\left(m_{u A} - m_{y A}\\right) \\cdot l \\cdot b_{w}}{3 \\cdot EI_{II}}\\right) \\cdot 24 \\cdot EI_{II} \\cdot \\frac{1}{l^{3}} = 435.64 \\ \\mathrm{m} \\\\ \n",
       "q_{u A}& = {\\Delta}'_{q , adm} + q_{S1 A} = 445.64 \\ \\mathrm{m} \\\\ \n",
       "{M}'& = 2 \\cdot \\alpha_{u A} = 2.24 \\end{aligned}\n",
       "$$"
      ],
      "text/plain": [
       "<IPython.core.display.Markdown object>"
      ]
     },
     "metadata": {},
     "output_type": "display_data"
    }
   ],
   "source": [
    "alpha_u_A\n",
    "Delta_apos_q_com_adm\n",
    "q_u_A\n",
    "\n",
    "M_apos = 2 * alpha_u_A\n",
    "\n",
    "put_out(symbolic=True, numeric=True)"
   ]
  },
  {
   "cell_type": "markdown",
   "metadata": {},
   "source": [
    "### Rows defining"
   ]
  },
  {
   "cell_type": "code",
   "execution_count": 11,
   "metadata": {},
   "outputs": [
    {
     "data": {
      "text/markdown": [
       "$$\n",
       "\\begin{aligned}\n",
       "\\alpha_{u A}& = \\frac{\\sqrt{\\Theta_{pl A}}}{2} = 1.12 \\\\ \n",
       "{\\Delta}'_{q , adm}& = \\left(\\sin{\\left(\\alpha_{u A} \\right)} + \\frac{\\left(m_{u A} - m_{y A}\\right) \\cdot l \\cdot b_{w}}{3 \\cdot EI_{II}}\\right) \\cdot 24 \\cdot EI_{II} \\cdot \\frac{1}{l^{3}} = 435.64 \\ \\mathrm{m} \\\\ \n",
       "q_{u A}& = {\\Delta}'_{q , adm} + q_{S1 A} = 445.64 \\ \\mathrm{m} \\end{aligned}\n",
       "$$"
      ],
      "text/plain": [
       "<IPython.core.display.Markdown object>"
      ]
     },
     "metadata": {},
     "output_type": "display_data"
    }
   ],
   "source": [
    "alpha_u_A\n",
    "Delta_apos_q_com_adm\n",
    "q_u_A\n",
    "\n",
    "put_out(symbolic=True, numeric=True, rows = 1)"
   ]
  },
  {
   "cell_type": "markdown",
   "metadata": {},
   "source": [
    "### Overwriting variables"
   ]
  },
  {
   "cell_type": "code",
   "execution_count": 12,
   "metadata": {},
   "outputs": [
    {
     "data": {
      "text/markdown": [
       "$$\n",
       "\\begin{aligned}\n",
       "\\alpha_{u A}& = 20 \\end{aligned}\n",
       "$$"
      ],
      "text/plain": [
       "<IPython.core.display.Markdown object>"
      ]
     },
     "metadata": {},
     "output_type": "display_data"
    }
   ],
   "source": [
    "alpha_u_A = 20\n",
    "\n",
    "put_out(symbolic=True)"
   ]
  },
  {
   "cell_type": "markdown",
   "metadata": {},
   "source": [
    "### Arrays"
   ]
  },
  {
   "cell_type": "code",
   "execution_count": 13,
   "metadata": {},
   "outputs": [
    {
     "data": {
      "text/markdown": [
       "$$\n",
       "\\begin{aligned}\n",
       "b& = \\left[\\begin{matrix}2 \\cdot \\sqrt{\\alpha_{u A}}\\\\2 \\cdot \\alpha_{u A}\\end{matrix}\\right] = \\left[\\begin{matrix}8.94\\\\40.0\\end{matrix}\\right] \\quad & c& = 2 \\cdot b = \\left[\\begin{matrix}17.89\\\\80.0\\end{matrix}\\right] \\quad & d& = 2 \\cdot c + 2 \\cdot c = \\left[\\begin{matrix}71.55\\\\320.0\\end{matrix}\\right] \\end{aligned}\n",
       "$$"
      ],
      "text/plain": [
       "<IPython.core.display.Markdown object>"
      ]
     },
     "metadata": {},
     "output_type": "display_data"
    }
   ],
   "source": [
    "b = 2*np.array([np.sqrt(alpha_u_A),alpha_u_A])\n",
    "c = 2 * b\n",
    "d = 2 * c + 2* c\n",
    "\n",
    "\n",
    "put_out(symbolic=True, numeric=True, rows=3)"
   ]
  },
  {
   "cell_type": "markdown",
   "metadata": {},
   "source": [
    "### Functions"
   ]
  },
  {
   "cell_type": "code",
   "execution_count": 14,
   "metadata": {},
   "outputs": [],
   "source": [
    "def Theta_pl(a):\n",
    "    return a"
   ]
  },
  {
   "cell_type": "code",
   "execution_count": 15,
   "metadata": {},
   "outputs": [
    {
     "data": {
      "text/markdown": [
       "$$\n",
       "\\begin{aligned}\n",
       "\\Theta_{pl A}& = \\Theta_{pl}{\\left(\\alpha_{u A} \\right)} = 20 \\end{aligned}\n",
       "$$"
      ],
      "text/plain": [
       "<IPython.core.display.Markdown object>"
      ]
     },
     "metadata": {},
     "output_type": "display_data"
    }
   ],
   "source": [
    "Theta_pl_A = Theta_pl(alpha_u_A)\n",
    "\n",
    "put_out(symbolic=True, numeric=True)"
   ]
  },
  {
   "cell_type": "code",
   "execution_count": 16,
   "metadata": {},
   "outputs": [
    {
     "data": {
      "text/markdown": [
       "\n",
       "*SIA 262:2013 Abschnitt 4.4.1.3 (99)*\n",
       "\n",
       "Gemäss SIA 262:2013, Abschnitt 4.4.1.3, wird der Abminderungsfaktor $k_t$ zur Berücksichtigung der Abmessung bestimmt:\n",
       "$$ k_t = \\frac{1}{1+0.5 \\cdot t} $$\n",
       "            "
      ],
      "text/plain": [
       "<IPython.core.display.Markdown object>"
      ]
     },
     "metadata": {},
     "output_type": "display_data"
    },
    {
     "data": {
      "text/markdown": [
       "$$\n",
       "\\begin{aligned}\n",
       "k_{t}& = 0.5 \\end{aligned}\n",
       "$$"
      ],
      "text/plain": [
       "<IPython.core.display.Markdown object>"
      ]
     },
     "metadata": {},
     "output_type": "display_data"
    }
   ],
   "source": [
    "k_t = ecc.abminderungsfaktor_kt_SIA262_99(2, biegebeanspruchung=False, background=True)\n",
    "\n",
    "put_out(symbolic=False, numeric=True)"
   ]
  },
  {
   "cell_type": "markdown",
   "metadata": {},
   "source": [
    "### Conditionals\n",
    "\n",
    "Has to be implemented\n",
    "\n",
    "probably take it from global namespace, then b_cond=20=20 would not appear"
   ]
  },
  {
   "cell_type": "code",
   "execution_count": 17,
   "metadata": {},
   "outputs": [
    {
     "data": {
      "text/markdown": [
       "$$\n",
       "\\begin{aligned}\n",
       "x& = 10 \\ \\mathrm{°} \\end{aligned}\n",
       "$$"
      ],
      "text/plain": [
       "<IPython.core.display.Markdown object>"
      ]
     },
     "metadata": {},
     "output_type": "display_data"
    }
   ],
   "source": [
    "x = 10*un.deg\n",
    "\n",
    "put_out()"
   ]
  },
  {
   "cell_type": "code",
   "execution_count": 18,
   "metadata": {},
   "outputs": [
    {
     "data": {
      "text/markdown": [
       "$$\n",
       "\\begin{aligned}\n",
       "b_{cond}& = 20 \\\\ \n",
       "b_{cond}& = \\Theta_{pl A} = 20 \\end{aligned}\n",
       "$$"
      ],
      "text/plain": [
       "<IPython.core.display.Markdown object>"
      ]
     },
     "metadata": {},
     "output_type": "display_data"
    }
   ],
   "source": [
    "if k_t < 0.2:\n",
    "    b_cond = 20*un.m\n",
    "if k_t >= 0.5:\n",
    "    b_cond = Theta_pl_A\n",
    "\n",
    "put_out(symbolic=True)"
   ]
  }
 ],
 "metadata": {
  "kernelspec": {
   "display_name": "engineering",
   "language": "python",
   "name": "python3"
  },
  "language_info": {
   "codemirror_mode": {
    "name": "ipython",
    "version": 3
   },
   "file_extension": ".py",
   "mimetype": "text/x-python",
   "name": "python",
   "nbconvert_exporter": "python",
   "pygments_lexer": "ipython3",
   "version": "3.10.16"
  }
 },
 "nbformat": 4,
 "nbformat_minor": 4
}
