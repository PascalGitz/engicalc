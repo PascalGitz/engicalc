{
 "cells": [
  {
   "cell_type": "code",
   "execution_count": 1,
   "metadata": {},
   "outputs": [],
   "source": [
    "from engicalc import Beton, put_out\n",
    "from engicalc.concrete import *\n",
    "import engicalc.units as un"
   ]
  },
  {
   "cell_type": "code",
   "execution_count": 2,
   "metadata": {},
   "outputs": [
    {
     "data": {
      "text/markdown": [
       "\n",
       "*SIA 262:2013 Abschnitt 4.4.1.3 (99)*\n",
       "\n",
       "Gemäss SIA 262:2013, Abschnitt 4.4.1.3, wird der Abminderungsfaktor $k_t$ zur Berücksichtigung der Abmessung bestimmt:\n",
       "$$ k_t = \\frac{1}{1+0.5 \\cdot t} $$\n",
       "            "
      ],
      "text/plain": [
       "<IPython.core.display.Markdown object>"
      ]
     },
     "metadata": {},
     "output_type": "display_data"
    },
    {
     "data": {
      "text/markdown": [
       "$$\n",
       "\\begin{aligned}\n",
       "k_{t} & = 0.5 \\end{aligned}\n",
       "$$"
      ],
      "text/plain": [
       "<IPython.core.display.Markdown object>"
      ]
     },
     "metadata": {},
     "output_type": "display_data"
    }
   ],
   "source": [
    "k_t = abminderungsfaktor_kt_SIA262_99(2, biegebeanspruchung=False, background=True)\n",
    "\n",
    "put_out()"
   ]
  },
  {
   "cell_type": "code",
   "execution_count": 3,
   "metadata": {},
   "outputs": [
    {
     "data": {
      "text/markdown": [
       "$$\n",
       "\\begin{aligned}\n",
       "\\oslash'_{1} & = 15 \\ \\mathrm{mm} \\quad & \\oslash'_{2} & = 12 \\ \\mathrm{mm} \\quad & \\oslash'_{3} & = 13 \\ \\mathrm{mm} \\end{aligned}\n",
       "$$"
      ],
      "text/plain": [
       "<IPython.core.display.Markdown object>"
      ]
     },
     "metadata": {},
     "output_type": "display_data"
    }
   ],
   "source": [
    "diam_strich_1= 15*mm\n",
    "diam_strich_2 = 12*mm\n",
    "diam_strich_3 = 13*mm\n",
    "\n",
    "put_out()"
   ]
  },
  {
   "cell_type": "code",
   "execution_count": 4,
   "metadata": {},
   "outputs": [
    {
     "data": {
      "text/markdown": [
       "$$\n",
       "\\begin{aligned}\n",
       "a_{max} & = 20 \\end{aligned}\n",
       "$$"
      ],
      "text/plain": [
       "<IPython.core.display.Markdown object>"
      ]
     },
     "metadata": {},
     "output_type": "display_data"
    }
   ],
   "source": [
    "a_max = 20\n",
    "\n",
    "put_out()"
   ]
  },
  {
   "cell_type": "code",
   "execution_count": 8,
   "metadata": {},
   "outputs": [
    {
     "data": {
      "text/markdown": [
       "$$\n",
       "\\begin{aligned}\n",
       "\\oslash' & = 20 \\ \\mathrm{mm} \\quad & \\sum\\oslash'_{n} & = 47 \\ \\mathrm{mm} \\end{aligned}\n",
       "$$"
      ],
      "text/plain": [
       "<IPython.core.display.Markdown object>"
      ]
     },
     "metadata": {},
     "output_type": "display_data"
    }
   ],
   "source": [
    "diam_strich = 20*mm\n",
    "sum_diam_strich_n = sum([diam_strich, diam_strich_1, diam_strich_2])\n",
    "put_out()"
   ]
  },
  {
   "cell_type": "code",
   "execution_count": 6,
   "metadata": {},
   "outputs": [
    {
     "name": "stdout",
     "output_type": "stream",
     "text": [
      "Beton: NPK G (C40/50)\n"
     ]
    }
   ],
   "source": [
    "NPK_G = Beton(\"G\")\n",
    "NPK_G.expositionsklassen = 'XC1'\n",
    "NPK_G.nennwert_groesstkorn = 32*un.mm\n",
    "NPK_G.druckfestigkeitsklasse = 'C40/50'\n",
    "print(NPK_G)"
   ]
  },
  {
   "cell_type": "code",
   "execution_count": 7,
   "metadata": {},
   "outputs": [
    {
     "data": {
      "text/markdown": [
       "| Bezeichnung                        | Wert                                      | Bezeichnung                                        | Wert                                       |\n",
       "| ---------------------------------- | ----------------------------------------- | -------------------------------------------------- | ------------------------------------------ |\n",
       "| Name                               | NPK G                                     | Dichte $\\rho$                                      | $None$                                     |\n",
       "| Elastizitätsmodul                  | $None$                                    | Druckfestigkeitsklasse                             | C40/50                                     |\n",
       "| Expositionsklassen                 | XC1                                       | Nennwert Grösstkorn $D_{{max}}$                    | $32\\ \\mathrm{mm}$                          |\n",
       "| Klasse des Chloridgehalts $CL$     | $0.1$                                     | Konsistenzklasse                                   | C3                                         |\n",
       "| Frost-Tausalz-Widerstand           | $('hoch',)$                               | Charakteristische Würfeldruckfestigkeit $f_{{ck}}$ | $30.0\\ \\frac{\\mathrm{N}}{\\mathrm{mm}^{2}}$ |\n",
       "| Mittlere Zugfestigkeit $f_{{ctm}}$ | $2.9\\ \\frac{\\mathrm{N}}{\\mathrm{mm}^{2}}$ | -                                                  | -                                          |"
      ],
      "text/plain": [
       "<engicalc.materials.Beton at 0x1266c01a0>"
      ]
     },
     "execution_count": 7,
     "metadata": {},
     "output_type": "execute_result"
    }
   ],
   "source": [
    "NPK_G"
   ]
  }
 ],
 "metadata": {
  "kernelspec": {
   "display_name": "calc",
   "language": "python",
   "name": "python3"
  },
  "language_info": {
   "codemirror_mode": {
    "name": "ipython",
    "version": 3
   },
   "file_extension": ".py",
   "mimetype": "text/x-python",
   "name": "python",
   "nbconvert_exporter": "python",
   "pygments_lexer": "ipython3",
   "version": "3.12.4"
  }
 },
 "nbformat": 4,
 "nbformat_minor": 2
}
