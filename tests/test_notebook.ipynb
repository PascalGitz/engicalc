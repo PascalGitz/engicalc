{
 "cells": [
  {
   "cell_type": "code",
   "execution_count": 1,
   "metadata": {},
   "outputs": [],
   "source": [
    "from engicalc import *\n",
    "import engicalc.concrete as ecc\n",
    "import engicalc.materials as emt\n",
    "from engicalc.units import *\n",
    "\n",
    "import numpy as np"
   ]
  },
  {
   "cell_type": "code",
   "execution_count": 2,
   "metadata": {},
   "outputs": [
    {
     "data": {
      "text/markdown": [
       "\n",
       "*SIA 262:2013 Abschnitt 4.4.1.3 (99)*\n",
       "\n",
       "Gemäss SIA 262:2013, Abschnitt 4.4.1.3, wird der Abminderungsfaktor $k_t$ zur Berücksichtigung der Abmessung bestimmt:\n",
       "$$ k_t = \\frac{1}{1+0.5 \\cdot t} $$\n",
       "            "
      ],
      "text/plain": [
       "<IPython.core.display.Markdown object>"
      ]
     },
     "metadata": {},
     "output_type": "display_data"
    },
    {
     "data": {
      "text/markdown": [
       "$$\n",
       "\\begin{aligned}\n",
       "k_{t} & = 0.5 \\end{aligned}\n",
       "$$"
      ],
      "text/plain": [
       "<IPython.core.display.Markdown object>"
      ]
     },
     "metadata": {},
     "output_type": "display_data"
    }
   ],
   "source": [
    "k_t = ecc.abminderungsfaktor_kt_SIA262_99(2, biegebeanspruchung=False, background=True)\n",
    "\n",
    "put_out()"
   ]
  },
  {
   "cell_type": "markdown",
   "metadata": {},
   "source": [
    "# Output Features"
   ]
  },
  {
   "cell_type": "code",
   "execution_count": 3,
   "metadata": {},
   "outputs": [
    {
     "data": {
      "text/markdown": [
       "$$\n",
       "\\begin{aligned}\n",
       "variable_{pint test} & = 15 \\ \\mathrm{mm} \\quad & variable_{test} & = 20 \\quad & string_{test} & = Das ist ein String \\\\ \n",
       "Ausnutzung_{des Querkraftwiderstands} & = 1.0 \\quad & \\sum\\oslash'_{special , test} & = 15 \\ \\mathrm{mm} \\quad &  \n",
       " \\end{aligned}\n",
       "$$"
      ],
      "text/plain": [
       "<IPython.core.display.Markdown object>"
      ]
     },
     "metadata": {},
     "output_type": "display_data"
    }
   ],
   "source": [
    "variable_pint_test = 15*mm\n",
    "variable_test = 20\n",
    "string_test = 'Das ist ein String'\n",
    "\n",
    "Ausnutzung_des_Querkraftwiderstands = 1.0\n",
    "\n",
    "sum_diam_apos_special_comma_test = 15*mm\n",
    "\n",
    "\n",
    "put_out()\n"
   ]
  },
  {
   "cell_type": "code",
   "execution_count": 4,
   "metadata": {},
   "outputs": [],
   "source": [
    "from numpy.linalg import det"
   ]
  },
  {
   "cell_type": "code",
   "execution_count": 5,
   "metadata": {},
   "outputs": [
    {
     "data": {
      "text/markdown": [
       "$$\n",
       "\\begin{aligned}\n",
       "vector_{test} & = \\left[\\begin{matrix}20\\\\20\\\\20\\end{matrix}\\right] \\quad & matrix_{test} & = \\left[\\begin{matrix}4 & 2 & 20\\\\20 & 6 & 20\\\\2 & 20 & 3\\end{matrix}\\right] \\quad & matrix_{operation test} & = \\left[\\begin{matrix}80 & 40 & 400\\\\400 & 120 & 400\\\\40 & 400 & 60\\end{matrix}\\right] \\\\ \n",
       "matrix_{operation test 2} & = \\left[\\begin{matrix}520\\\\920\\\\500\\end{matrix}\\right] \\quad & determinant_{test} & = 6192.0 \\quad & unit_{vector test} & = \\left[\\begin{matrix}20\\\\20\\\\20\\end{matrix}\\right] \\ \\mathrm{m} \\\\ \n",
       "unit_{matrix test} & = \\left[\\begin{matrix}4 & 2 & 20\\\\20 & 6 & 20\\\\2 & 20 & 3\\end{matrix}\\right] \\ \\mathrm{m} \\quad &  \\quad &  \n",
       " \\end{aligned}\n",
       "$$"
      ],
      "text/plain": [
       "<IPython.core.display.Markdown object>"
      ]
     },
     "metadata": {},
     "output_type": "display_data"
    }
   ],
   "source": [
    "vector_test = np.array([variable_test, variable_test, variable_test])\n",
    "matrix_test = np.array([[4, 2, variable_test],[variable_test, 6, variable_test], [2, variable_test, 3]])\n",
    "matrix_operation_test = vector_test * matrix_test\n",
    "matrix_operation_test_2 = matrix_test @ vector_test\n",
    "\n",
    "determinant_test = det(matrix_test)\n",
    "unit_vector_test = vector_test*m\n",
    "unit_matrix_test = matrix_test*m\n",
    "\n",
    "put_out()\n"
   ]
  },
  {
   "cell_type": "code",
   "execution_count": 6,
   "metadata": {},
   "outputs": [
    {
     "data": {
      "text/markdown": [
       "$$\n",
       "\\begin{aligned}\n",
       "list_{test} & = [20, 20] \\quad & list_{operation test} & = [20, 20, 20, 20, 20, 20] \\quad & list_{pint test} & = \\left[\\begin{matrix}20\\\\20\\end{matrix}\\right] \\ \\mathrm{m} \\end{aligned}\n",
       "$$"
      ],
      "text/plain": [
       "<IPython.core.display.Markdown object>"
      ]
     },
     "metadata": {},
     "output_type": "display_data"
    }
   ],
   "source": [
    "list_test = [variable_test, variable_test]\n",
    "list_operation_test = 3 * list_test\n",
    "list_pint_test = list_test*m\n",
    "\n",
    "put_out()\n"
   ]
  },
  {
   "cell_type": "code",
   "execution_count": 7,
   "metadata": {},
   "outputs": [
    {
     "data": {
      "text/markdown": [
       "| Bezeichnung                   | Wert               |\n",
       "|:------------------------------|:-------------------|\n",
       "| $\\oslash_1'$                  | $15 \\ \\mathrm{mm}$ |\n",
       "| hier kann jeder String stehen | $3.2344$           |"
      ],
      "text/plain": [
       "<IPython.core.display.Markdown object>"
      ]
     },
     "metadata": {},
     "output_type": "display_data"
    },
    {
     "data": {
      "text/markdown": [
       "| Bezeichnung      | Wert                                                                                      |\n",
       "|:-----------------|:------------------------------------------------------------------------------------------|\n",
       "| test             | $[20, 20]$                                                                                |\n",
       "| matrix_test      | $\\left[\\begin{matrix}4 & 2 & 20\\\\20 & 6 & 20\\\\2 & 20 & 3\\end{matrix}\\right]$              |\n",
       "| matrix_unit_test | $\\left[\\begin{matrix}4 & 2 & 20\\\\20 & 6 & 20\\\\2 & 20 & 3\\end{matrix}\\right] \\ \\mathrm{m}$ |"
      ],
      "text/plain": [
       "<IPython.core.display.Markdown object>"
      ]
     },
     "metadata": {},
     "output_type": "display_data"
    }
   ],
   "source": [
    "dict_test = {\n",
    "    \"$\\\\oslash_1'$\" :variable_pint_test,\n",
    "    'hier kann jeder String stehen': 3.234423}\n",
    "\n",
    "\n",
    "dict_2 = {\n",
    "    'test':list_test,\n",
    "    'matrix_test':matrix_test,\n",
    "    'matrix_unit_test': unit_matrix_test\n",
    "}\n",
    "\n",
    "\n",
    "put_out(precision=4, rows=4, tablefmt='pipe')\n"
   ]
  },
  {
   "cell_type": "code",
   "execution_count": 8,
   "metadata": {},
   "outputs": [
    {
     "name": "stdout",
     "output_type": "stream",
     "text": [
      "Beton: NPK G (C40/50)\n"
     ]
    }
   ],
   "source": [
    "NPK_G = emt.Beton(\"G\")\n",
    "NPK_G.expositionsklassen = 'XC1'\n",
    "NPK_G.nennwert_groesstkorn = 32*mm\n",
    "NPK_G.druckfestigkeitsklasse = 'C40/50'\n",
    "print(NPK_G)"
   ]
  },
  {
   "cell_type": "code",
   "execution_count": 9,
   "metadata": {},
   "outputs": [
    {
     "data": {
      "text/markdown": [
       "| Bezeichnung                                        | Wert                                        |\n",
       "|:---------------------------------------------------|:--------------------------------------------|\n",
       "| Name                                               | $NPK G$                                     |\n",
       "| Dichte $\\rho$                                      | $None$                                      |\n",
       "| Elastizitätsmodul                                  | $None$                                      |\n",
       "| Druckfestigkeitsklasse                             | $C40/50$                                    |\n",
       "| Expositionsklassen                                 | $XC1$                                       |\n",
       "| Nennwert Grösstkorn $D_{{max}}$                    | $32 \\ \\mathrm{mm}$                          |\n",
       "| Klasse des Chloridgehalts $CL$                     | $0.1$                                       |\n",
       "| Konsistenzklasse                                   | $C3$                                        |\n",
       "| Frost-Tausalz-Widerstand                           | $('hoch',)$                                 |\n",
       "| Charakteristische Würfeldruckfestigkeit $f_{{ck}}$ | $30.0 \\ \\frac{\\mathrm{N}}{\\mathrm{mm}^{2}}$ |\n",
       "| Mittlere Zugfestigkeit $f_{{ctm}}$                 | $2.9 \\ \\frac{\\mathrm{N}}{\\mathrm{mm}^{2}}$  |"
      ],
      "text/plain": [
       "<engicalc.materials.Beton at 0x2a5d3ff4ed0>"
      ]
     },
     "execution_count": 9,
     "metadata": {},
     "output_type": "execute_result"
    }
   ],
   "source": [
    "NPK_G"
   ]
  }
 ],
 "metadata": {
  "kernelspec": {
   "display_name": "calc",
   "language": "python",
   "name": "python3"
  },
  "language_info": {
   "codemirror_mode": {
    "name": "ipython",
    "version": 3
   },
   "file_extension": ".py",
   "mimetype": "text/x-python",
   "name": "python",
   "nbconvert_exporter": "python",
   "pygments_lexer": "ipython3",
   "version": "3.11.9"
  }
 },
 "nbformat": 4,
 "nbformat_minor": 2
}
