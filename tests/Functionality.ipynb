{
 "cells": [
  {
   "cell_type": "raw",
   "metadata": {
    "vscode": {
     "languageId": "raw"
    }
   },
   "source": [
    "---\n",
    "title: \"Functionality\"\n",
    "format: typst\n",
    "---"
   ]
  },
  {
   "cell_type": "markdown",
   "metadata": {},
   "source": [
    "The core features of the package are shown in the following paragraphs."
   ]
  },
  {
   "cell_type": "code",
   "execution_count": 1,
   "metadata": {},
   "outputs": [],
   "source": [
    "import engicalc as e\n",
    "import numpy as np"
   ]
  },
  {
   "cell_type": "markdown",
   "metadata": {},
   "source": [
    "## Integration of Pint units"
   ]
  },
  {
   "cell_type": "markdown",
   "metadata": {},
   "source": [
    "### Common Units"
   ]
  },
  {
   "cell_type": "markdown",
   "metadata": {},
   "source": [
    "Common units are stored as variables and are automatically imported with the package. The following units are available:"
   ]
  },
  {
   "cell_type": "code",
   "execution_count": 2,
   "metadata": {},
   "outputs": [
    {
     "name": "stdout",
     "output_type": "stream",
     "text": [
      "kg\n",
      "t\n",
      "kNm\n",
      "Nm\n",
      "N\n",
      "kN\n",
      "MN\n",
      "m\n",
      "cm\n",
      "dm\n",
      "mm\n",
      "km\n",
      "rad\n",
      "deg\n",
      "%\n",
      "‰\n",
      "s\n",
      "°C\n",
      "K\n",
      "MPa\n",
      "\n"
     ]
    }
   ],
   "source": [
    "for unit in e.units.items():\n",
    "    print(unit[1])"
   ]
  },
  {
   "cell_type": "markdown",
   "metadata": {},
   "source": [
    "### Handling Units "
   ]
  },
  {
   "cell_type": "markdown",
   "metadata": {},
   "source": [
    "Units can be added using operators:"
   ]
  },
  {
   "cell_type": "code",
   "execution_count": 3,
   "metadata": {},
   "outputs": [],
   "source": [
    "v = 30 *e.kNm\n",
    "\n",
    "v_t = v + 30*e.kNm\n"
   ]
  },
  {
   "cell_type": "markdown",
   "metadata": {},
   "source": [
    "You can also access the full unit registry:"
   ]
  },
  {
   "cell_type": "code",
   "execution_count": 4,
   "metadata": {},
   "outputs": [
    {
     "name": "stdout",
     "output_type": "stream",
     "text": [
      "400 h\n"
     ]
    }
   ],
   "source": [
    "u = 400 *e.ureg.hours\n",
    "\n",
    "print(u)"
   ]
  },
  {
   "cell_type": "markdown",
   "metadata": {},
   "source": [
    "Convert units using Pint:"
   ]
  },
  {
   "cell_type": "code",
   "execution_count": 5,
   "metadata": {},
   "outputs": [
    {
     "data": {
      "text/html": [
       "1440000 s"
      ],
      "text/latex": [
       "$1440000\\ \\mathrm{s}$"
      ],
      "text/plain": [
       "<Quantity(1440000, 'second')>"
      ]
     },
     "execution_count": 5,
     "metadata": {},
     "output_type": "execute_result"
    }
   ],
   "source": [
    "u.to(e.s)"
   ]
  },
  {
   "cell_type": "markdown",
   "metadata": {},
   "source": [
    "## Parsing"
   ]
  },
  {
   "cell_type": "markdown",
   "metadata": {},
   "source": [
    "### Cell Parsing"
   ]
  },
  {
   "cell_type": "markdown",
   "metadata": {},
   "source": [
    "A simple parsing function extracts calculations from a cell:"
   ]
  },
  {
   "cell_type": "code",
   "execution_count": 6,
   "metadata": {},
   "outputs": [
    {
     "data": {
      "text/plain": [
       "[{'variable_name': 'v',\n",
       "  'expression': '30 * e.kNm',\n",
       "  'result': <Quantity(30, 'kNm')>},\n",
       " {'variable_name': 'v_t',\n",
       "  'expression': 'v + 30 * e.kNm',\n",
       "  'result': <Quantity(60, 'kNm')>}]"
      ]
     },
     "execution_count": 6,
     "metadata": {},
     "output_type": "execute_result"
    }
   ],
   "source": [
    "v = 30 *e.kNm\n",
    "\n",
    "v_t = v + 30*e.kNm\n",
    "\n",
    "e.parse_cell()"
   ]
  },
  {
   "cell_type": "markdown",
   "metadata": {},
   "source": [
    "#### Drawbacks"
   ]
  },
  {
   "cell_type": "markdown",
   "metadata": {},
   "source": [
    "- The parsing function loses datatype information, returning rows as strings.\n",
    "- Currently only assignments work, no conditionals, or other python syntax"
   ]
  },
  {
   "cell_type": "code",
   "execution_count": 7,
   "metadata": {},
   "outputs": [
    {
     "data": {
      "text/plain": [
       "[{'variable_name': 'b', 'expression': '20', 'result': 20},\n",
       " {'variable_name': 'b', 'expression': '40', 'result': 40}]"
      ]
     },
     "execution_count": 7,
     "metadata": {},
     "output_type": "execute_result"
    }
   ],
   "source": [
    "b = 20 \n",
    "\n",
    "if b >20:\n",
    "    b = 40\n",
    "\n",
    "e.parse_cell()"
   ]
  },
  {
   "cell_type": "markdown",
   "metadata": {},
   "source": [
    "## Markdown rendering\n",
    "\n",
    "Parsed cell content is processed using `sympy.sympify` and converted to `latex` via the `sympy` latexprinter. Eventually the `latex`code is inserted into a Markdown math environment. The `render()`function is capable of the following:\n"
   ]
  },
  {
   "cell_type": "markdown",
   "metadata": {},
   "source": [
    "### Numeric representation\n",
    "\n",
    "The numeric representation shows the Variablename and its value."
   ]
  },
  {
   "cell_type": "code",
   "execution_count": 8,
   "metadata": {},
   "outputs": [
    {
     "data": {
      "text/markdown": [
       "$$\\begin{aligned}v& = 30 \\cdot \\mathrm{kNm} = 30 \\ \\mathrm{kNm} \\\\ v_{t}& = v + 30 \\cdot \\mathrm{kNm} = 60 \\ \\mathrm{kNm} \\\\ \\Theta_{pl A}& = 5 \\\\ m_{u A}& = 10 \\\\ m_{y A}& = 5 \\\\ l& = 1 \\\\ b_{w}& = 0.1 \\\\ EI_{II}& = 20 \\\\ q_{S1 A}& = 10\\end{aligned}$$"
      ],
      "text/plain": [
       "<IPython.core.display.Markdown object>"
      ]
     },
     "metadata": {},
     "output_type": "display_data"
    }
   ],
   "source": [
    "v = 30 *e.kNm\n",
    "\n",
    "v_t = v + 30*e.kNm\n",
    "\n",
    "\n",
    "Theta_pl_A= 5 \n",
    "m_u_A = 10 \n",
    "m_y_A=5\n",
    "l=1\n",
    "b_w=0.1\n",
    "EI_II=20\n",
    "q_S1_A= 10\n",
    "\n",
    "e.render(symbolic=True)"
   ]
  },
  {
   "cell_type": "markdown",
   "metadata": {},
   "source": [
    "### Symbolic Representation"
   ]
  },
  {
   "cell_type": "markdown",
   "metadata": {},
   "source": [
    "The symbolic representation is also showing the calculation."
   ]
  },
  {
   "cell_type": "code",
   "execution_count": 9,
   "metadata": {},
   "outputs": [
    {
     "data": {
      "text/markdown": [
       "$$\\begin{aligned}\\alpha_{u A}& = \\frac{\\sqrt{\\Theta_{pl A}}}{2} = 1.12 \\\\ \\Delta& = \\left(\\sin{\\left(\\alpha_{u A} \\right)} + \\frac{\\left(m_{u A} - m_{y A}\\right) \\cdot l \\cdot b_{w}}{3 \\cdot EI_{II}}\\right) \\cdot 24 \\cdot EI_{II} \\cdot \\frac{1}{l^{3}} \\cdot \\mathrm{m} = 435.64 \\ \\mathrm{m} \\\\ q_{u A}& = \\Delta + q_{S1 A} \\cdot \\mathrm{m} = 445.64 \\ \\mathrm{m}\\end{aligned}$$"
      ],
      "text/plain": [
       "<IPython.core.display.Markdown object>"
      ]
     },
     "metadata": {},
     "output_type": "display_data"
    }
   ],
   "source": [
    "alpha_u_A = np.sqrt(Theta_pl_A) / 2\n",
    "Delta = ((np.sin(alpha_u_A) + (m_u_A - m_y_A) * l * b_w / (3 * EI_II)) * 24 * EI_II / l**3)*e.m\n",
    "q_u_A = Delta + q_S1_A*e.m\n",
    "e.render(raw=False)"
   ]
  },
  {
   "cell_type": "markdown",
   "metadata": {},
   "source": [
    "#### Only symbolic\n",
    "\n",
    "As a sidefunctionality, only the symbolic part can be shown."
   ]
  },
  {
   "cell_type": "code",
   "execution_count": 10,
   "metadata": {},
   "outputs": [
    {
     "data": {
      "text/markdown": [
       "$$\\begin{aligned}\\Delta& = \\left(\\sin{\\left(\\alpha_{u A} \\right)} + \\frac{\\left(m_{u A} - m_{y A}\\right) \\cdot l \\cdot b_{w}}{3 \\cdot EI_{II}}\\right) \\cdot 24 \\cdot EI_{II} \\cdot \\frac{1}{l^{3}} \\cdot \\mathrm{m} \\\\ l& = 1 \\\\ x& = 2 \\cdot \\Delta\\end{aligned}$$"
      ],
      "text/plain": [
       "<IPython.core.display.Markdown object>"
      ]
     },
     "metadata": {},
     "output_type": "display_data"
    }
   ],
   "source": [
    "Delta\n",
    "l\n",
    "x = 2*Delta\n",
    "e.render(symbolic=True, numeric=False)"
   ]
  },
  {
   "cell_type": "markdown",
   "metadata": {},
   "source": [
    "### Recalling variables\n",
    "\n",
    "The defined variables in the notebook are stored in a container. They can be recalled at anytime and ec.rendered again."
   ]
  },
  {
   "cell_type": "code",
   "execution_count": 11,
   "metadata": {},
   "outputs": [
    {
     "data": {
      "text/markdown": [
       "$$\\begin{aligned}v& = 30 \\cdot \\mathrm{kNm} = 30 \\ \\mathrm{kNm} \\\\ \\Delta& = \\left(\\sin{\\left(\\alpha_{u A} \\right)} + \\frac{\\left(m_{u A} - m_{y A}\\right) \\cdot l \\cdot b_{w}}{3 \\cdot EI_{II}}\\right) \\cdot 24 \\cdot EI_{II} \\cdot \\frac{1}{l^{3}} \\cdot \\mathrm{m} = 435.64 \\ \\mathrm{m}\\end{aligned}$$"
      ],
      "text/plain": [
       "<IPython.core.display.Markdown object>"
      ]
     },
     "metadata": {},
     "output_type": "display_data"
    }
   ],
   "source": [
    "v\n",
    "Delta\n",
    "\n",
    "e.render()"
   ]
  },
  {
   "cell_type": "markdown",
   "metadata": {},
   "source": [
    "### Multiple Rows\n",
    "\n",
    "The markdown math environment is capable of displaying the equations in multiple rows:"
   ]
  },
  {
   "cell_type": "code",
   "execution_count": 12,
   "metadata": {},
   "outputs": [
    {
     "data": {
      "text/markdown": [
       "$$\\begin{aligned}v& = 30 \\ \\mathrm{kNm} \\quad & \\Delta& = 435.64 \\ \\mathrm{m} \\quad & \\Theta_{pl A}& = 5 \\\\ EI_{II}& = 20 \\quad & v_{t}& = 60 \\ \\mathrm{kNm} \\quad & \\end{aligned}$$"
      ],
      "text/plain": [
       "<IPython.core.display.Markdown object>"
      ]
     },
     "metadata": {},
     "output_type": "display_data"
    },
    {
     "data": {
      "text/markdown": [
       "$$\\begin{aligned}v& = 30 \\ \\mathrm{kNm} \\quad & \\Delta& = 435.64 \\ \\mathrm{m} \\quad & \\Theta_{pl A}& = 5 \\quad & EI_{II}& = 20 \\quad & v_{t}& = 60 \\ \\mathrm{kNm}\\end{aligned}$$"
      ],
      "text/plain": [
       "<IPython.core.display.Markdown object>"
      ]
     },
     "metadata": {},
     "output_type": "display_data"
    }
   ],
   "source": [
    "v\n",
    "Delta\n",
    "Theta_pl_A\n",
    "EI_II\n",
    "v_t\n",
    "e.render(rows=3, symbolic=False)\n",
    "\n",
    "e.render(rows=5, symbolic=False)"
   ]
  },
  {
   "cell_type": "markdown",
   "metadata": {},
   "source": [
    "### Numpy functions\n",
    "\n",
    "The package is based around the numpy functions and they should be used. Currently the `numpy.`is stripped and the numpyfunction gets translated to `sympy` via `sympy.sympify`."
   ]
  },
  {
   "cell_type": "code",
   "execution_count": 13,
   "metadata": {},
   "outputs": [
    {
     "data": {
      "text/markdown": [
       "$$\\begin{aligned}\\alpha& = 45 \\cdot \\mathrm{°} = 45 \\ \\mathrm{°} \\\\ test& = \\operatorname{atan}{\\left(\\alpha + 25 \\right)} = 1.53 \\ \\mathrm{rad}\\end{aligned}$$"
      ],
      "text/plain": [
       "<IPython.core.display.Markdown object>"
      ]
     },
     "metadata": {},
     "output_type": "display_data"
    }
   ],
   "source": [
    "alpha = 45*e.deg\n",
    "test = np.atan(alpha.to(e.los) + 25)\n",
    "\n",
    "e.render(raw=False)"
   ]
  },
  {
   "cell_type": "markdown",
   "metadata": {},
   "source": [
    "An array is translated to a matrix."
   ]
  },
  {
   "cell_type": "code",
   "execution_count": 14,
   "metadata": {},
   "outputs": [
    {
     "data": {
      "text/markdown": [
       "$$\\begin{aligned}F_{x}& = \\left|{\\left[\\begin{matrix}- 13 \\cdot \\mathrm{kN}\\\\30 \\cdot \\mathrm{kN}\\\\23 \\cdot \\mathrm{kN}\\\\12 \\cdot \\mathrm{kN}\\end{matrix}\\right]}\\right| = \\left[\\begin{matrix}13\\\\30\\\\23\\\\12\\end{matrix}\\right] \\ \\mathrm{kN} \\\\ F_{v}& = F_{x} \\cdot 2 = \\left[\\begin{matrix}26\\\\60\\\\46\\\\24\\end{matrix}\\right] \\ \\mathrm{kN} \\\\ F_{z}& = F_{x} \\cdot \\operatorname{atan}^{\\sqrt{1}}{\\left(\\alpha \\right)} = \\left[\\begin{matrix}8.66\\\\19.97\\\\15.31\\\\7.99\\end{matrix}\\right] \\ \\mathrm{kN} \\cdot \\mathrm{rad} \\\\ F_{y}& = F_{x} \\cdot F_{v} = \\left[\\begin{matrix}338\\\\1800\\\\1058\\\\288\\end{matrix}\\right] \\ \\mathrm{kN}^{2}\\end{aligned}$$"
      ],
      "text/plain": [
       "<IPython.core.display.Markdown object>"
      ]
     },
     "metadata": {},
     "output_type": "display_data"
    }
   ],
   "source": [
    "F_x = np.abs(np.array([-13,30,23,12])*e.kN)\n",
    "F_v = F_x * 2\n",
    "F_z = F_x*np.atan(alpha)**np.sqrt(1)\n",
    "F_y = F_x * F_v\n",
    "e.render(symbolic=True)"
   ]
  },
  {
   "cell_type": "markdown",
   "metadata": {},
   "source": [
    "### Raw Markdown\n",
    "\n",
    "As the markdowncode is stored anyways, it can be output aswell. Could be used to copy into a table."
   ]
  },
  {
   "cell_type": "code",
   "execution_count": 15,
   "metadata": {},
   "outputs": [
    {
     "data": {
      "text/plain": [
       "'$$\\\\begin{aligned}v& = 30 \\\\cdot \\\\mathrm{kNm} = 30 \\\\ \\\\mathrm{kNm} \\\\\\\\ \\\\Delta& = \\\\left(\\\\sin{\\\\left(\\\\alpha_{u A} \\\\right)} + \\\\frac{\\\\left(m_{u A} - m_{y A}\\\\right) \\\\cdot l \\\\cdot b_{w}}{3 \\\\cdot EI_{II}}\\\\right) \\\\cdot 24 \\\\cdot EI_{II} \\\\cdot \\\\frac{1}{l^{3}} \\\\cdot \\\\mathrm{m} = 435.64 \\\\ \\\\mathrm{m} \\\\\\\\ \\\\Theta_{pl A}& = 5\\\\end{aligned}$$'"
      ]
     },
     "execution_count": 15,
     "metadata": {},
     "output_type": "execute_result"
    }
   ],
   "source": [
    "v\n",
    "Delta\n",
    "Theta_pl_A\n",
    "e.render(symbolic=True, raw=True)"
   ]
  },
  {
   "cell_type": "markdown",
   "metadata": {},
   "source": [
    "### Special Characters\n",
    "\n",
    "Some special characters are inserted in the string before the sympy conversion takes place. In the `output` module, a replacement dictionary is created to replace the special characters. This can be expanded. It has to correspond to the `latex` syntax."
   ]
  },
  {
   "cell_type": "code",
   "execution_count": 16,
   "metadata": {},
   "outputs": [
    {
     "data": {
      "text/markdown": [
       "$$\\begin{aligned}\\oslash_{\\infty}& = 20 \\\\ \\infty^{\\infty \\oslash}_{\\infty}& = 10\\end{aligned}$$"
      ],
      "text/plain": [
       "<IPython.core.display.Markdown object>"
      ]
     },
     "metadata": {},
     "output_type": "display_data"
    }
   ],
   "source": [
    "diam_infty = 20\n",
    "\n",
    "infty__infty_infty__diam = 10\n",
    "e.render(raw=False)"
   ]
  },
  {
   "cell_type": "markdown",
   "metadata": {},
   "source": [
    "### Pint unit handling"
   ]
  },
  {
   "cell_type": "code",
   "execution_count": 17,
   "metadata": {},
   "outputs": [
    {
     "data": {
      "text/markdown": [
       "$$\\begin{aligned}v& = v_{t} + 30 \\cdot 2 \\cdot \\mathrm{Nm} = 60060.0 \\ \\mathrm{Nm} \\\\ q& = v_{t} \\cdot \\mathrm{Nm} + v = 60120.0 \\ \\mathrm{Nm} \\\\ q^{shortcut}& = v_{t} \\cdot \\mathrm{Nm} + v = 60120.0 \\ \\mathrm{Nm}\\end{aligned}$$"
      ],
      "text/plain": [
       "<IPython.core.display.Markdown object>"
      ]
     },
     "metadata": {},
     "output_type": "display_data"
    }
   ],
   "source": [
    "v = v_t.to(e.Nm) + 30*2*e.Nm\n",
    "q = v_t.magnitude*e.Nm + v\n",
    "q__shortcut = v_t.m * e.Nm + v\n",
    "e.render()"
   ]
  },
  {
   "cell_type": "markdown",
   "metadata": {},
   "source": [
    "### Functions"
   ]
  },
  {
   "cell_type": "markdown",
   "metadata": {},
   "source": [
    "It can be useful to display the calculations that have been done in a function environment. For that there is a second parsing function. The Funcion parses the local variables."
   ]
  },
  {
   "cell_type": "code",
   "execution_count": 18,
   "metadata": {},
   "outputs": [],
   "source": [
    "from IPython.display import Markdown"
   ]
  },
  {
   "cell_type": "code",
   "execution_count": 19,
   "metadata": {},
   "outputs": [],
   "source": [
    "def test(alpha__top, b):\n",
    "    x = alpha__top + b \n",
    "    y = alpha__top-b*2\n",
    "    z = x + y\n",
    "    display(Markdown('**Only Symbolic representation**'))\n",
    "    e.render_func(numeric=False ,rows=2)\n",
    "    display(Markdown('**Whole representation**'))\n",
    "    e.render_func(numeric=True ,rows=3)\n",
    "    return z\n",
    "\n"
   ]
  },
  {
   "cell_type": "code",
   "execution_count": 20,
   "metadata": {},
   "outputs": [
    {
     "data": {
      "text/markdown": [
       "**Only Symbolic representation**"
      ],
      "text/plain": [
       "<IPython.core.display.Markdown object>"
      ]
     },
     "metadata": {},
     "output_type": "display_data"
    },
    {
     "data": {
      "text/markdown": [
       "$$\\begin{aligned}\\alpha^{top}& = 3 \\quad & b& = 4 \\\\ x& = \\alpha^{top} + b \\quad & y& = \\alpha^{top} - b \\cdot 2 \\\\ z& = x + y \\quad & \\end{aligned}$$"
      ],
      "text/plain": [
       "<IPython.core.display.Markdown object>"
      ]
     },
     "metadata": {},
     "output_type": "display_data"
    },
    {
     "data": {
      "text/markdown": [
       "**Whole representation**"
      ],
      "text/plain": [
       "<IPython.core.display.Markdown object>"
      ]
     },
     "metadata": {},
     "output_type": "display_data"
    },
    {
     "data": {
      "text/markdown": [
       "$$\\begin{aligned}\\alpha^{top}& = 3 \\quad & b& = 4 \\quad & x& = \\alpha^{top} + b = 7 \\\\ y& = \\alpha^{top} - b \\cdot 2 = -5 \\quad & z& = x + y = 2 \\quad & \\end{aligned}$$"
      ],
      "text/plain": [
       "<IPython.core.display.Markdown object>"
      ]
     },
     "metadata": {},
     "output_type": "display_data"
    }
   ],
   "source": [
    "z = test(3,4)"
   ]
  },
  {
   "cell_type": "code",
   "execution_count": 21,
   "metadata": {},
   "outputs": [
    {
     "data": {
      "text/markdown": [
       "**Only Symbolic representation**"
      ],
      "text/plain": [
       "<IPython.core.display.Markdown object>"
      ]
     },
     "metadata": {},
     "output_type": "display_data"
    },
    {
     "data": {
      "text/markdown": [
       "$$\\begin{aligned}\\alpha^{top}& = 8 \\ \\mathrm{kNm} \\quad & b& = 3 \\ \\mathrm{kNm} \\\\ x& = \\alpha^{top} + b \\quad & y& = \\alpha^{top} - b \\cdot 2 \\\\ z& = x + y \\quad & \\end{aligned}$$"
      ],
      "text/plain": [
       "<IPython.core.display.Markdown object>"
      ]
     },
     "metadata": {},
     "output_type": "display_data"
    },
    {
     "data": {
      "text/markdown": [
       "**Whole representation**"
      ],
      "text/plain": [
       "<IPython.core.display.Markdown object>"
      ]
     },
     "metadata": {},
     "output_type": "display_data"
    },
    {
     "data": {
      "text/markdown": [
       "$$\\begin{aligned}\\alpha^{top}& = 8 \\ \\mathrm{kNm} \\quad & b& = 3 \\ \\mathrm{kNm} \\quad & x& = \\alpha^{top} + b = 11 \\ \\mathrm{kNm} \\\\ y& = \\alpha^{top} - b \\cdot 2 = 2 \\ \\mathrm{kNm} \\quad & z& = x + y = 13 \\ \\mathrm{kNm} \\quad & \\end{aligned}$$"
      ],
      "text/plain": [
       "<IPython.core.display.Markdown object>"
      ]
     },
     "metadata": {},
     "output_type": "display_data"
    }
   ],
   "source": [
    "z__2 = test(5*e.kNm + 3*e.kNm, 3*e.kNm)"
   ]
  },
  {
   "cell_type": "markdown",
   "metadata": {},
   "source": [
    "#### Drawback\n",
    "\n",
    "The `render` function parses the assignments inside the function. "
   ]
  },
  {
   "cell_type": "code",
   "execution_count": 22,
   "metadata": {},
   "outputs": [
    {
     "data": {
      "text/markdown": [
       "$$\\begin{aligned}x& = a + b = None \\\\ y& = a^{b} = None \\\\ z& = x + y = None\\end{aligned}$$"
      ],
      "text/plain": [
       "<IPython.core.display.Markdown object>"
      ]
     },
     "metadata": {},
     "output_type": "display_data"
    }
   ],
   "source": [
    "def test2(a, b):\n",
    "    x = a + b \n",
    "    y = a**b\n",
    "    z = x + y\n",
    "    return z\n",
    "\n",
    "e.render()"
   ]
  },
  {
   "cell_type": "code",
   "execution_count": 23,
   "metadata": {},
   "outputs": [
    {
     "data": {
      "text/markdown": [
       "$$\\begin{aligned}z& = \\operatorname{test}_{2}{\\left(3,4 \\right)} = 88\\end{aligned}$$"
      ],
      "text/plain": [
       "<IPython.core.display.Markdown object>"
      ]
     },
     "metadata": {},
     "output_type": "display_data"
    }
   ],
   "source": [
    "z = test2(3,4)\n",
    "\n",
    "e.render()"
   ]
  },
  {
   "cell_type": "markdown",
   "metadata": {},
   "source": [
    "## Markdown tables"
   ]
  },
  {
   "cell_type": "markdown",
   "metadata": {},
   "source": [
    "It can be useful to summarize the calculations in a table. For that the variables can easily be inserted into the table. Using the function `render_list`."
   ]
  },
  {
   "cell_type": "code",
   "execution_count": 25,
   "metadata": {},
   "outputs": [
    {
     "data": {
      "text/markdown": [
       "| Bezeichnung   | Berechnung                                                                      | Berechnung2                                                           |\n",
       "|:--------------|:--------------------------------------------------------------------------------|:----------------------------------------------------------------------|\n",
       "| Höhe          | $$\\begin{aligned}z& = \\operatorname{test}_{2}{\\left(3,4 \\right)}\\end{aligned}$$ | $$\\begin{aligned}z& = 88\\end{aligned}$$                               |\n",
       "| Differenz     | $$\\begin{aligned}v& = v_{t} + 30 \\cdot 2 \\cdot \\mathrm{Nm}\\end{aligned}$$       | $$\\begin{aligned}v& = 60060.0 \\ \\mathrm{Nm}\\end{aligned}$$            |\n",
       "| Test          | $$\\begin{aligned}q^{shortcut}& = v_{t} \\cdot \\mathrm{Nm} + v\\end{aligned}$$     | $$\\begin{aligned}q^{shortcut}& = 60120.0 \\ \\mathrm{Nm}\\end{aligned}$$ |\n",
       "| Test3         | $$\\begin{aligned}v_{t}& = v + 30 \\cdot \\mathrm{kNm}\\end{aligned}$$              | $$\\begin{aligned}v_{t}& = 60 \\ \\mathrm{kNm}\\end{aligned}$$            |"
      ],
      "text/plain": [
       "<IPython.core.display.Markdown object>"
      ]
     },
     "metadata": {},
     "output_type": "display_data"
    }
   ],
   "source": [
    "import pandas as pd\n",
    "\n",
    "# Example lists\n",
    "col_1 = e.render_list([z, v, q__shortcut, v_t], numeric=False, raw=True)\n",
    "col_2 = e.render_list([z, v, q__shortcut, v_t], symbolic=False, raw=True)\n",
    "names = ['Höhe', 'Differenz', 'Test', 'Test3']\n",
    "\n",
    "# Define column names\n",
    "columnnames = ['Bezeichnung', 'Berechnung', 'Berechnung2']\n",
    "\n",
    "# Create DataFrame\n",
    "DF = pd.DataFrame(list(zip(names, col_1, col_2)), columns=columnnames)\n",
    "\n",
    "# Display the DataFrame\n",
    "display(Markdown(DF.to_markdown(tablefmt='pipe', index=False)))"
   ]
  }
 ],
 "metadata": {
  "kernelspec": {
   "display_name": "engineering",
   "language": "python",
   "name": "python3"
  },
  "language_info": {
   "codemirror_mode": {
    "name": "ipython",
    "version": 3
   },
   "file_extension": ".py",
   "mimetype": "text/x-python",
   "name": "python",
   "nbconvert_exporter": "python",
   "pygments_lexer": "ipython3",
   "version": "3.10.16"
  }
 },
 "nbformat": 4,
 "nbformat_minor": 4
}
