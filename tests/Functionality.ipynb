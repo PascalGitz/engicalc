{
 "cells": [
  {
   "cell_type": "raw",
   "metadata": {
    "vscode": {
     "languageId": "raw"
    }
   },
   "source": [
    "---\n",
    "title: \"Functionality\"\n",
    "format: typst\n",
    "---"
   ]
  },
  {
   "cell_type": "markdown",
   "metadata": {},
   "source": [
    "The core features of the package are shown in the following paragraphs."
   ]
  },
  {
   "cell_type": "code",
   "execution_count": 1,
   "metadata": {},
   "outputs": [],
   "source": [
    "import engicalc as ec\n",
    "import numpy as np"
   ]
  },
  {
   "cell_type": "markdown",
   "metadata": {},
   "source": [
    "## Integration of Pint units"
   ]
  },
  {
   "cell_type": "markdown",
   "metadata": {},
   "source": [
    "### Common Units"
   ]
  },
  {
   "cell_type": "markdown",
   "metadata": {},
   "source": [
    "Common units are stored as variables and are automatically imported with the packag The following units are available:"
   ]
  },
  {
   "cell_type": "code",
   "execution_count": 2,
   "metadata": {},
   "outputs": [
    {
     "name": "stdout",
     "output_type": "stream",
     "text": [
      "kg\n",
      "t\n",
      "kNm\n",
      "Nm\n",
      "N\n",
      "kN\n",
      "MN\n",
      "m\n",
      "cm\n",
      "dm\n",
      "mm\n",
      "km\n",
      "rad\n",
      "deg\n",
      "%\n",
      "‰\n",
      "s\n",
      "°C\n",
      "K\n",
      "MPa\n",
      "\n"
     ]
    }
   ],
   "source": [
    "for unit in ec.units.items():\n",
    "    print(unit[1])"
   ]
  },
  {
   "cell_type": "markdown",
   "metadata": {},
   "source": [
    "### Handling Units "
   ]
  },
  {
   "cell_type": "markdown",
   "metadata": {},
   "source": [
    "Units can be added using operators:"
   ]
  },
  {
   "cell_type": "code",
   "execution_count": 3,
   "metadata": {},
   "outputs": [],
   "source": [
    "v = 30 *ec.kNm\n",
    "\n",
    "v_t = v + 30*ec.kNm\n"
   ]
  },
  {
   "cell_type": "markdown",
   "metadata": {},
   "source": [
    "You can also access the full unit registry:"
   ]
  },
  {
   "cell_type": "code",
   "execution_count": 4,
   "metadata": {},
   "outputs": [
    {
     "name": "stdout",
     "output_type": "stream",
     "text": [
      "400 h\n"
     ]
    }
   ],
   "source": [
    "u = 400 *ec.ureg.hours\n",
    "\n",
    "print(u)"
   ]
  },
  {
   "cell_type": "markdown",
   "metadata": {},
   "source": [
    "Convert units using Pint:"
   ]
  },
  {
   "cell_type": "code",
   "execution_count": 5,
   "metadata": {},
   "outputs": [
    {
     "data": {
      "text/html": [
       "1440000 s"
      ],
      "text/latex": [
       "$1440000\\ \\mathrm{s}$"
      ],
      "text/plain": [
       "<Quantity(1440000, 'second')>"
      ]
     },
     "execution_count": 5,
     "metadata": {},
     "output_type": "execute_result"
    }
   ],
   "source": [
    "u.to(ec.s)"
   ]
  },
  {
   "cell_type": "markdown",
   "metadata": {},
   "source": [
    "## Parsing"
   ]
  },
  {
   "cell_type": "markdown",
   "metadata": {},
   "source": [
    "### Cell Parsing"
   ]
  },
  {
   "cell_type": "markdown",
   "metadata": {},
   "source": [
    "A simple parsing function extracts calculations from a cell:"
   ]
  },
  {
   "cell_type": "code",
   "execution_count": 6,
   "metadata": {},
   "outputs": [
    {
     "name": "stdout",
     "output_type": "stream",
     "text": [
      "<ast.Module object at 0x000001B59A6354B0>\n",
      "<ast.Assign object at 0x000001B59A635480>\n",
      "<ast.Assign object at 0x000001B59A635360>\n",
      "<ast.Expr object at 0x000001B59A6351E0>\n",
      "<ast.Name object at 0x000001B59A635450>\n",
      "<ast.BinOp object at 0x000001B59A635420>\n",
      "<ast.Name object at 0x000001B59A635330>\n",
      "<ast.BinOp object at 0x000001B59A635300>\n",
      "<ast.Call object at 0x000001B59A635120>\n",
      "<ast.Store object at 0x000001B5E591A110>\n",
      "<ast.Constant object at 0x000001B59A6353F0>\n",
      "<ast.Mult object at 0x000001B5E591A3B0>\n",
      "<ast.Attribute object at 0x000001B59A6353C0>\n",
      "<ast.Store object at 0x000001B5E591A110>\n",
      "<ast.Name object at 0x000001B59A6352D0>\n",
      "<ast.Add object at 0x000001B5E591A2F0>\n",
      "<ast.BinOp object at 0x000001B59A6352A0>\n",
      "<ast.Attribute object at 0x000001B59A6350F0>\n",
      "<ast.Name object at 0x000001B59A635390>\n",
      "<ast.Load object at 0x000001B5E591A0B0>\n",
      "<ast.Load object at 0x000001B5E591A0B0>\n",
      "<ast.Constant object at 0x000001B59A635270>\n",
      "<ast.Mult object at 0x000001B5E591A3B0>\n",
      "<ast.Attribute object at 0x000001B59A635240>\n",
      "<ast.Name object at 0x000001B59A6350C0>\n",
      "<ast.Load object at 0x000001B5E591A0B0>\n",
      "<ast.Load object at 0x000001B5E591A0B0>\n",
      "<ast.Name object at 0x000001B59A635210>\n",
      "<ast.Load object at 0x000001B5E591A0B0>\n",
      "<ast.Load object at 0x000001B5E591A0B0>\n",
      "<ast.Load object at 0x000001B5E591A0B0>\n"
     ]
    },
    {
     "data": {
      "text/plain": [
       "[{'variable_name': 'v',\n",
       "  'expression': '30 * ec.kNm',\n",
       "  'result': <Quantity(30, 'kNm')>},\n",
       " {'variable_name': 'v_t',\n",
       "  'expression': 'v + 30 * ec.kNm',\n",
       "  'result': <Quantity(60, 'kNm')>}]"
      ]
     },
     "execution_count": 6,
     "metadata": {},
     "output_type": "execute_result"
    }
   ],
   "source": [
    "v = 30 *ec.kNm\n",
    "\n",
    "v_t = v + 30*ec.kNm\n",
    "\n",
    "ec.parse_cell()"
   ]
  },
  {
   "cell_type": "markdown",
   "metadata": {},
   "source": [
    "#### Drawbacks"
   ]
  },
  {
   "cell_type": "markdown",
   "metadata": {},
   "source": [
    "- The parsing function loses datatype information, returning rows as strings.\n",
    "- Currently only assignments work, no conditionals, or other python syntax"
   ]
  },
  {
   "cell_type": "code",
   "execution_count": 7,
   "metadata": {},
   "outputs": [
    {
     "name": "stdout",
     "output_type": "stream",
     "text": [
      "<ast.Module object at 0x000001B5EA9B7460>\n",
      "<ast.Assign object at 0x000001B59A635150>\n",
      "<ast.If object at 0x000001B59A634760>\n",
      "<ast.Expr object at 0x000001B59A635300>\n",
      "<ast.Name object at 0x000001B59A6347C0>\n",
      "<ast.Constant object at 0x000001B59A634E80>\n",
      "<ast.Compare object at 0x000001B59A635270>\n",
      "<ast.Assign object at 0x000001B59A635210>\n",
      "<ast.Call object at 0x000001B59A635360>\n",
      "<ast.Store object at 0x000001B5E591A110>\n",
      "<ast.Name object at 0x000001B59A635330>\n",
      "<ast.Gt object at 0x000001B5E591AB60>\n",
      "<ast.Constant object at 0x000001B59A6352D0>\n",
      "<ast.Name object at 0x000001B59A635240>\n",
      "<ast.Constant object at 0x000001B59A6352A0>\n",
      "<ast.Attribute object at 0x000001B59A635450>\n",
      "<ast.Load object at 0x000001B5E591A0B0>\n",
      "<ast.Store object at 0x000001B5E591A110>\n",
      "<ast.Name object at 0x000001B59A6353F0>\n",
      "<ast.Load object at 0x000001B5E591A0B0>\n",
      "<ast.Load object at 0x000001B5E591A0B0>\n"
     ]
    },
    {
     "data": {
      "text/plain": [
       "[{'variable_name': 'b', 'expression': '20', 'result': 20},\n",
       " {'variable_name': 'b', 'expression': '40', 'result': 40}]"
      ]
     },
     "execution_count": 7,
     "metadata": {},
     "output_type": "execute_result"
    }
   ],
   "source": [
    "b = 20 \n",
    "\n",
    "if b >20:\n",
    "    b = 40\n",
    "\n",
    "ec.parse_cell()"
   ]
  },
  {
   "cell_type": "markdown",
   "metadata": {},
   "source": [
    "## Markdown rendering\n",
    "\n",
    "Parsed cell content is processed using `sympy.sympify` and converted to `latex` via the `sympy` latexprinter. Eventually the `latex`code is inserted into a Markdown math environment. The `ec.render()`function is capable of the following:\n"
   ]
  },
  {
   "cell_type": "markdown",
   "metadata": {},
   "source": [
    "### Numeric representation\n",
    "\n",
    "The numeric representation shows the Variablename and its valu"
   ]
  },
  {
   "cell_type": "code",
   "execution_count": 8,
   "metadata": {},
   "outputs": [
    {
     "name": "stdout",
     "output_type": "stream",
     "text": [
      "<ast.Module object at 0x000001B59A635F60>\n",
      "<ast.Assign object at 0x000001B59A635F30>\n",
      "<ast.Assign object at 0x000001B59A635E10>\n",
      "<ast.Assign object at 0x000001B59A635C90>\n",
      "<ast.Assign object at 0x000001B59A635C00>\n",
      "<ast.Assign object at 0x000001B59A635B70>\n",
      "<ast.Assign object at 0x000001B59A635AE0>\n",
      "<ast.Assign object at 0x000001B59A635A50>\n",
      "<ast.Assign object at 0x000001B59A6359C0>\n",
      "<ast.Assign object at 0x000001B59A634A00>\n",
      "<ast.Expr object at 0x000001B59A6356F0>\n",
      "<ast.Name object at 0x000001B59A635F00>\n",
      "<ast.BinOp object at 0x000001B59A635ED0>\n",
      "<ast.Name object at 0x000001B59A635DE0>\n",
      "<ast.BinOp object at 0x000001B59A635DB0>\n",
      "<ast.Name object at 0x000001B59A635C60>\n",
      "<ast.Constant object at 0x000001B59A635C30>\n",
      "<ast.Name object at 0x000001B59A635BD0>\n",
      "<ast.Constant object at 0x000001B59A635BA0>\n",
      "<ast.Name object at 0x000001B59A635B40>\n",
      "<ast.Constant object at 0x000001B59A635B10>\n",
      "<ast.Name object at 0x000001B59A635AB0>\n",
      "<ast.Constant object at 0x000001B59A635A80>\n",
      "<ast.Name object at 0x000001B59A635A20>\n",
      "<ast.Constant object at 0x000001B59A6359F0>\n",
      "<ast.Name object at 0x000001B59A635990>\n",
      "<ast.Constant object at 0x000001B59A635390>\n",
      "<ast.Name object at 0x000001B59A634D30>\n",
      "<ast.Constant object at 0x000001B59A6356C0>\n",
      "<ast.Call object at 0x000001B59A635720>\n",
      "<ast.Store object at 0x000001B5E591A110>\n",
      "<ast.Constant object at 0x000001B59A635EA0>\n",
      "<ast.Mult object at 0x000001B5E591A3B0>\n",
      "<ast.Attribute object at 0x000001B59A635E70>\n",
      "<ast.Store object at 0x000001B5E591A110>\n",
      "<ast.Name object at 0x000001B59A635D80>\n",
      "<ast.Add object at 0x000001B5E591A2F0>\n",
      "<ast.BinOp object at 0x000001B59A635D50>\n",
      "<ast.Store object at 0x000001B5E591A110>\n",
      "<ast.Store object at 0x000001B5E591A110>\n",
      "<ast.Store object at 0x000001B5E591A110>\n",
      "<ast.Store object at 0x000001B5E591A110>\n",
      "<ast.Store object at 0x000001B5E591A110>\n",
      "<ast.Store object at 0x000001B5E591A110>\n",
      "<ast.Store object at 0x000001B5E591A110>\n",
      "<ast.Attribute object at 0x000001B59A6350C0>\n",
      "<ast.keyword object at 0x000001B59A6353C0>\n",
      "<ast.Name object at 0x000001B59A635E40>\n",
      "<ast.Load object at 0x000001B5E591A0B0>\n",
      "<ast.Load object at 0x000001B5E591A0B0>\n",
      "<ast.Constant object at 0x000001B59A635D20>\n",
      "<ast.Mult object at 0x000001B5E591A3B0>\n",
      "<ast.Attribute object at 0x000001B59A635CF0>\n",
      "<ast.Name object at 0x000001B59A6350F0>\n",
      "<ast.Load object at 0x000001B5E591A0B0>\n",
      "<ast.Constant object at 0x000001B59A635150>\n",
      "<ast.Load object at 0x000001B5E591A0B0>\n",
      "<ast.Name object at 0x000001B59A635CC0>\n",
      "<ast.Load object at 0x000001B5E591A0B0>\n",
      "<ast.Load object at 0x000001B5E591A0B0>\n",
      "<ast.Load object at 0x000001B5E591A0B0>\n"
     ]
    },
    {
     "data": {
      "text/markdown": [
       "$$\\begin{aligned}v& = 30 \\cdot \\mathrm{kNm} = 30 \\ \\mathrm{kNm} \\\\ v_{t}& = v + 30 \\cdot \\mathrm{kNm} = 60 \\ \\mathrm{kNm} \\\\ \\Theta_{pl A}& = 5 \\\\ m_{u A}& = 10 \\\\ m_{y A}& = 5 \\\\ l& = 1 \\\\ b_{w}& = 0.1 \\\\ EI_{II}& = 20 \\\\ q_{S1 A}& = 10\\end{aligned}$$"
      ],
      "text/plain": [
       "<IPython.core.display.Markdown object>"
      ]
     },
     "metadata": {},
     "output_type": "display_data"
    }
   ],
   "source": [
    "v = 30 *ec.kNm\n",
    "\n",
    "v_t = v + 30*ec.kNm\n",
    "\n",
    "\n",
    "Theta_pl_A= 5 \n",
    "m_u_A = 10 \n",
    "m_y_A=5\n",
    "l=1\n",
    "b_w=0.1\n",
    "EI_II=20\n",
    "q_S1_A= 10\n",
    "\n",
    "ec.render(symbolic=True)"
   ]
  },
  {
   "cell_type": "markdown",
   "metadata": {},
   "source": [
    "### Symbolic Representation"
   ]
  },
  {
   "cell_type": "markdown",
   "metadata": {},
   "source": [
    "The symbolic representation is also showing the calculation."
   ]
  },
  {
   "cell_type": "code",
   "execution_count": 9,
   "metadata": {},
   "outputs": [
    {
     "name": "stdout",
     "output_type": "stream",
     "text": [
      "<ast.Module object at 0x000001B5EA9B7580>\n",
      "<ast.Assign object at 0x000001B59A637A00>\n",
      "<ast.Assign object at 0x000001B59A637880>\n",
      "<ast.Assign object at 0x000001B59A637310>\n",
      "<ast.Expr object at 0x000001B59A635630>\n",
      "<ast.Name object at 0x000001B59A6379D0>\n",
      "<ast.BinOp object at 0x000001B59A6379A0>\n",
      "<ast.Name object at 0x000001B59A637850>\n",
      "<ast.BinOp object at 0x000001B59A637820>\n",
      "<ast.Name object at 0x000001B59A6372E0>\n",
      "<ast.BinOp object at 0x000001B59A6372B0>\n",
      "<ast.Call object at 0x000001B59A6355A0>\n",
      "<ast.Store object at 0x000001B5E591A110>\n",
      "<ast.Call object at 0x000001B59A637970>\n",
      "<ast.Div object at 0x000001B5E591A470>\n",
      "<ast.Constant object at 0x000001B59A6378B0>\n",
      "<ast.Store object at 0x000001B5E591A110>\n",
      "<ast.BinOp object at 0x000001B59A6377F0>\n",
      "<ast.Mult object at 0x000001B5E591A3B0>\n",
      "<ast.Attribute object at 0x000001B59A637370>\n",
      "<ast.Store object at 0x000001B5E591A110>\n",
      "<ast.Name object at 0x000001B59A637280>\n",
      "<ast.Add object at 0x000001B5E591A2F0>\n",
      "<ast.BinOp object at 0x000001B59A637250>\n",
      "<ast.Attribute object at 0x000001B59A634550>\n",
      "<ast.keyword object at 0x000001B59A634DC0>\n",
      "<ast.Attribute object at 0x000001B59A637940>\n",
      "<ast.Name object at 0x000001B59A6378E0>\n",
      "<ast.BinOp object at 0x000001B59A6377C0>\n",
      "<ast.Div object at 0x000001B5E591A470>\n",
      "<ast.BinOp object at 0x000001B59A637400>\n",
      "<ast.Name object at 0x000001B59A637340>\n",
      "<ast.Load object at 0x000001B5E591A0B0>\n",
      "<ast.Load object at 0x000001B5E591A0B0>\n",
      "<ast.Name object at 0x000001B59A637220>\n",
      "<ast.Mult object at 0x000001B5E591A3B0>\n",
      "<ast.Attribute object at 0x000001B59A635600>\n",
      "<ast.Name object at 0x000001B59A635570>\n",
      "<ast.Load object at 0x000001B5E591A0B0>\n",
      "<ast.Constant object at 0x000001B59A6348E0>\n",
      "<ast.Name object at 0x000001B59A637910>\n",
      "<ast.Load object at 0x000001B5E591A0B0>\n",
      "<ast.Load object at 0x000001B5E591A0B0>\n",
      "<ast.BinOp object at 0x000001B59A637790>\n",
      "<ast.Mult object at 0x000001B5E591A3B0>\n",
      "<ast.Name object at 0x000001B59A637430>\n",
      "<ast.Name object at 0x000001B59A6373D0>\n",
      "<ast.Pow object at 0x000001B5E591A530>\n",
      "<ast.Constant object at 0x000001B59A6373A0>\n",
      "<ast.Load object at 0x000001B5E591A0B0>\n",
      "<ast.Load object at 0x000001B5E591A0B0>\n",
      "<ast.Name object at 0x000001B59A6355D0>\n",
      "<ast.Load object at 0x000001B5E591A0B0>\n",
      "<ast.Load object at 0x000001B5E591A0B0>\n",
      "<ast.Load object at 0x000001B5E591A0B0>\n",
      "<ast.BinOp object at 0x000001B59A637760>\n",
      "<ast.Mult object at 0x000001B5E591A3B0>\n",
      "<ast.Constant object at 0x000001B59A637460>\n",
      "<ast.Load object at 0x000001B5E591A0B0>\n",
      "<ast.Load object at 0x000001B5E591A0B0>\n",
      "<ast.Load object at 0x000001B5E591A0B0>\n",
      "<ast.Call object at 0x000001B59A637730>\n",
      "<ast.Add object at 0x000001B5E591A2F0>\n",
      "<ast.BinOp object at 0x000001B59A637670>\n",
      "<ast.Attribute object at 0x000001B59A637700>\n",
      "<ast.Name object at 0x000001B59A6376A0>\n",
      "<ast.BinOp object at 0x000001B59A637640>\n",
      "<ast.Div object at 0x000001B5E591A470>\n",
      "<ast.BinOp object at 0x000001B59A6374F0>\n",
      "<ast.Name object at 0x000001B59A6376D0>\n",
      "<ast.Load object at 0x000001B5E591A0B0>\n",
      "<ast.Load object at 0x000001B5E591A0B0>\n",
      "<ast.BinOp object at 0x000001B59A637610>\n",
      "<ast.Mult object at 0x000001B5E591A3B0>\n",
      "<ast.Name object at 0x000001B59A637520>\n",
      "<ast.Constant object at 0x000001B59A6374C0>\n",
      "<ast.Mult object at 0x000001B5E591A3B0>\n",
      "<ast.Name object at 0x000001B59A637490>\n",
      "<ast.Load object at 0x000001B5E591A0B0>\n",
      "<ast.BinOp object at 0x000001B59A6375E0>\n",
      "<ast.Mult object at 0x000001B5E591A3B0>\n",
      "<ast.Name object at 0x000001B59A637550>\n",
      "<ast.Load object at 0x000001B5E591A0B0>\n",
      "<ast.Load object at 0x000001B5E591A0B0>\n",
      "<ast.Name object at 0x000001B59A6375B0>\n",
      "<ast.Sub object at 0x000001B5E591A350>\n",
      "<ast.Name object at 0x000001B59A637580>\n",
      "<ast.Load object at 0x000001B5E591A0B0>\n",
      "<ast.Load object at 0x000001B5E591A0B0>\n",
      "<ast.Load object at 0x000001B5E591A0B0>\n"
     ]
    },
    {
     "data": {
      "text/markdown": [
       "$$\\begin{aligned}\\alpha_{u A}& = \\frac{\\sqrt{\\Theta_{pl A}}}{2} = 1.12 \\\\ \\Delta& = \\left(\\sin{\\left(\\alpha_{u A} \\right)} + \\frac{\\left(m_{u A} - m_{y A}\\right) \\cdot l \\cdot b_{w}}{3 \\cdot EI_{II}}\\right) \\cdot 24 \\cdot EI_{II} \\cdot \\frac{1}{l^{3}} \\cdot \\mathrm{m} = 435.64 \\ \\mathrm{m} \\\\ q_{u A}& = \\Delta + q_{S1 A} \\cdot \\mathrm{m} = 445.64 \\ \\mathrm{m}\\end{aligned}$$"
      ],
      "text/plain": [
       "<IPython.core.display.Markdown object>"
      ]
     },
     "metadata": {},
     "output_type": "display_data"
    }
   ],
   "source": [
    "alpha_u_A = np.sqrt(Theta_pl_A) / 2\n",
    "Delta = ((np.sin(alpha_u_A) + (m_u_A - m_y_A) * l * b_w / (3 * EI_II)) * 24 * EI_II / l**3)*ec.m\n",
    "q_u_A = Delta + q_S1_A*ec.m\n",
    "ec.render(raw=False)"
   ]
  },
  {
   "cell_type": "markdown",
   "metadata": {},
   "source": [
    "#### Only symbolic\n",
    "\n",
    "As a sidefunctionality, only the symbolic part can be shown."
   ]
  },
  {
   "cell_type": "code",
   "execution_count": 10,
   "metadata": {},
   "outputs": [
    {
     "name": "stdout",
     "output_type": "stream",
     "text": [
      "<ast.Module object at 0x000001B59A637A00>\n",
      "<ast.Expr object at 0x000001B59A6352A0>\n",
      "expr\n",
      "<ast.Expr object at 0x000001B59A636B90>\n",
      "expr\n",
      "<ast.Assign object at 0x000001B59A635270>\n",
      "<ast.Expr object at 0x000001B59A636E90>\n",
      "<ast.Name object at 0x000001B59A6378B0>\n",
      "<ast.Name object at 0x000001B59A6366E0>\n",
      "<ast.Name object at 0x000001B59A636E30>\n",
      "<ast.BinOp object at 0x000001B59A636E60>\n",
      "<ast.Call object at 0x000001B59A636DA0>\n",
      "<ast.Load object at 0x000001B5E591A0B0>\n",
      "<ast.Load object at 0x000001B5E591A0B0>\n",
      "<ast.Store object at 0x000001B5E591A110>\n",
      "<ast.Constant object at 0x000001B59A636DD0>\n",
      "<ast.Mult object at 0x000001B5E591A3B0>\n",
      "<ast.Name object at 0x000001B59A636E00>\n",
      "<ast.Attribute object at 0x000001B59A636EC0>\n",
      "<ast.keyword object at 0x000001B59A637130>\n",
      "<ast.keyword object at 0x000001B59A637100>\n",
      "<ast.Load object at 0x000001B5E591A0B0>\n",
      "<ast.Name object at 0x000001B59A637010>\n",
      "<ast.Load object at 0x000001B5E591A0B0>\n",
      "<ast.Constant object at 0x000001B59A6370D0>\n",
      "<ast.Constant object at 0x000001B59A635E40>\n",
      "<ast.Load object at 0x000001B5E591A0B0>\n"
     ]
    },
    {
     "data": {
      "text/markdown": [
       "$$\\begin{aligned}\\Delta& = \\left(\\sin{\\left(\\alpha_{u A} \\right)} + \\frac{\\left(m_{u A} - m_{y A}\\right) \\cdot l \\cdot b_{w}}{3 \\cdot EI_{II}}\\right) \\cdot 24 \\cdot EI_{II} \\cdot \\frac{1}{l^{3}} \\cdot \\mathrm{m} \\\\ l& = 1 \\\\ x& = 2 \\cdot \\Delta\\end{aligned}$$"
      ],
      "text/plain": [
       "<IPython.core.display.Markdown object>"
      ]
     },
     "metadata": {},
     "output_type": "display_data"
    }
   ],
   "source": [
    "Delta\n",
    "l\n",
    "x = 2*Delta\n",
    "ec.render(symbolic=True, numeric=False)"
   ]
  },
  {
   "cell_type": "markdown",
   "metadata": {},
   "source": [
    "### Recalling variables\n",
    "\n",
    "The defined variables in the notebook are stored in a container. They can be recalled at anytime and ec.rendered again."
   ]
  },
  {
   "cell_type": "code",
   "execution_count": 11,
   "metadata": {},
   "outputs": [
    {
     "name": "stdout",
     "output_type": "stream",
     "text": [
      "<ast.Module object at 0x000001B59A634940>\n",
      "<ast.Expr object at 0x000001B59A6348E0>\n",
      "expr\n",
      "<ast.Expr object at 0x000001B59A635090>\n",
      "expr\n",
      "<ast.Expr object at 0x000001B59A636230>\n",
      "<ast.Expr object at 0x000001B59A636A40>\n",
      "<ast.Name object at 0x000001B59A6355A0>\n",
      "<ast.Name object at 0x000001B59A637880>\n",
      "<ast.Call object at 0x000001B59A6364A0>\n",
      "<ast.Call object at 0x000001B59A636A70>\n",
      "<ast.Load object at 0x000001B5E591A0B0>\n",
      "<ast.Load object at 0x000001B5E591A0B0>\n",
      "<ast.Attribute object at 0x000001B59A6372E0>\n",
      "<ast.Attribute object at 0x000001B59A636860>\n",
      "<ast.Name object at 0x000001B59A635630>\n",
      "<ast.Load object at 0x000001B5E591A0B0>\n",
      "<ast.Name object at 0x000001B59A636620>\n",
      "<ast.Load object at 0x000001B5E591A0B0>\n",
      "<ast.Load object at 0x000001B5E591A0B0>\n",
      "<ast.Load object at 0x000001B5E591A0B0>\n"
     ]
    },
    {
     "data": {
      "text/markdown": [
       "$$\\begin{aligned}v& = 30 \\cdot \\mathrm{kNm} = 30 \\ \\mathrm{kNm} \\\\ \\Delta& = \\left(\\sin{\\left(\\alpha_{u A} \\right)} + \\frac{\\left(m_{u A} - m_{y A}\\right) \\cdot l \\cdot b_{w}}{3 \\cdot EI_{II}}\\right) \\cdot 24 \\cdot EI_{II} \\cdot \\frac{1}{l^{3}} \\cdot \\mathrm{m} = 435.64 \\ \\mathrm{m}\\end{aligned}$$"
      ],
      "text/plain": [
       "<IPython.core.display.Markdown object>"
      ]
     },
     "metadata": {},
     "output_type": "display_data"
    },
    {
     "name": "stdout",
     "output_type": "stream",
     "text": [
      "<ast.Module object at 0x000001B5EA9B49D0>\n",
      "<ast.Expr object at 0x000001B5EA9B7520>\n",
      "expr\n",
      "<ast.Expr object at 0x000001B5EA9B7460>\n",
      "expr\n",
      "<ast.Expr object at 0x000001B59A637940>\n",
      "<ast.Expr object at 0x000001B59A6374F0>\n",
      "<ast.Name object at 0x000001B5EA9B7E50>\n",
      "<ast.Name object at 0x000001B5EA9B7AC0>\n",
      "<ast.Call object at 0x000001B59A637550>\n",
      "<ast.Call object at 0x000001B59A637E80>\n",
      "<ast.Load object at 0x000001B5E591A0B0>\n",
      "<ast.Load object at 0x000001B5E591A0B0>\n",
      "<ast.Attribute object at 0x000001B59A636E30>\n",
      "<ast.Attribute object at 0x000001B59A637D60>\n",
      "<ast.Name object at 0x000001B59A636DA0>\n",
      "<ast.Load object at 0x000001B5E591A0B0>\n",
      "<ast.Name object at 0x000001B59A637850>\n",
      "<ast.Load object at 0x000001B5E591A0B0>\n",
      "<ast.Load object at 0x000001B5E591A0B0>\n",
      "<ast.Load object at 0x000001B5E591A0B0>\n"
     ]
    },
    {
     "data": {
      "text/plain": [
       "[{'variable_name': 'v',\n",
       "  'expression': '30 * ec.kNm',\n",
       "  'result': <Quantity(30, 'kNm')>},\n",
       " {'variable_name': 'Delta',\n",
       "  'expression': '(np.sin(alpha_u_A) + (m_u_A - m_y_A) * l * b_w / (3 * EI_II)) * 24 * EI_II / l ** 3 * ec.m',\n",
       "  'result': <Quantity(435.63623, 'meter')>}]"
      ]
     },
     "execution_count": 11,
     "metadata": {},
     "output_type": "execute_result"
    }
   ],
   "source": [
    "v\n",
    "Delta\n",
    "ec.render()\n",
    "ec.parse_cell()"
   ]
  },
  {
   "cell_type": "code",
   "execution_count": 12,
   "metadata": {},
   "outputs": [],
   "source": [
    "from params import *"
   ]
  },
  {
   "cell_type": "code",
   "execution_count": 13,
   "metadata": {},
   "outputs": [
    {
     "name": "stdout",
     "output_type": "stream",
     "text": [
      "<ast.Module object at 0x000001B5EA9B67D0>\n",
      "<ast.Expr object at 0x000001B59A6371C0>\n",
      "expr\n",
      "<ast.Expr object at 0x000001B59A6353C0>\n",
      "<ast.Name object at 0x000001B59A635C90>\n",
      "<ast.Call object at 0x000001B59A636EF0>\n",
      "<ast.Load object at 0x000001B5E591A0B0>\n",
      "<ast.Name object at 0x000001B59A636CE0>\n",
      "<ast.Load object at 0x000001B5E591A0B0>\n"
     ]
    },
    {
     "data": {
      "text/plain": [
       "[]"
      ]
     },
     "execution_count": 13,
     "metadata": {},
     "output_type": "execute_result"
    }
   ],
   "source": [
    "a\n",
    "parse_cell()"
   ]
  },
  {
   "cell_type": "markdown",
   "metadata": {},
   "source": [
    "### Multiple Rows\n",
    "\n",
    "The markdown math environment is capable of displaying the equations in multiple rows:"
   ]
  },
  {
   "cell_type": "code",
   "execution_count": 14,
   "metadata": {},
   "outputs": [
    {
     "name": "stdout",
     "output_type": "stream",
     "text": [
      "<ast.Module object at 0x000001B59A6367A0>\n",
      "<ast.Expr object at 0x000001B59A634970>\n",
      "expr\n",
      "<ast.Expr object at 0x000001B59A637E20>\n",
      "expr\n",
      "<ast.Expr object at 0x000001B59A637C40>\n",
      "expr\n",
      "<ast.Expr object at 0x000001B59A634790>\n",
      "expr\n",
      "<ast.Expr object at 0x000001B59A635750>\n",
      "expr\n",
      "<ast.Expr object at 0x000001B59A636770>\n",
      "<ast.Expr object at 0x000001B59A6367D0>\n",
      "<ast.Name object at 0x000001B59A634F10>\n",
      "<ast.Name object at 0x000001B59A6365C0>\n",
      "<ast.Name object at 0x000001B59A635DE0>\n",
      "<ast.Name object at 0x000001B59A6360E0>\n",
      "<ast.Name object at 0x000001B59A634EE0>\n",
      "<ast.Call object at 0x000001B59A6362C0>\n",
      "<ast.Call object at 0x000001B59A635900>\n",
      "<ast.Load object at 0x000001B5E591A0B0>\n",
      "<ast.Load object at 0x000001B5E591A0B0>\n",
      "<ast.Load object at 0x000001B5E591A0B0>\n",
      "<ast.Load object at 0x000001B5E591A0B0>\n",
      "<ast.Load object at 0x000001B5E591A0B0>\n",
      "<ast.Attribute object at 0x000001B59A637D90>\n",
      "<ast.keyword object at 0x000001B59A635660>\n",
      "<ast.keyword object at 0x000001B59A636BF0>\n",
      "<ast.Attribute object at 0x000001B59A634F40>\n",
      "<ast.keyword object at 0x000001B59A636680>\n",
      "<ast.keyword object at 0x000001B59A634D90>\n",
      "<ast.Name object at 0x000001B59A635F60>\n",
      "<ast.Load object at 0x000001B5E591A0B0>\n",
      "<ast.Constant object at 0x000001B59A6352D0>\n",
      "<ast.Constant object at 0x000001B59A634B50>\n",
      "<ast.Name object at 0x000001B59A636800>\n",
      "<ast.Load object at 0x000001B5E591A0B0>\n",
      "<ast.Constant object at 0x000001B59A634FD0>\n",
      "<ast.Constant object at 0x000001B59A637D00>\n",
      "<ast.Load object at 0x000001B5E591A0B0>\n",
      "<ast.Load object at 0x000001B5E591A0B0>\n"
     ]
    },
    {
     "data": {
      "text/markdown": [
       "$$\\begin{aligned}v& = 30 \\ \\mathrm{kNm} \\quad & \\Delta& = 435.64 \\ \\mathrm{m} \\quad & \\Theta_{pl A}& = 5 \\\\ EI_{II}& = 20 \\quad & v_{t}& = 60 \\ \\mathrm{kNm} \\quad & \\end{aligned}$$"
      ],
      "text/plain": [
       "<IPython.core.display.Markdown object>"
      ]
     },
     "metadata": {},
     "output_type": "display_data"
    },
    {
     "name": "stdout",
     "output_type": "stream",
     "text": [
      "<ast.Module object at 0x000001B59A634820>\n",
      "<ast.Expr object at 0x000001B59A636440>\n",
      "expr\n",
      "<ast.Expr object at 0x000001B59A637BB0>\n",
      "expr\n",
      "<ast.Expr object at 0x000001B59A637880>\n",
      "expr\n",
      "<ast.Expr object at 0x000001B59A635ED0>\n",
      "expr\n",
      "<ast.Expr object at 0x000001B59A635C90>\n",
      "expr\n",
      "<ast.Expr object at 0x000001B59A635B40>\n",
      "<ast.Expr object at 0x000001B59A634B50>\n",
      "<ast.Name object at 0x000001B59A637250>\n",
      "<ast.Name object at 0x000001B59A6352A0>\n",
      "<ast.Name object at 0x000001B59A6353C0>\n",
      "<ast.Name object at 0x000001B59A635540>\n",
      "<ast.Name object at 0x000001B59A6373D0>\n",
      "<ast.Call object at 0x000001B59A636DD0>\n",
      "<ast.Call object at 0x000001B59A635F60>\n",
      "<ast.Load object at 0x000001B5E591A0B0>\n",
      "<ast.Load object at 0x000001B5E591A0B0>\n",
      "<ast.Load object at 0x000001B5E591A0B0>\n",
      "<ast.Load object at 0x000001B5E591A0B0>\n",
      "<ast.Load object at 0x000001B5E591A0B0>\n",
      "<ast.Attribute object at 0x000001B59A635000>\n",
      "<ast.keyword object at 0x000001B59A6361D0>\n",
      "<ast.keyword object at 0x000001B59A6372B0>\n",
      "<ast.Attribute object at 0x000001B59A6348B0>\n",
      "<ast.keyword object at 0x000001B59A636200>\n",
      "<ast.keyword object at 0x000001B59A636590>\n",
      "<ast.Name object at 0x000001B59A636E00>\n",
      "<ast.Load object at 0x000001B5E591A0B0>\n",
      "<ast.Constant object at 0x000001B59A637FA0>\n",
      "<ast.Constant object at 0x000001B59A637F70>\n",
      "<ast.Name object at 0x000001B59A634E20>\n",
      "<ast.Load object at 0x000001B5E591A0B0>\n",
      "<ast.Constant object at 0x000001B59A636980>\n",
      "<ast.Constant object at 0x000001B59A6363B0>\n",
      "<ast.Load object at 0x000001B5E591A0B0>\n",
      "<ast.Load object at 0x000001B5E591A0B0>\n"
     ]
    },
    {
     "data": {
      "text/markdown": [
       "$$\\begin{aligned}v& = 30 \\ \\mathrm{kNm} \\quad & \\Delta& = 435.64 \\ \\mathrm{m} \\quad & \\Theta_{pl A}& = 5 \\quad & EI_{II}& = 20 \\quad & v_{t}& = 60 \\ \\mathrm{kNm}\\end{aligned}$$"
      ],
      "text/plain": [
       "<IPython.core.display.Markdown object>"
      ]
     },
     "metadata": {},
     "output_type": "display_data"
    }
   ],
   "source": [
    "v\n",
    "Delta\n",
    "Theta_pl_A\n",
    "EI_II\n",
    "v_t\n",
    "ec.render(rows=3, symbolic=False)\n",
    "\n",
    "ec.render(rows=5, symbolic=False)"
   ]
  },
  {
   "cell_type": "markdown",
   "metadata": {},
   "source": [
    "### Numpy functions\n",
    "\n",
    "The package is based around the numpy functions and they should be used. Currently the `numpy`is stripped and the numpyfunction gets translated to `sympy` via `sympy.sympify`."
   ]
  },
  {
   "cell_type": "code",
   "execution_count": 15,
   "metadata": {},
   "outputs": [
    {
     "name": "stdout",
     "output_type": "stream",
     "text": [
      "<ast.Module object at 0x000001B59A636E30>\n",
      "<ast.Assign object at 0x000001B59A635D20>\n",
      "<ast.Assign object at 0x000001B59A634F10>\n",
      "<ast.Expr object at 0x000001B59A637E20>\n",
      "<ast.Name object at 0x000001B59A6370D0>\n",
      "<ast.BinOp object at 0x000001B59A637100>\n",
      "<ast.Name object at 0x000001B59A635BD0>\n",
      "<ast.Call object at 0x000001B59A6366B0>\n",
      "<ast.Call object at 0x000001B59A634790>\n",
      "<ast.Store object at 0x000001B5E591A110>\n",
      "<ast.Constant object at 0x000001B59A637F10>\n",
      "<ast.Mult object at 0x000001B5E591A3B0>\n",
      "<ast.Attribute object at 0x000001B59A635570>\n",
      "<ast.Store object at 0x000001B5E591A110>\n",
      "<ast.Attribute object at 0x000001B59A6378E0>\n",
      "<ast.BinOp object at 0x000001B59A636830>\n",
      "<ast.Attribute object at 0x000001B59A6367A0>\n",
      "<ast.keyword object at 0x000001B59A6379A0>\n",
      "<ast.Name object at 0x000001B59A6369B0>\n",
      "<ast.Load object at 0x000001B5E591A0B0>\n",
      "<ast.Name object at 0x000001B59A636290>\n",
      "<ast.Load object at 0x000001B5E591A0B0>\n",
      "<ast.Call object at 0x000001B59A6374F0>\n",
      "<ast.Add object at 0x000001B5E591A2F0>\n",
      "<ast.Constant object at 0x000001B59A635E70>\n",
      "<ast.Name object at 0x000001B59A634970>\n",
      "<ast.Load object at 0x000001B5E591A0B0>\n",
      "<ast.Constant object at 0x000001B59A635F00>\n",
      "<ast.Load object at 0x000001B5E591A0B0>\n",
      "<ast.Load object at 0x000001B5E591A0B0>\n",
      "<ast.Attribute object at 0x000001B59A635630>\n",
      "<ast.Attribute object at 0x000001B59A636A10>\n",
      "<ast.Load object at 0x000001B5E591A0B0>\n",
      "<ast.Name object at 0x000001B59A635600>\n",
      "<ast.Load object at 0x000001B5E591A0B0>\n",
      "<ast.Name object at 0x000001B59A635060>\n",
      "<ast.Load object at 0x000001B5E591A0B0>\n",
      "<ast.Load object at 0x000001B5E591A0B0>\n",
      "<ast.Load object at 0x000001B5E591A0B0>\n"
     ]
    },
    {
     "data": {
      "text/markdown": [
       "$$\\begin{aligned}\\alpha& = 45 \\cdot \\mathrm{°} = 45 \\ \\mathrm{°} \\\\ test& = \\operatorname{atan}{\\left(\\alpha + 25 \\right)} = 1.53 \\ \\mathrm{rad}\\end{aligned}$$"
      ],
      "text/plain": [
       "<IPython.core.display.Markdown object>"
      ]
     },
     "metadata": {},
     "output_type": "display_data"
    }
   ],
   "source": [
    "alpha = 45*ec.deg\n",
    "test = np.atan(alpha.to(ec.los) + 25)\n",
    "\n",
    "ec.render(raw=False)"
   ]
  },
  {
   "cell_type": "markdown",
   "metadata": {},
   "source": [
    "An array is translated to a matrix."
   ]
  },
  {
   "cell_type": "code",
   "execution_count": 16,
   "metadata": {},
   "outputs": [
    {
     "name": "stdout",
     "output_type": "stream",
     "text": [
      "<ast.Module object at 0x000001B5EA9B7E50>\n",
      "<ast.Assign object at 0x000001B5EA9B7490>\n",
      "<ast.Assign object at 0x000001B59A637B80>\n",
      "<ast.Assign object at 0x000001B59A635BA0>\n",
      "<ast.Assign object at 0x000001B59A635030>\n",
      "<ast.Expr object at 0x000001B59A637430>\n",
      "<ast.Name object at 0x000001B5EA9B7670>\n",
      "<ast.Call object at 0x000001B5EA9B6350>\n",
      "<ast.Name object at 0x000001B59A637790>\n",
      "<ast.BinOp object at 0x000001B59A637EB0>\n",
      "<ast.Name object at 0x000001B59A636D10>\n",
      "<ast.BinOp object at 0x000001B59A634C10>\n",
      "<ast.Name object at 0x000001B59A636E30>\n",
      "<ast.BinOp object at 0x000001B59A637100>\n",
      "<ast.Call object at 0x000001B59A634EE0>\n",
      "<ast.Store object at 0x000001B5E591A110>\n",
      "<ast.Attribute object at 0x000001B59A635DE0>\n",
      "<ast.BinOp object at 0x000001B59A636950>\n",
      "<ast.Store object at 0x000001B5E591A110>\n",
      "<ast.Name object at 0x000001B59A634C70>\n",
      "<ast.Mult object at 0x000001B5E591A3B0>\n",
      "<ast.Constant object at 0x000001B59A637220>\n",
      "<ast.Store object at 0x000001B5E591A110>\n",
      "<ast.Name object at 0x000001B59A637250>\n",
      "<ast.Mult object at 0x000001B5E591A3B0>\n",
      "<ast.BinOp object at 0x000001B59A635270>\n",
      "<ast.Store object at 0x000001B5E591A110>\n",
      "<ast.Name object at 0x000001B59A6369B0>\n",
      "<ast.Mult object at 0x000001B5E591A3B0>\n",
      "<ast.Name object at 0x000001B59A637610>\n",
      "<ast.Attribute object at 0x000001B59A635660>\n",
      "<ast.keyword object at 0x000001B59A636F80>\n",
      "<ast.Name object at 0x000001B59A634FD0>\n",
      "<ast.Load object at 0x000001B5E591A0B0>\n",
      "<ast.Call object at 0x000001B59A6376A0>\n",
      "<ast.Mult object at 0x000001B5E591A3B0>\n",
      "<ast.Attribute object at 0x000001B59A635B70>\n",
      "<ast.Load object at 0x000001B5E591A0B0>\n",
      "<ast.Load object at 0x000001B5E591A0B0>\n",
      "<ast.Call object at 0x000001B59A636E60>\n",
      "<ast.Pow object at 0x000001B5E591A530>\n",
      "<ast.Call object at 0x000001B59A6348E0>\n",
      "<ast.Load object at 0x000001B5E591A0B0>\n",
      "<ast.Load object at 0x000001B5E591A0B0>\n",
      "<ast.Name object at 0x000001B59A634DF0>\n",
      "<ast.Load object at 0x000001B5E591A0B0>\n",
      "<ast.Constant object at 0x000001B59A634550>\n",
      "<ast.Load object at 0x000001B5E591A0B0>\n",
      "<ast.Attribute object at 0x000001B59A637520>\n",
      "<ast.List object at 0x000001B59A636200>\n",
      "<ast.Name object at 0x000001B59A635F00>\n",
      "<ast.Load object at 0x000001B5E591A0B0>\n",
      "<ast.Attribute object at 0x000001B59A6379D0>\n",
      "<ast.Name object at 0x000001B59A636CE0>\n",
      "<ast.Attribute object at 0x000001B59A635D20>\n",
      "<ast.Constant object at 0x000001B59A637E80>\n",
      "<ast.Load object at 0x000001B5E591A0B0>\n",
      "<ast.Name object at 0x000001B59A6361D0>\n",
      "<ast.Load object at 0x000001B5E591A0B0>\n",
      "<ast.UnaryOp object at 0x000001B59A634D90>\n",
      "<ast.Constant object at 0x000001B59A636920>\n",
      "<ast.Constant object at 0x000001B59A636440>\n",
      "<ast.Constant object at 0x000001B59A636890>\n",
      "<ast.Load object at 0x000001B5E591A0B0>\n",
      "<ast.Load object at 0x000001B5E591A0B0>\n",
      "<ast.Name object at 0x000001B59A636800>\n",
      "<ast.Load object at 0x000001B5E591A0B0>\n",
      "<ast.Load object at 0x000001B5E591A0B0>\n",
      "<ast.Name object at 0x000001B59A637E50>\n",
      "<ast.Load object at 0x000001B5E591A0B0>\n",
      "<ast.Load object at 0x000001B5E591A0B0>\n",
      "<ast.USub object at 0x000001B5E591A950>\n",
      "<ast.Constant object at 0x000001B59A6352D0>\n",
      "<ast.Load object at 0x000001B5E591A0B0>\n",
      "<ast.Load object at 0x000001B5E591A0B0>\n"
     ]
    },
    {
     "data": {
      "text/markdown": [
       "$$\\begin{aligned}F_{x}& = \\left|{\\left[\\begin{matrix}- 13 \\cdot \\mathrm{kN}\\\\30 \\cdot \\mathrm{kN}\\\\23 \\cdot \\mathrm{kN}\\\\12 \\cdot \\mathrm{kN}\\end{matrix}\\right]}\\right| = \\left[\\begin{matrix}13\\\\30\\\\23\\\\12\\end{matrix}\\right] \\ \\mathrm{kN} \\\\ F_{v}& = F_{x} \\cdot 2 = \\left[\\begin{matrix}26\\\\60\\\\46\\\\24\\end{matrix}\\right] \\ \\mathrm{kN} \\\\ F_{z}& = F_{x} \\cdot \\operatorname{atan}^{\\sqrt{1}}{\\left(\\alpha \\right)} = \\left[\\begin{matrix}8.66\\\\19.97\\\\15.31\\\\7.99\\end{matrix}\\right] \\ \\mathrm{kN} \\cdot \\mathrm{rad} \\\\ F_{y}& = F_{x} \\cdot F_{v} = \\left[\\begin{matrix}338\\\\1800\\\\1058\\\\288\\end{matrix}\\right] \\ \\mathrm{kN}^{2}\\end{aligned}$$"
      ],
      "text/plain": [
       "<IPython.core.display.Markdown object>"
      ]
     },
     "metadata": {},
     "output_type": "display_data"
    }
   ],
   "source": [
    "F_x = np.abs(np.array([-13,30,23,12])*ec.kN)\n",
    "F_v = F_x * 2\n",
    "F_z = F_x*np.atan(alpha)**np.sqrt(1)\n",
    "F_y = F_x * F_v\n",
    "ec.render(symbolic=True)"
   ]
  },
  {
   "cell_type": "markdown",
   "metadata": {},
   "source": [
    "### Raw Markdown\n",
    "\n",
    "As the markdowncode is stored anyways, it can be output aswell. Could be used to copy into a tabl"
   ]
  },
  {
   "cell_type": "code",
   "execution_count": 17,
   "metadata": {},
   "outputs": [
    {
     "name": "stdout",
     "output_type": "stream",
     "text": [
      "<ast.Module object at 0x000001B5EA9B7D60>\n",
      "<ast.Expr object at 0x000001B59A637850>\n",
      "expr\n",
      "<ast.Expr object at 0x000001B59A635EA0>\n",
      "expr\n",
      "<ast.Expr object at 0x000001B59A636B60>\n",
      "expr\n",
      "<ast.Expr object at 0x000001B59A6348B0>\n",
      "<ast.Name object at 0x000001B59A637FD0>\n",
      "<ast.Name object at 0x000001B59A636E90>\n",
      "<ast.Name object at 0x000001B59A636410>\n",
      "<ast.Call object at 0x000001B59A634E20>\n",
      "<ast.Load object at 0x000001B5E591A0B0>\n",
      "<ast.Load object at 0x000001B5E591A0B0>\n",
      "<ast.Load object at 0x000001B5E591A0B0>\n",
      "<ast.Attribute object at 0x000001B59A6367D0>\n",
      "<ast.keyword object at 0x000001B59A636BF0>\n",
      "<ast.keyword object at 0x000001B59A636E00>\n",
      "<ast.Name object at 0x000001B59A637190>\n",
      "<ast.Load object at 0x000001B5E591A0B0>\n",
      "<ast.Constant object at 0x000001B59A6365F0>\n",
      "<ast.Constant object at 0x000001B59A6373D0>\n",
      "<ast.Load object at 0x000001B5E591A0B0>\n",
      "$$\\begin{aligned}v& = 30 \\cdot \\mathrm{kNm} = 30 \\ \\mathrm{kNm} \\\\ \\Delta& = \\left(\\sin{\\left(\\alpha_{u A} \\right)} + \\frac{\\left(m_{u A} - m_{y A}\\right) \\cdot l \\cdot b_{w}}{3 \\cdot EI_{II}}\\right) \\cdot 24 \\cdot EI_{II} \\cdot \\frac{1}{l^{3}} \\cdot \\mathrm{m} = 435.64 \\ \\mathrm{m} \\\\ \\Theta_{pl A}& = 5\\end{aligned}$$\n"
     ]
    }
   ],
   "source": [
    "v\n",
    "Delta\n",
    "Theta_pl_A\n",
    "ec.render(symbolic=True, raw=True)"
   ]
  },
  {
   "cell_type": "markdown",
   "metadata": {},
   "source": [
    "$$\\begin{aligned}v& = 30 \\cdot \\mathrm{kNm} = 30 \\ \\mathrm{kNm} \\\\ \\Delta& = \\left(\\sin{\\left(\\alpha_{u A} \\right)} + \\frac{\\left(m_{u A} - m_{y A}\\right) \\cdot l \\cdot b_{w}}{3 \\cdot EI_{II}}\\right) \\cdot 24 \\cdot EI_{II} \\cdot \\frac{1}{l^{3}} \\cdot \\mathrm{m} = 435.64 \\ \\mathrm{m} \\\\ \\Theta_{pl A}& = 5\\end{aligned}$$\n"
   ]
  },
  {
   "cell_type": "markdown",
   "metadata": {},
   "source": [
    "### Special Characters\n",
    "\n",
    "Some special characters are inserted in the string before the sympy conversion takes plac In the `output` module, a replacement dictionary is created to replace the special characters. This can be expanded. It has to correspond to the `latex` syntax."
   ]
  },
  {
   "cell_type": "code",
   "execution_count": 18,
   "metadata": {},
   "outputs": [
    {
     "name": "stdout",
     "output_type": "stream",
     "text": [
      "<ast.Module object at 0x000001B59A6367D0>\n",
      "<ast.Assign object at 0x000001B59A634B50>\n",
      "<ast.Assign object at 0x000001B59A6355D0>\n",
      "<ast.Expr object at 0x000001B59A637370>\n",
      "<ast.Name object at 0x000001B59A6365F0>\n",
      "<ast.Constant object at 0x000001B59A636BF0>\n",
      "<ast.Name object at 0x000001B59A637880>\n",
      "<ast.Constant object at 0x000001B59A635750>\n",
      "<ast.Call object at 0x000001B59A6348B0>\n",
      "<ast.Store object at 0x000001B5E591A110>\n",
      "<ast.Store object at 0x000001B5E591A110>\n",
      "<ast.Attribute object at 0x000001B59A634940>\n",
      "<ast.keyword object at 0x000001B59A6373D0>\n",
      "<ast.Name object at 0x000001B59A637460>\n",
      "<ast.Load object at 0x000001B5E591A0B0>\n",
      "<ast.Constant object at 0x000001B59A6371C0>\n",
      "<ast.Load object at 0x000001B5E591A0B0>\n"
     ]
    },
    {
     "data": {
      "text/markdown": [
       "$$\\begin{aligned}\\oslash_{\\infty}& = 20 \\\\ \\infty^{\\infty \\oslash}_{\\infty}& = 10\\end{aligned}$$"
      ],
      "text/plain": [
       "<IPython.core.display.Markdown object>"
      ]
     },
     "metadata": {},
     "output_type": "display_data"
    }
   ],
   "source": [
    "diam_infty = 20\n",
    "\n",
    "infty__infty_infty__diam = 10\n",
    "ec.render(raw=False)"
   ]
  },
  {
   "cell_type": "markdown",
   "metadata": {},
   "source": [
    "### Pint unit handling"
   ]
  },
  {
   "cell_type": "code",
   "execution_count": 19,
   "metadata": {},
   "outputs": [
    {
     "name": "stdout",
     "output_type": "stream",
     "text": [
      "<ast.Module object at 0x000001B5EA9B7E20>\n",
      "<ast.Assign object at 0x000001B5EA9B67D0>\n",
      "<ast.Assign object at 0x000001B59A636DA0>\n",
      "<ast.Assign object at 0x000001B59A690BE0>\n",
      "<ast.Expr object at 0x000001B59A690F10>\n",
      "<ast.Name object at 0x000001B5EA9B7670>\n",
      "<ast.BinOp object at 0x000001B5EA9B7DF0>\n",
      "<ast.Name object at 0x000001B59A690970>\n",
      "<ast.BinOp object at 0x000001B59A691150>\n",
      "<ast.Name object at 0x000001B59A690C10>\n",
      "<ast.BinOp object at 0x000001B59A690C40>\n",
      "<ast.Call object at 0x000001B59A690F40>\n",
      "<ast.Store object at 0x000001B5E591A110>\n",
      "<ast.Call object at 0x000001B5EA9B76A0>\n",
      "<ast.Add object at 0x000001B5E591A2F0>\n",
      "<ast.BinOp object at 0x000001B59A636290>\n",
      "<ast.Store object at 0x000001B5E591A110>\n",
      "<ast.BinOp object at 0x000001B59A691120>\n",
      "<ast.Add object at 0x000001B5E591A2F0>\n",
      "<ast.Name object at 0x000001B59A6911E0>\n",
      "<ast.Store object at 0x000001B5E591A110>\n",
      "<ast.BinOp object at 0x000001B59A690C70>\n",
      "<ast.Add object at 0x000001B5E591A2F0>\n",
      "<ast.Name object at 0x000001B59A690A60>\n",
      "<ast.Attribute object at 0x000001B59A690DF0>\n",
      "<ast.Attribute object at 0x000001B5EA9B7B50>\n",
      "<ast.Attribute object at 0x000001B5EA9B7970>\n",
      "<ast.BinOp object at 0x000001B59A635DE0>\n",
      "<ast.Mult object at 0x000001B5E591A3B0>\n",
      "<ast.Attribute object at 0x000001B59A635ED0>\n",
      "<ast.Attribute object at 0x000001B59A690AF0>\n",
      "<ast.Mult object at 0x000001B5E591A3B0>\n",
      "<ast.Attribute object at 0x000001B59A6911B0>\n",
      "<ast.Load object at 0x000001B5E591A0B0>\n",
      "<ast.Attribute object at 0x000001B59A690CA0>\n",
      "<ast.Mult object at 0x000001B5E591A3B0>\n",
      "<ast.Attribute object at 0x000001B59A690AC0>\n",
      "<ast.Load object at 0x000001B5E591A0B0>\n",
      "<ast.Name object at 0x000001B59A690DC0>\n",
      "<ast.Load object at 0x000001B5E591A0B0>\n",
      "<ast.Name object at 0x000001B5EA9B7D00>\n",
      "<ast.Load object at 0x000001B5E591A0B0>\n",
      "<ast.Name object at 0x000001B59A635000>\n",
      "<ast.Load object at 0x000001B5E591A0B0>\n",
      "<ast.Constant object at 0x000001B59A637A00>\n",
      "<ast.Mult object at 0x000001B5E591A3B0>\n",
      "<ast.Constant object at 0x000001B59A637CD0>\n",
      "<ast.Name object at 0x000001B59A634CD0>\n",
      "<ast.Load object at 0x000001B5E591A0B0>\n",
      "<ast.Name object at 0x000001B59A690B20>\n",
      "<ast.Load object at 0x000001B5E591A0B0>\n",
      "<ast.Name object at 0x000001B59A691180>\n",
      "<ast.Load object at 0x000001B5E591A0B0>\n",
      "<ast.Name object at 0x000001B59A691210>\n",
      "<ast.Load object at 0x000001B5E591A0B0>\n",
      "<ast.Name object at 0x000001B59A690A90>\n",
      "<ast.Load object at 0x000001B5E591A0B0>\n",
      "<ast.Load object at 0x000001B5E591A0B0>\n",
      "<ast.Load object at 0x000001B5E591A0B0>\n",
      "<ast.Load object at 0x000001B5E591A0B0>\n",
      "<ast.Load object at 0x000001B5E591A0B0>\n",
      "<ast.Load object at 0x000001B5E591A0B0>\n",
      "<ast.Load object at 0x000001B5E591A0B0>\n",
      "<ast.Load object at 0x000001B5E591A0B0>\n",
      "<ast.Load object at 0x000001B5E591A0B0>\n"
     ]
    },
    {
     "data": {
      "text/markdown": [
       "$$\\begin{aligned}v& = v_{t} + 30 \\cdot 2 \\cdot \\mathrm{Nm} = 60060.0 \\ \\mathrm{Nm} \\\\ q& = v_{t} \\cdot \\mathrm{Nm} + v = 60120.0 \\ \\mathrm{Nm} \\\\ q^{shortcut}& = v_{t} \\cdot \\mathrm{Nm} + v = 60120.0 \\ \\mathrm{Nm}\\end{aligned}$$"
      ],
      "text/plain": [
       "<IPython.core.display.Markdown object>"
      ]
     },
     "metadata": {},
     "output_type": "display_data"
    }
   ],
   "source": [
    "v = v_t.to(ec.Nm) + 30*2*ec.Nm\n",
    "q = v_t.magnitude*ec.Nm + v\n",
    "q__shortcut = v_t.m * ec.Nm + v\n",
    "ec.render()"
   ]
  },
  {
   "cell_type": "markdown",
   "metadata": {},
   "source": [
    "### Functions"
   ]
  },
  {
   "cell_type": "markdown",
   "metadata": {},
   "source": [
    "It can be useful to display the calculations that have been done in a function environment. For that there is a second parsing function. The Funcion parses the local variables."
   ]
  },
  {
   "cell_type": "code",
   "execution_count": 20,
   "metadata": {},
   "outputs": [],
   "source": [
    "from IPython.display import Markdown"
   ]
  },
  {
   "cell_type": "code",
   "execution_count": 21,
   "metadata": {},
   "outputs": [],
   "source": [
    "def test(alpha__top, b):\n",
    "    x = alpha__top + b \n",
    "    y = alpha__top-b*2\n",
    "    z = x + y\n",
    "    display(Markdown('**Only Symbolic representation**'))\n",
    "    ec.render_func(numeric=False ,rows=2)\n",
    "    display(Markdown('**Whole representation**'))\n",
    "    ec.render_func(numeric=True ,rows=3)\n",
    "    return z\n",
    "\n"
   ]
  },
  {
   "cell_type": "code",
   "execution_count": 22,
   "metadata": {},
   "outputs": [
    {
     "data": {
      "text/markdown": [
       "**Only Symbolic representation**"
      ],
      "text/plain": [
       "<IPython.core.display.Markdown object>"
      ]
     },
     "metadata": {},
     "output_type": "display_data"
    },
    {
     "data": {
      "text/markdown": [
       "$$\\begin{aligned}\\alpha^{top}& = 3 \\quad & b& = 4 \\\\ x& = \\alpha^{top} + b \\quad & y& = \\alpha^{top} - b \\cdot 2 \\\\ z& = x + y \\quad & \\end{aligned}$$"
      ],
      "text/plain": [
       "<IPython.core.display.Markdown object>"
      ]
     },
     "metadata": {},
     "output_type": "display_data"
    },
    {
     "data": {
      "text/markdown": [
       "**Whole representation**"
      ],
      "text/plain": [
       "<IPython.core.display.Markdown object>"
      ]
     },
     "metadata": {},
     "output_type": "display_data"
    },
    {
     "data": {
      "text/markdown": [
       "$$\\begin{aligned}\\alpha^{top}& = 3 \\quad & b& = 4 \\quad & x& = \\alpha^{top} + b = 7 \\\\ y& = \\alpha^{top} - b \\cdot 2 = -5 \\quad & z& = x + y = 2 \\quad & \\end{aligned}$$"
      ],
      "text/plain": [
       "<IPython.core.display.Markdown object>"
      ]
     },
     "metadata": {},
     "output_type": "display_data"
    }
   ],
   "source": [
    "z = test(3,4)"
   ]
  },
  {
   "cell_type": "code",
   "execution_count": 23,
   "metadata": {},
   "outputs": [
    {
     "data": {
      "text/markdown": [
       "**Only Symbolic representation**"
      ],
      "text/plain": [
       "<IPython.core.display.Markdown object>"
      ]
     },
     "metadata": {},
     "output_type": "display_data"
    },
    {
     "data": {
      "text/markdown": [
       "$$\\begin{aligned}\\alpha^{top}& = 8 \\ \\mathrm{kNm} \\quad & b& = 3 \\ \\mathrm{kNm} \\\\ x& = \\alpha^{top} + b \\quad & y& = \\alpha^{top} - b \\cdot 2 \\\\ z& = x + y \\quad & \\end{aligned}$$"
      ],
      "text/plain": [
       "<IPython.core.display.Markdown object>"
      ]
     },
     "metadata": {},
     "output_type": "display_data"
    },
    {
     "data": {
      "text/markdown": [
       "**Whole representation**"
      ],
      "text/plain": [
       "<IPython.core.display.Markdown object>"
      ]
     },
     "metadata": {},
     "output_type": "display_data"
    },
    {
     "data": {
      "text/markdown": [
       "$$\\begin{aligned}\\alpha^{top}& = 8 \\ \\mathrm{kNm} \\quad & b& = 3 \\ \\mathrm{kNm} \\quad & x& = \\alpha^{top} + b = 11 \\ \\mathrm{kNm} \\\\ y& = \\alpha^{top} - b \\cdot 2 = 2 \\ \\mathrm{kNm} \\quad & z& = x + y = 13 \\ \\mathrm{kNm} \\quad & \\end{aligned}$$"
      ],
      "text/plain": [
       "<IPython.core.display.Markdown object>"
      ]
     },
     "metadata": {},
     "output_type": "display_data"
    }
   ],
   "source": [
    "z__2 = test(5*ec.kNm + 3*ec.kNm, 3*ec.kNm)"
   ]
  },
  {
   "cell_type": "markdown",
   "metadata": {},
   "source": [
    "#### Drawback\n",
    "\n",
    "The `ec.render` function parses the assignments inside the function. "
   ]
  },
  {
   "cell_type": "code",
   "execution_count": 24,
   "metadata": {},
   "outputs": [
    {
     "name": "stdout",
     "output_type": "stream",
     "text": [
      "<ast.Module object at 0x000001B59A692CE0>\n",
      "<ast.FunctionDef object at 0x000001B59A692CB0>\n",
      "<ast.Expr object at 0x000001B59A692890>\n",
      "<ast.arguments object at 0x000001B59A692C80>\n",
      "<ast.Assign object at 0x000001B59A692BF0>\n",
      "<ast.Assign object at 0x000001B59A692B00>\n",
      "<ast.Assign object at 0x000001B59A692A10>\n",
      "<ast.Return object at 0x000001B59A692920>\n",
      "<ast.Call object at 0x000001B59A692860>\n",
      "<ast.arg object at 0x000001B59A692C50>\n",
      "<ast.arg object at 0x000001B59A692C20>\n",
      "<ast.Name object at 0x000001B59A692BC0>\n",
      "<ast.BinOp object at 0x000001B59A692B90>\n",
      "<ast.Name object at 0x000001B59A692AD0>\n",
      "<ast.BinOp object at 0x000001B59A692AA0>\n",
      "<ast.Name object at 0x000001B59A6929E0>\n",
      "<ast.BinOp object at 0x000001B59A6929B0>\n",
      "<ast.Name object at 0x000001B59A6928F0>\n",
      "<ast.Attribute object at 0x000001B59A692830>\n",
      "<ast.Store object at 0x000001B5E591A110>\n",
      "<ast.Name object at 0x000001B59A692B60>\n",
      "<ast.Add object at 0x000001B5E591A2F0>\n",
      "<ast.Name object at 0x000001B59A692B30>\n",
      "<ast.Store object at 0x000001B5E591A110>\n",
      "<ast.Name object at 0x000001B59A692A70>\n",
      "<ast.Pow object at 0x000001B5E591A530>\n",
      "<ast.Name object at 0x000001B59A692A40>\n",
      "<ast.Store object at 0x000001B5E591A110>\n",
      "<ast.Name object at 0x000001B59A692980>\n",
      "<ast.Add object at 0x000001B5E591A2F0>\n",
      "<ast.Name object at 0x000001B59A692950>\n",
      "<ast.Load object at 0x000001B5E591A0B0>\n",
      "<ast.Name object at 0x000001B59A692800>\n",
      "<ast.Load object at 0x000001B5E591A0B0>\n",
      "<ast.Load object at 0x000001B5E591A0B0>\n",
      "<ast.Load object at 0x000001B5E591A0B0>\n",
      "<ast.Load object at 0x000001B5E591A0B0>\n",
      "<ast.Load object at 0x000001B5E591A0B0>\n",
      "<ast.Load object at 0x000001B5E591A0B0>\n",
      "<ast.Load object at 0x000001B5E591A0B0>\n",
      "<ast.Load object at 0x000001B5E591A0B0>\n"
     ]
    },
    {
     "ename": "TypeError",
     "evalue": "loop of ufunc does not support argument 0 of type float which has no callable rint method",
     "output_type": "error",
     "traceback": [
      "\u001b[1;31m---------------------------------------------------------------------------\u001b[0m",
      "\u001b[1;31mAttributeError\u001b[0m                            Traceback (most recent call last)",
      "\u001b[1;31mAttributeError\u001b[0m: 'float' object has no attribute 'rint'",
      "\nThe above exception was the direct cause of the following exception:\n",
      "\u001b[1;31mTypeError\u001b[0m                                 Traceback (most recent call last)",
      "File \u001b[1;32m~\\Projekte\\engicalc\\engicalc\\output.py:84\u001b[0m, in \u001b[0;36mbuild_equation\u001b[1;34m(assignment, precision, symbolic, numeric, evaluate)\u001b[0m\n\u001b[0;32m     83\u001b[0m expression \u001b[38;5;241m=\u001b[39m format_symbolic(assignment[\u001b[38;5;124m'\u001b[39m\u001b[38;5;124mexpression\u001b[39m\u001b[38;5;124m'\u001b[39m], evaluate\u001b[38;5;241m=\u001b[39mevaluate)\n\u001b[1;32m---> 84\u001b[0m result \u001b[38;5;241m=\u001b[39m \u001b[43mformat_value\u001b[49m\u001b[43m(\u001b[49m\u001b[43massignment\u001b[49m\u001b[43m[\u001b[49m\u001b[38;5;124;43m'\u001b[39;49m\u001b[38;5;124;43mresult\u001b[39;49m\u001b[38;5;124;43m'\u001b[39;49m\u001b[43m]\u001b[49m\u001b[43m,\u001b[49m\u001b[43m \u001b[49m\u001b[43mprecision\u001b[49m\u001b[38;5;241;43m=\u001b[39;49m\u001b[43mprecision\u001b[49m\u001b[43m)\u001b[49m\n\u001b[0;32m     85\u001b[0m \u001b[38;5;28;01mif\u001b[39;00m var \u001b[38;5;241m==\u001b[39m expression:\n",
      "File \u001b[1;32m~\\Projekte\\engicalc\\engicalc\\substitution.py:60\u001b[0m, in \u001b[0;36mformat_value\u001b[1;34m(value, precision)\u001b[0m\n\u001b[0;32m     59\u001b[0m \u001b[38;5;66;03m# Handle Pint quantities\u001b[39;00m\n\u001b[1;32m---> 60\u001b[0m magnitude \u001b[38;5;241m=\u001b[39m \u001b[43mnp\u001b[49m\u001b[38;5;241;43m.\u001b[39;49m\u001b[43mround\u001b[49m\u001b[43m(\u001b[49m\u001b[43mvalue\u001b[49m\u001b[38;5;241;43m.\u001b[39;49m\u001b[43mmagnitude\u001b[49m\u001b[43m,\u001b[49m\u001b[43m \u001b[49m\u001b[43mprecision\u001b[49m\u001b[43m)\u001b[49m\n\u001b[0;32m     61\u001b[0m \u001b[38;5;28;01mif\u001b[39;00m \u001b[38;5;28misinstance\u001b[39m(magnitude, np\u001b[38;5;241m.\u001b[39mndarray):\n\u001b[0;32m     62\u001b[0m     \u001b[38;5;66;03m# Handle numpy arrays of Pint quantities as matrices\u001b[39;00m\n",
      "File \u001b[1;32m~\\AppData\\Roaming\\Python\\Python310\\site-packages\\numpy\\_core\\fromnumeric.py:3710\u001b[0m, in \u001b[0;36mround\u001b[1;34m(a, decimals, out)\u001b[0m\n\u001b[0;32m   3620\u001b[0m \u001b[38;5;250m\u001b[39m\u001b[38;5;124;03m\"\"\"\u001b[39;00m\n\u001b[0;32m   3621\u001b[0m \u001b[38;5;124;03mEvenly round to the given number of decimals.\u001b[39;00m\n\u001b[0;32m   3622\u001b[0m \n\u001b[1;32m   (...)\u001b[0m\n\u001b[0;32m   3708\u001b[0m \n\u001b[0;32m   3709\u001b[0m \u001b[38;5;124;03m\"\"\"\u001b[39;00m\n\u001b[1;32m-> 3710\u001b[0m \u001b[38;5;28;01mreturn\u001b[39;00m \u001b[43m_wrapfunc\u001b[49m\u001b[43m(\u001b[49m\u001b[43ma\u001b[49m\u001b[43m,\u001b[49m\u001b[43m \u001b[49m\u001b[38;5;124;43m'\u001b[39;49m\u001b[38;5;124;43mround\u001b[39;49m\u001b[38;5;124;43m'\u001b[39;49m\u001b[43m,\u001b[49m\u001b[43m \u001b[49m\u001b[43mdecimals\u001b[49m\u001b[38;5;241;43m=\u001b[39;49m\u001b[43mdecimals\u001b[49m\u001b[43m,\u001b[49m\u001b[43m \u001b[49m\u001b[43mout\u001b[49m\u001b[38;5;241;43m=\u001b[39;49m\u001b[43mout\u001b[49m\u001b[43m)\u001b[49m\n",
      "File \u001b[1;32m~\\AppData\\Roaming\\Python\\Python310\\site-packages\\numpy\\_core\\fromnumeric.py:54\u001b[0m, in \u001b[0;36m_wrapfunc\u001b[1;34m(obj, method, *args, **kwds)\u001b[0m\n\u001b[0;32m     53\u001b[0m \u001b[38;5;28;01mif\u001b[39;00m bound \u001b[38;5;129;01mis\u001b[39;00m \u001b[38;5;28;01mNone\u001b[39;00m:\n\u001b[1;32m---> 54\u001b[0m     \u001b[38;5;28;01mreturn\u001b[39;00m _wrapit(obj, method, \u001b[38;5;241m*\u001b[39margs, \u001b[38;5;241m*\u001b[39m\u001b[38;5;241m*\u001b[39mkwds)\n\u001b[0;32m     56\u001b[0m \u001b[38;5;28;01mtry\u001b[39;00m:\n",
      "File \u001b[1;32m~\\AppData\\Roaming\\Python\\Python310\\site-packages\\numpy\\_core\\fromnumeric.py:46\u001b[0m, in \u001b[0;36m_wrapit\u001b[1;34m(obj, method, *args, **kwds)\u001b[0m\n\u001b[0;32m     45\u001b[0m arr, \u001b[38;5;241m=\u001b[39m conv\u001b[38;5;241m.\u001b[39mas_arrays(subok\u001b[38;5;241m=\u001b[39m\u001b[38;5;28;01mFalse\u001b[39;00m)\n\u001b[1;32m---> 46\u001b[0m result \u001b[38;5;241m=\u001b[39m \u001b[38;5;28mgetattr\u001b[39m(arr, method)(\u001b[38;5;241m*\u001b[39margs, \u001b[38;5;241m*\u001b[39m\u001b[38;5;241m*\u001b[39mkwds)\n\u001b[0;32m     48\u001b[0m \u001b[38;5;28;01mreturn\u001b[39;00m conv\u001b[38;5;241m.\u001b[39mwrap(result, to_scalar\u001b[38;5;241m=\u001b[39m\u001b[38;5;28;01mFalse\u001b[39;00m)\n",
      "\u001b[1;31mTypeError\u001b[0m: loop of ufunc does not support argument 0 of type float which has no callable rint method",
      "\nDuring handling of the above exception, another exception occurred:\n",
      "\u001b[1;31mAttributeError\u001b[0m                            Traceback (most recent call last)",
      "\u001b[1;31mAttributeError\u001b[0m: 'float' object has no attribute 'rint'",
      "\nThe above exception was the direct cause of the following exception:\n",
      "\u001b[1;31mTypeError\u001b[0m                                 Traceback (most recent call last)",
      "Cell \u001b[1;32mIn[24], line 7\u001b[0m\n\u001b[0;32m      4\u001b[0m     z \u001b[38;5;241m=\u001b[39m x \u001b[38;5;241m+\u001b[39m y\n\u001b[0;32m      5\u001b[0m     \u001b[38;5;28;01mreturn\u001b[39;00m z\n\u001b[1;32m----> 7\u001b[0m \u001b[43mec\u001b[49m\u001b[38;5;241;43m.\u001b[39;49m\u001b[43mrender\u001b[49m\u001b[43m(\u001b[49m\u001b[43m)\u001b[49m\n",
      "File \u001b[1;32m~\\Projekte\\engicalc\\engicalc\\output.py:14\u001b[0m, in \u001b[0;36mrender\u001b[1;34m(precision, symbolic, evaluate, numeric, rows, style, raw)\u001b[0m\n\u001b[0;32m     11\u001b[0m \u001b[38;5;250m\u001b[39m\u001b[38;5;124;03m\"\"\"Parses variables from the current cell and renders Markdown output.\"\"\"\u001b[39;00m\n\u001b[0;32m     13\u001b[0m parsed_lines \u001b[38;5;241m=\u001b[39m parse_cell()  \u001b[38;5;66;03m# Parse cell variables\u001b[39;00m\n\u001b[1;32m---> 14\u001b[0m raw_string \u001b[38;5;241m=\u001b[39m \u001b[43mbuild_markdown\u001b[49m\u001b[43m(\u001b[49m\u001b[43mparsed_lines\u001b[49m\u001b[43m,\u001b[49m\u001b[43m \u001b[49m\u001b[43mprecision\u001b[49m\u001b[43m,\u001b[49m\u001b[43m \u001b[49m\u001b[43msymbolic\u001b[49m\u001b[43m,\u001b[49m\u001b[43m \u001b[49m\u001b[43mevaluate\u001b[49m\u001b[43m,\u001b[49m\u001b[43m \u001b[49m\u001b[43mnumeric\u001b[49m\u001b[43m,\u001b[49m\u001b[43m \u001b[49m\u001b[43mrows\u001b[49m\u001b[43m,\u001b[49m\u001b[43m \u001b[49m\u001b[43mstyle\u001b[49m\u001b[43m)\u001b[49m\n\u001b[0;32m     15\u001b[0m \u001b[38;5;28;01mif\u001b[39;00m raw\u001b[38;5;241m==\u001b[39m \u001b[38;5;28;01mFalse\u001b[39;00m:\n\u001b[0;32m     16\u001b[0m     display(Markdown(raw_string))\n",
      "File \u001b[1;32m~\\Projekte\\engicalc\\engicalc\\output.py:48\u001b[0m, in \u001b[0;36mbuild_markdown\u001b[1;34m(parsed_lines, precision, symbolic, evaluate, numeric, rows, style)\u001b[0m\n\u001b[0;32m     45\u001b[0m \u001b[38;5;250m\u001b[39m\u001b[38;5;124;03m\"\"\"Constructs and displays the final Markdown output from parsed variables.\"\"\"\u001b[39;00m\n\u001b[0;32m     47\u001b[0m \u001b[38;5;66;03m# Build equations from parsed variables\u001b[39;00m\n\u001b[1;32m---> 48\u001b[0m equations \u001b[38;5;241m=\u001b[39m [build_equation(assignment\u001b[38;5;241m=\u001b[39meq, symbolic\u001b[38;5;241m=\u001b[39msymbolic, numeric\u001b[38;5;241m=\u001b[39mnumeric, precision\u001b[38;5;241m=\u001b[39mprecision, evaluate\u001b[38;5;241m=\u001b[39mevaluate) \u001b[38;5;28;01mfor\u001b[39;00m eq \u001b[38;5;129;01min\u001b[39;00m parsed_lines]\n\u001b[0;32m     50\u001b[0m \u001b[38;5;66;03m# Remove duplicates\u001b[39;00m\n\u001b[0;32m     51\u001b[0m equations \u001b[38;5;241m=\u001b[39m \u001b[38;5;28mlist\u001b[39m(\u001b[38;5;28mdict\u001b[39m\u001b[38;5;241m.\u001b[39mfromkeys(equations))\n",
      "File \u001b[1;32m~\\Projekte\\engicalc\\engicalc\\output.py:48\u001b[0m, in \u001b[0;36m<listcomp>\u001b[1;34m(.0)\u001b[0m\n\u001b[0;32m     45\u001b[0m \u001b[38;5;250m\u001b[39m\u001b[38;5;124;03m\"\"\"Constructs and displays the final Markdown output from parsed variables.\"\"\"\u001b[39;00m\n\u001b[0;32m     47\u001b[0m \u001b[38;5;66;03m# Build equations from parsed variables\u001b[39;00m\n\u001b[1;32m---> 48\u001b[0m equations \u001b[38;5;241m=\u001b[39m [\u001b[43mbuild_equation\u001b[49m\u001b[43m(\u001b[49m\u001b[43massignment\u001b[49m\u001b[38;5;241;43m=\u001b[39;49m\u001b[43meq\u001b[49m\u001b[43m,\u001b[49m\u001b[43m \u001b[49m\u001b[43msymbolic\u001b[49m\u001b[38;5;241;43m=\u001b[39;49m\u001b[43msymbolic\u001b[49m\u001b[43m,\u001b[49m\u001b[43m \u001b[49m\u001b[43mnumeric\u001b[49m\u001b[38;5;241;43m=\u001b[39;49m\u001b[43mnumeric\u001b[49m\u001b[43m,\u001b[49m\u001b[43m \u001b[49m\u001b[43mprecision\u001b[49m\u001b[38;5;241;43m=\u001b[39;49m\u001b[43mprecision\u001b[49m\u001b[43m,\u001b[49m\u001b[43m \u001b[49m\u001b[43mevaluate\u001b[49m\u001b[38;5;241;43m=\u001b[39;49m\u001b[43mevaluate\u001b[49m\u001b[43m)\u001b[49m \u001b[38;5;28;01mfor\u001b[39;00m eq \u001b[38;5;129;01min\u001b[39;00m parsed_lines]\n\u001b[0;32m     50\u001b[0m \u001b[38;5;66;03m# Remove duplicates\u001b[39;00m\n\u001b[0;32m     51\u001b[0m equations \u001b[38;5;241m=\u001b[39m \u001b[38;5;28mlist\u001b[39m(\u001b[38;5;28mdict\u001b[39m\u001b[38;5;241m.\u001b[39mfromkeys(equations))\n",
      "File \u001b[1;32m~\\Projekte\\engicalc\\engicalc\\output.py:114\u001b[0m, in \u001b[0;36mbuild_equation\u001b[1;34m(assignment, precision, symbolic, numeric, evaluate)\u001b[0m\n\u001b[0;32m    112\u001b[0m \u001b[38;5;28;01mexcept\u001b[39;00m:\n\u001b[0;32m    113\u001b[0m     var \u001b[38;5;241m=\u001b[39m format_symbolic(assignment[\u001b[38;5;124m'\u001b[39m\u001b[38;5;124mvariable_name\u001b[39m\u001b[38;5;124m'\u001b[39m], evaluate\u001b[38;5;241m=\u001b[39mevaluate)\n\u001b[1;32m--> 114\u001b[0m     result \u001b[38;5;241m=\u001b[39m \u001b[43mformat_value\u001b[49m\u001b[43m(\u001b[49m\u001b[43massignment\u001b[49m\u001b[43m[\u001b[49m\u001b[38;5;124;43m'\u001b[39;49m\u001b[38;5;124;43mresult\u001b[39;49m\u001b[38;5;124;43m'\u001b[39;49m\u001b[43m]\u001b[49m\u001b[43m,\u001b[49m\u001b[43m \u001b[49m\u001b[43mprecision\u001b[49m\u001b[38;5;241;43m=\u001b[39;49m\u001b[43mprecision\u001b[49m\u001b[43m)\u001b[49m\n\u001b[0;32m    115\u001b[0m     equation \u001b[38;5;241m=\u001b[39m \u001b[38;5;124mf\u001b[39m\u001b[38;5;124m'\u001b[39m\u001b[38;5;132;01m{\u001b[39;00mvar\u001b[38;5;132;01m}\u001b[39;00m\u001b[38;5;124m& = \u001b[39m\u001b[38;5;132;01m{\u001b[39;00mresult\u001b[38;5;132;01m}\u001b[39;00m\u001b[38;5;124m'\u001b[39m\n\u001b[0;32m    116\u001b[0m \u001b[38;5;28;01mreturn\u001b[39;00m equation\n",
      "File \u001b[1;32m~\\Projekte\\engicalc\\engicalc\\substitution.py:60\u001b[0m, in \u001b[0;36mformat_value\u001b[1;34m(value, precision)\u001b[0m\n\u001b[0;32m     57\u001b[0m units \u001b[38;5;241m=\u001b[39m units\u001b[38;5;241m.\u001b[39mreplace(\u001b[38;5;124m'\u001b[39m\u001b[38;5;124mdeg\u001b[39m\u001b[38;5;124m'\u001b[39m,\u001b[38;5;124m'\u001b[39m\u001b[38;5;124m°\u001b[39m\u001b[38;5;124m'\u001b[39m)\n\u001b[0;32m     59\u001b[0m \u001b[38;5;66;03m# Handle Pint quantities\u001b[39;00m\n\u001b[1;32m---> 60\u001b[0m magnitude \u001b[38;5;241m=\u001b[39m \u001b[43mnp\u001b[49m\u001b[38;5;241;43m.\u001b[39;49m\u001b[43mround\u001b[49m\u001b[43m(\u001b[49m\u001b[43mvalue\u001b[49m\u001b[38;5;241;43m.\u001b[39;49m\u001b[43mmagnitude\u001b[49m\u001b[43m,\u001b[49m\u001b[43m \u001b[49m\u001b[43mprecision\u001b[49m\u001b[43m)\u001b[49m\n\u001b[0;32m     61\u001b[0m \u001b[38;5;28;01mif\u001b[39;00m \u001b[38;5;28misinstance\u001b[39m(magnitude, np\u001b[38;5;241m.\u001b[39mndarray):\n\u001b[0;32m     62\u001b[0m     \u001b[38;5;66;03m# Handle numpy arrays of Pint quantities as matrices\u001b[39;00m\n\u001b[0;32m     63\u001b[0m     \u001b[38;5;28;01mreturn\u001b[39;00m \u001b[38;5;124mf\u001b[39m\u001b[38;5;124m\"\u001b[39m\u001b[38;5;132;01m{\u001b[39;00mlatex(Matrix(magnitude\u001b[38;5;241m.\u001b[39mtolist()))\u001b[38;5;132;01m}\u001b[39;00m\u001b[38;5;124m \u001b[39m\u001b[38;5;130;01m\\\\\u001b[39;00m\u001b[38;5;124m \u001b[39m\u001b[38;5;132;01m{\u001b[39;00mlatex(Symbol(units))\u001b[38;5;132;01m}\u001b[39;00m\u001b[38;5;124m\"\u001b[39m\n",
      "File \u001b[1;32m~\\AppData\\Roaming\\Python\\Python310\\site-packages\\numpy\\_core\\fromnumeric.py:3710\u001b[0m, in \u001b[0;36mround\u001b[1;34m(a, decimals, out)\u001b[0m\n\u001b[0;32m   3618\u001b[0m \u001b[38;5;129m@array_function_dispatch\u001b[39m(_round_dispatcher)\n\u001b[0;32m   3619\u001b[0m \u001b[38;5;28;01mdef\u001b[39;00m\u001b[38;5;250m \u001b[39m\u001b[38;5;21mround\u001b[39m(a, decimals\u001b[38;5;241m=\u001b[39m\u001b[38;5;241m0\u001b[39m, out\u001b[38;5;241m=\u001b[39m\u001b[38;5;28;01mNone\u001b[39;00m):\n\u001b[0;32m   3620\u001b[0m \u001b[38;5;250m    \u001b[39m\u001b[38;5;124;03m\"\"\"\u001b[39;00m\n\u001b[0;32m   3621\u001b[0m \u001b[38;5;124;03m    Evenly round to the given number of decimals.\u001b[39;00m\n\u001b[0;32m   3622\u001b[0m \n\u001b[1;32m   (...)\u001b[0m\n\u001b[0;32m   3708\u001b[0m \n\u001b[0;32m   3709\u001b[0m \u001b[38;5;124;03m    \"\"\"\u001b[39;00m\n\u001b[1;32m-> 3710\u001b[0m     \u001b[38;5;28;01mreturn\u001b[39;00m \u001b[43m_wrapfunc\u001b[49m\u001b[43m(\u001b[49m\u001b[43ma\u001b[49m\u001b[43m,\u001b[49m\u001b[43m \u001b[49m\u001b[38;5;124;43m'\u001b[39;49m\u001b[38;5;124;43mround\u001b[39;49m\u001b[38;5;124;43m'\u001b[39;49m\u001b[43m,\u001b[49m\u001b[43m \u001b[49m\u001b[43mdecimals\u001b[49m\u001b[38;5;241;43m=\u001b[39;49m\u001b[43mdecimals\u001b[49m\u001b[43m,\u001b[49m\u001b[43m \u001b[49m\u001b[43mout\u001b[49m\u001b[38;5;241;43m=\u001b[39;49m\u001b[43mout\u001b[49m\u001b[43m)\u001b[49m\n",
      "File \u001b[1;32m~\\AppData\\Roaming\\Python\\Python310\\site-packages\\numpy\\_core\\fromnumeric.py:54\u001b[0m, in \u001b[0;36m_wrapfunc\u001b[1;34m(obj, method, *args, **kwds)\u001b[0m\n\u001b[0;32m     52\u001b[0m bound \u001b[38;5;241m=\u001b[39m \u001b[38;5;28mgetattr\u001b[39m(obj, method, \u001b[38;5;28;01mNone\u001b[39;00m)\n\u001b[0;32m     53\u001b[0m \u001b[38;5;28;01mif\u001b[39;00m bound \u001b[38;5;129;01mis\u001b[39;00m \u001b[38;5;28;01mNone\u001b[39;00m:\n\u001b[1;32m---> 54\u001b[0m     \u001b[38;5;28;01mreturn\u001b[39;00m _wrapit(obj, method, \u001b[38;5;241m*\u001b[39margs, \u001b[38;5;241m*\u001b[39m\u001b[38;5;241m*\u001b[39mkwds)\n\u001b[0;32m     56\u001b[0m \u001b[38;5;28;01mtry\u001b[39;00m:\n\u001b[0;32m     57\u001b[0m     \u001b[38;5;28;01mreturn\u001b[39;00m bound(\u001b[38;5;241m*\u001b[39margs, \u001b[38;5;241m*\u001b[39m\u001b[38;5;241m*\u001b[39mkwds)\n",
      "File \u001b[1;32m~\\AppData\\Roaming\\Python\\Python310\\site-packages\\numpy\\_core\\fromnumeric.py:46\u001b[0m, in \u001b[0;36m_wrapit\u001b[1;34m(obj, method, *args, **kwds)\u001b[0m\n\u001b[0;32m     43\u001b[0m \u001b[38;5;66;03m# As this already tried the method, subok is maybe quite reasonable here\u001b[39;00m\n\u001b[0;32m     44\u001b[0m \u001b[38;5;66;03m# but this follows what was done before. TODO: revisit this.\u001b[39;00m\n\u001b[0;32m     45\u001b[0m arr, \u001b[38;5;241m=\u001b[39m conv\u001b[38;5;241m.\u001b[39mas_arrays(subok\u001b[38;5;241m=\u001b[39m\u001b[38;5;28;01mFalse\u001b[39;00m)\n\u001b[1;32m---> 46\u001b[0m result \u001b[38;5;241m=\u001b[39m \u001b[38;5;28mgetattr\u001b[39m(arr, method)(\u001b[38;5;241m*\u001b[39margs, \u001b[38;5;241m*\u001b[39m\u001b[38;5;241m*\u001b[39mkwds)\n\u001b[0;32m     48\u001b[0m \u001b[38;5;28;01mreturn\u001b[39;00m conv\u001b[38;5;241m.\u001b[39mwrap(result, to_scalar\u001b[38;5;241m=\u001b[39m\u001b[38;5;28;01mFalse\u001b[39;00m)\n",
      "\u001b[1;31mTypeError\u001b[0m: loop of ufunc does not support argument 0 of type float which has no callable rint method"
     ]
    }
   ],
   "source": [
    "def tititi(a, b):\n",
    "    x = a + b \n",
    "    y = a**b\n",
    "    z = x + y\n",
    "    return z\n",
    "\n",
    "ec.render()"
   ]
  },
  {
   "cell_type": "code",
   "execution_count": null,
   "metadata": {},
   "outputs": [
    {
     "data": {
      "text/markdown": [
       "$$\\begin{aligned}z& = \\operatorname{tititi}{\\left(3,4 \\right)} = 88\\end{aligned}$$"
      ],
      "text/plain": [
       "<IPython.core.display.Markdown object>"
      ]
     },
     "metadata": {},
     "output_type": "display_data"
    }
   ],
   "source": [
    "z = tititi(3,4)\n",
    "\n",
    "ec.render()"
   ]
  },
  {
   "cell_type": "code",
   "execution_count": null,
   "metadata": {},
   "outputs": [
    {
     "data": {
      "text/markdown": [
       "$$\\begin{aligned}L^{y}_{K}& = 13.2 \\cdot \\mathrm{m} = 13.2 \\ \\mathrm{m}\\end{aligned}$$"
      ],
      "text/plain": [
       "<IPython.core.display.Markdown object>"
      ]
     },
     "metadata": {},
     "output_type": "display_data"
    }
   ],
   "source": [
    "L_K__y = 13.2 *ec.m\n",
    "\n",
    "ec.render()"
   ]
  },
  {
   "cell_type": "markdown",
   "metadata": {},
   "source": [
    "## Markdown tables"
   ]
  },
  {
   "cell_type": "markdown",
   "metadata": {},
   "source": [
    "It can be useful to summarize the calculations in a tabl For that the variables can easily be inserted into the tabl Using the function `render_list`."
   ]
  },
  {
   "cell_type": "code",
   "execution_count": null,
   "metadata": {},
   "outputs": [
    {
     "data": {
      "text/markdown": [
       "| Bezeichnung   | Berechnung                                                                    | Berechnung2                                                           |\n",
       "|:--------------|:------------------------------------------------------------------------------|:----------------------------------------------------------------------|\n",
       "| Höhe          | $$\\begin{aligned}z& = \\operatorname{tititi}{\\left(3,4 \\right)}\\end{aligned}$$ | $$\\begin{aligned}z& = 88\\end{aligned}$$                               |\n",
       "| Differenz     | $$\\begin{aligned}v& = v_{t} + 30 \\cdot 2 \\cdot \\mathrm{Nm}\\end{aligned}$$     | $$\\begin{aligned}v& = 60060.0 \\ \\mathrm{Nm}\\end{aligned}$$            |\n",
       "| Test          | $$\\begin{aligned}q^{shortcut}& = v_{t} \\cdot \\mathrm{Nm} + v\\end{aligned}$$   | $$\\begin{aligned}q^{shortcut}& = 60120.0 \\ \\mathrm{Nm}\\end{aligned}$$ |\n",
       "| Test3         | $$\\begin{aligned}v_{t}& = v + 30 \\cdot \\mathrm{kNm}\\end{aligned}$$            | $$\\begin{aligned}v_{t}& = 60 \\ \\mathrm{kNm}\\end{aligned}$$            |"
      ],
      "text/plain": [
       "<IPython.core.display.Markdown object>"
      ]
     },
     "metadata": {},
     "output_type": "display_data"
    }
   ],
   "source": [
    "import pandas as pd\n",
    "\n",
    "# Example lists\n",
    "col_1 = ec.render_list([z, v, q__shortcut, v_t], numeric=False, raw=True)\n",
    "col_2 = ec.render_list([z, v, q__shortcut, v_t], symbolic=False, raw=True)\n",
    "names = ['Höhe', 'Differenz', 'Test', 'Test3']\n",
    "\n",
    "# Define column names\n",
    "columnnames = ['Bezeichnung', 'Berechnung', 'Berechnung2']\n",
    "\n",
    "# Create DataFrame\n",
    "DF = pd.DataFrame(list(zip(names, col_1, col_2)), columns=columnnames)\n",
    "\n",
    "# Display the DataFrame\n",
    "display(Markdown(DF.to_markdown(tablefmt='pipe', index=False)))"
   ]
  }
 ],
 "metadata": {
  "kernelspec": {
   "display_name": "engineering",
   "language": "python",
   "name": "python3"
  },
  "language_info": {
   "codemirror_mode": {
    "name": "ipython",
    "version": 3
   },
   "file_extension": ".py",
   "mimetype": "text/x-python",
   "name": "python",
   "nbconvert_exporter": "python",
   "pygments_lexer": "ipython3",
   "version": "3.10.16"
  }
 },
 "nbformat": 4,
 "nbformat_minor": 4
}
