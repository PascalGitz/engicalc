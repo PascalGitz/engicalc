{
 "cells": [
  {
   "cell_type": "raw",
   "metadata": {
    "vscode": {
     "languageId": "raw"
    }
   },
   "source": [
    "---\n",
    "title: \"My Project\"\n",
    "format: gfm\n",
    "---"
   ]
  },
  {
   "cell_type": "markdown",
   "metadata": {},
   "source": [
    "# EngiCalc\n",
    "\n",
    "EngiCalc is a Python package designed to assist engineers in performing frequent calculations more efficiently. It aims to replace Excel in the daily workflow by providing easily readable calculation sheets in Jupyter Notebooks, which can then be output as Word files using Quarto. Python code is easier to check for errors, making it a more reliable choice for engineering calculations.\n",
    "\n",
    "## Installation\n",
    "\n",
    "Install from this Repo"
   ]
  },
  {
   "cell_type": "markdown",
   "metadata": {},
   "source": [
    "## Functionality"
   ]
  },
  {
   "cell_type": "code",
   "execution_count": 1,
   "metadata": {},
   "outputs": [],
   "source": [
    "from engicalc import *\n"
   ]
  },
  {
   "cell_type": "markdown",
   "metadata": {},
   "source": [
    "### Integration of Pint units"
   ]
  },
  {
   "cell_type": "markdown",
   "metadata": {},
   "source": [
    "#### Common Units"
   ]
  },
  {
   "cell_type": "markdown",
   "metadata": {},
   "source": [
    "common units are stored in variables. They are imported with the import of the package"
   ]
  },
  {
   "cell_type": "code",
   "execution_count": 2,
   "metadata": {},
   "outputs": [
    {
     "name": "stdout",
     "output_type": "stream",
     "text": [
      "kg\n",
      "t\n",
      "kNm\n",
      "Nm\n",
      "N\n",
      "kN\n",
      "MN\n",
      "m\n",
      "cm\n",
      "dm\n",
      "mm\n",
      "km\n",
      "rad\n",
      "deg\n",
      "%\n",
      "‰\n",
      "s\n",
      "°C\n",
      "K\n",
      "MPa\n",
      "\n"
     ]
    }
   ],
   "source": [
    "for unit in units.items():\n",
    "    print(unit[1])"
   ]
  },
  {
   "cell_type": "markdown",
   "metadata": {},
   "source": [
    "#### Handling Units "
   ]
  },
  {
   "cell_type": "markdown",
   "metadata": {},
   "source": [
    "Units can be added with operators: "
   ]
  },
  {
   "cell_type": "code",
   "execution_count": 3,
   "metadata": {},
   "outputs": [],
   "source": [
    "v = 30 *kNm\n",
    "\n",
    "v_t = v + 30*kNm\n"
   ]
  },
  {
   "cell_type": "markdown",
   "metadata": {},
   "source": [
    "The whole unit registry is imported and can always be accessed:\n"
   ]
  },
  {
   "cell_type": "code",
   "execution_count": 4,
   "metadata": {},
   "outputs": [
    {
     "name": "stdout",
     "output_type": "stream",
     "text": [
      "400 h\n"
     ]
    }
   ],
   "source": [
    "u = 400 *ureg.hours\n",
    "\n",
    "print(u)"
   ]
  },
  {
   "cell_type": "markdown",
   "metadata": {},
   "source": [
    "pint conversion"
   ]
  },
  {
   "cell_type": "code",
   "execution_count": 5,
   "metadata": {},
   "outputs": [
    {
     "data": {
      "text/html": [
       "1440000 s"
      ],
      "text/latex": [
       "$1440000\\ \\mathrm{s}$"
      ],
      "text/plain": [
       "<Quantity(1440000, 'second')>"
      ]
     },
     "execution_count": 5,
     "metadata": {},
     "output_type": "execute_result"
    }
   ],
   "source": [
    "u.to(s)"
   ]
  },
  {
   "cell_type": "markdown",
   "metadata": {},
   "source": [
    "### Cell Parsing"
   ]
  },
  {
   "cell_type": "markdown",
   "metadata": {},
   "source": [
    "A simple cell parsing function reads trough the cell and return every line with a '=' in it."
   ]
  },
  {
   "cell_type": "code",
   "execution_count": 6,
   "metadata": {},
   "outputs": [
    {
     "data": {
      "text/plain": [
       "[{'variable_name': 'v',\n",
       "  'expression': '30*kNm',\n",
       "  'result': <Quantity(30, 'kNm')>},\n",
       " {'variable_name': 'v_t',\n",
       "  'expression': 'v+30*kNm',\n",
       "  'result': <Quantity(60, 'kNm')>}]"
      ]
     },
     "execution_count": 6,
     "metadata": {},
     "output_type": "execute_result"
    }
   ],
   "source": [
    "v = 30 *kNm\n",
    "\n",
    "v_t = v + 30*kNm\n",
    "\n",
    "cell_parser(offset=0)"
   ]
  },
  {
   "cell_type": "markdown",
   "metadata": {},
   "source": [
    "##### Drawbacks"
   ]
  },
  {
   "cell_type": "markdown",
   "metadata": {},
   "source": [
    "The simple parsing function loses all information about the datatypes, since it returns the read rows as strings. On top of that, determining the expressions by '=' is convenient but is wrong with conditional statements and struggles with a lot of python syntax."
   ]
  },
  {
   "cell_type": "code",
   "execution_count": 7,
   "metadata": {},
   "outputs": [
    {
     "data": {
      "text/plain": [
       "[{'variable_name': 'b', 'expression': '20', 'result': 20},\n",
       " {'variable_name': 'b', 'expression': '40', 'result': 20}]"
      ]
     },
     "execution_count": 7,
     "metadata": {},
     "output_type": "execute_result"
    }
   ],
   "source": [
    "b = 20 \n",
    "\n",
    "if b >20:\n",
    "    b = 40\n",
    "\n",
    "cell_parser(offset=0)"
   ]
  },
  {
   "cell_type": "markdown",
   "metadata": {},
   "source": [
    "### Markdown rendering\n",
    "\n",
    "The parsed cell content gets inserted in the sympy.sympify function after some string manipulation. The sympified string is inserted in a markdown math environment. The put_out function is capable of the following:"
   ]
  },
  {
   "cell_type": "markdown",
   "metadata": {},
   "source": [
    "#### Numeric representation"
   ]
  },
  {
   "cell_type": "code",
   "execution_count": 8,
   "metadata": {},
   "outputs": [
    {
     "data": {
      "text/markdown": [
       "$$\\begin{aligned}v& = 30 \\ \\mathrm{kNm} \\\\ v_{t}& = 60 \\ \\mathrm{kNm} \\\\ \\Theta_{pl A}& = 5 \\\\ m_{u A}& = 10 \\\\ m_{y A}& = 5 \\\\ l& = 1 \\\\ b_{w}& = 0.1 \\\\ EI_{II}& = 20 \\\\ q_{S1 A}& = 10\\end{aligned}$$"
      ],
      "text/plain": [
       "<IPython.core.display.Markdown object>"
      ]
     },
     "metadata": {},
     "output_type": "display_data"
    }
   ],
   "source": [
    "v = 30 *kNm\n",
    "\n",
    "v_t = v + 30*kNm\n",
    "\n",
    "\n",
    "Theta_pl_A= 5 \n",
    "m_u_A = 10 \n",
    "m_y_A=5\n",
    "l=1\n",
    "b_w=0.1\n",
    "EI_II=20\n",
    "q_S1_A= 10\n",
    "\n",
    "put_out(symbolic=False)"
   ]
  },
  {
   "cell_type": "markdown",
   "metadata": {},
   "source": [
    "#### Symbolic Representation"
   ]
  },
  {
   "cell_type": "markdown",
   "metadata": {},
   "source": [
    "The symbolic representation uses Sympy.sympify, which afterwards creates a latex string out of the equation."
   ]
  },
  {
   "cell_type": "code",
   "execution_count": 9,
   "metadata": {},
   "outputs": [
    {
     "data": {
      "text/markdown": [
       "$$\\begin{aligned}\\alpha_{u A}& = \\frac{\\sqrt{\\Theta_{pl A}}}{2} = 1.12 \\\\ \\Delta& = \\left(\\sin{\\left(\\alpha_{u A} \\right)} + \\frac{\\left(m_{u A} - m_{y A}\\right) \\cdot l \\cdot b_{w}}{3 \\cdot EI_{II}}\\right) \\cdot 24 \\cdot EI_{II} \\cdot \\frac{1}{l^{3}} \\cdot \\mathrm{m} = 435.64 \\ \\mathrm{m} \\\\ q_{u A}& = \\Delta + q_{S1 A} \\cdot \\mathrm{m} = 445.64 \\ \\mathrm{m}\\end{aligned}$$"
      ],
      "text/plain": [
       "<IPython.core.display.Markdown object>"
      ]
     },
     "metadata": {},
     "output_type": "display_data"
    }
   ],
   "source": [
    "alpha_u_A = np.sqrt(Theta_pl_A) / 2\n",
    "Delta = ((np.sin(alpha_u_A) + (m_u_A - m_y_A) * l * b_w / (3 * EI_II)) * 24 * EI_II / l**3)*m\n",
    "q_u_A = Delta + q_S1_A*m\n",
    "put_out()"
   ]
  },
  {
   "cell_type": "markdown",
   "metadata": {},
   "source": [
    "##### Only symbolic"
   ]
  },
  {
   "cell_type": "code",
   "execution_count": 10,
   "metadata": {},
   "outputs": [
    {
     "data": {
      "text/markdown": [
       "$$\\begin{aligned}\\Delta& = \\left(\\sin{\\left(\\alpha_{u A} \\right)} + \\frac{\\left(m_{u A} - m_{y A}\\right) \\cdot l \\cdot b_{w}}{3 \\cdot EI_{II}}\\right) \\cdot 24 \\cdot EI_{II} \\cdot \\frac{1}{l^{3}} \\cdot \\mathrm{m}\\end{aligned}$$"
      ],
      "text/plain": [
       "<IPython.core.display.Markdown object>"
      ]
     },
     "metadata": {},
     "output_type": "display_data"
    }
   ],
   "source": [
    "Delta\n",
    "\n",
    "put_out(numeric=False)"
   ]
  },
  {
   "cell_type": "markdown",
   "metadata": {},
   "source": [
    "#### Recalling variables\n",
    "\n",
    "the defined variables in the notebook are stored in a container. They can be recalled."
   ]
  },
  {
   "cell_type": "code",
   "execution_count": 11,
   "metadata": {},
   "outputs": [
    {
     "data": {
      "text/markdown": [
       "$$\\begin{aligned}v& = 30 \\cdot \\mathrm{kNm} = 30 \\ \\mathrm{kNm} \\\\ \\Delta& = \\left(\\sin{\\left(\\alpha_{u A} \\right)} + \\frac{\\left(m_{u A} - m_{y A}\\right) \\cdot l \\cdot b_{w}}{3 \\cdot EI_{II}}\\right) \\cdot 24 \\cdot EI_{II} \\cdot \\frac{1}{l^{3}} \\cdot \\mathrm{m} = 435.64 \\ \\mathrm{m}\\end{aligned}$$"
      ],
      "text/plain": [
       "<IPython.core.display.Markdown object>"
      ]
     },
     "metadata": {},
     "output_type": "display_data"
    }
   ],
   "source": [
    "v\n",
    "Delta\n",
    "\n",
    "put_out()"
   ]
  },
  {
   "cell_type": "markdown",
   "metadata": {},
   "source": [
    "#### Multiple Rows"
   ]
  },
  {
   "cell_type": "code",
   "execution_count": 12,
   "metadata": {},
   "outputs": [
    {
     "data": {
      "text/markdown": [
       "$$\\begin{aligned}v& = 30 \\ \\mathrm{kNm} \\quad & \\Delta& = 435.64 \\ \\mathrm{m} \\quad & \\Theta_{pl A}& = 5\\end{aligned}$$"
      ],
      "text/plain": [
       "<IPython.core.display.Markdown object>"
      ]
     },
     "metadata": {},
     "output_type": "display_data"
    }
   ],
   "source": [
    "v\n",
    "Delta\n",
    "Theta_pl_A\n",
    "put_out(rows=3, symbolic=False)"
   ]
  },
  {
   "cell_type": "markdown",
   "metadata": {},
   "source": [
    "#### Numpy functions"
   ]
  },
  {
   "cell_type": "code",
   "execution_count": 13,
   "metadata": {},
   "outputs": [
    {
     "data": {
      "text/markdown": [
       "$$\\begin{aligned}\\alpha& = 45 \\cdot \\mathrm{°} = 45 \\ \\mathrm{°} \\\\ test& = \\operatorname{atan}{\\left(\\alpha + 25 \\cdot \\mathrm{°} \\right)} = 0.88 \\ \\mathrm{rad}\\end{aligned}$$"
      ],
      "text/plain": [
       "<IPython.core.display.Markdown object>"
      ]
     },
     "metadata": {},
     "output_type": "display_data"
    }
   ],
   "source": [
    "alpha = 45*deg\n",
    "test = np.atan(alpha + 25*deg)\n",
    "\n",
    "put_out()"
   ]
  },
  {
   "cell_type": "code",
   "execution_count": 14,
   "metadata": {},
   "outputs": [
    {
     "data": {
      "text/markdown": [
       "$$\\begin{aligned}F_{x}& = \\left|{\\left[\\begin{matrix}- 13 \\cdot \\mathrm{kN}\\\\30 \\cdot \\mathrm{kN}\\\\23 \\cdot \\mathrm{kN}\\\\12 \\cdot \\mathrm{kN}\\end{matrix}\\right]}\\right| = \\left[\\begin{matrix}13\\\\30\\\\23\\\\12\\end{matrix}\\right] \\ \\mathrm{kN} \\\\ F_{z}& = F_{x} \\cdot \\operatorname{atan}{\\left(\\alpha \\right)} = \\left[\\begin{matrix}8.66\\\\19.97\\\\15.31\\\\7.99\\end{matrix}\\right] \\ \\mathrm{kN} \\cdot \\mathrm{rad}\\end{aligned}$$"
      ],
      "text/plain": [
       "<IPython.core.display.Markdown object>"
      ]
     },
     "metadata": {},
     "output_type": "display_data"
    }
   ],
   "source": [
    "F_x = np.abs(np.array([-13,30,23,12])*kN)\n",
    "F_z = F_x*np.atan(alpha)\n",
    "\n",
    "put_out()"
   ]
  },
  {
   "cell_type": "markdown",
   "metadata": {},
   "source": [
    "#### Raw Markdown"
   ]
  },
  {
   "cell_type": "code",
   "execution_count": 15,
   "metadata": {},
   "outputs": [
    {
     "data": {
      "text/markdown": [
       "$$\\begin{aligned}v& = 30 \\cdot \\mathrm{kNm} = 30 \\ \\mathrm{kNm} \\\\ \\Delta& = \\left(\\sin{\\left(\\alpha_{u A} \\right)} + \\frac{\\left(m_{u A} - m_{y A}\\right) \\cdot l \\cdot b_{w}}{3 \\cdot EI_{II}}\\right) \\cdot 24 \\cdot EI_{II} \\cdot \\frac{1}{l^{3}} \\cdot \\mathrm{m} = 435.64 \\ \\mathrm{m} \\\\ \\Theta_{pl A}& = 5\\end{aligned}$$"
      ],
      "text/plain": [
       "<IPython.core.display.Markdown object>"
      ]
     },
     "metadata": {},
     "output_type": "display_data"
    },
    {
     "name": "stdout",
     "output_type": "stream",
     "text": [
      "$$\\begin{aligned}v& = 30 \\cdot \\mathrm{kNm} = 30 \\ \\mathrm{kNm} \\\\ \\Delta& = \\left(\\sin{\\left(\\alpha_{u A} \\right)} + \\frac{\\left(m_{u A} - m_{y A}\\right) \\cdot l \\cdot b_{w}}{3 \\cdot EI_{II}}\\right) \\cdot 24 \\cdot EI_{II} \\cdot \\frac{1}{l^{3}} \\cdot \\mathrm{m} = 435.64 \\ \\mathrm{m} \\\\ \\Theta_{pl A}& = 5\\end{aligned}$$\n"
     ]
    }
   ],
   "source": [
    "v\n",
    "Delta\n",
    "Theta_pl_A\n",
    "put_out(symbolic=True, raw=True)"
   ]
  },
  {
   "cell_type": "markdown",
   "metadata": {},
   "source": [
    "#### Special Characters\n",
    "\n",
    "Some special characters are inserted in the string before the sympy conversion takes place."
   ]
  },
  {
   "cell_type": "code",
   "execution_count": 16,
   "metadata": {},
   "outputs": [
    {
     "data": {
      "text/markdown": [
       "$$\\begin{aligned}\\oslash_{\\infty}& = 20 \\\\ \\infty^{\\infty \\oslash}_{\\infty}& = 10\\end{aligned}$$"
      ],
      "text/plain": [
       "<IPython.core.display.Markdown object>"
      ]
     },
     "metadata": {},
     "output_type": "display_data"
    }
   ],
   "source": [
    "diam_infty = 20\n",
    "\n",
    "infty__infty_infty__diam = 10\n",
    "put_out(raw=False)"
   ]
  }
 ],
 "metadata": {
  "kernelspec": {
   "display_name": "engineering",
   "language": "python",
   "name": "python3"
  },
  "language_info": {
   "codemirror_mode": {
    "name": "ipython",
    "version": 3
   },
   "file_extension": ".py",
   "mimetype": "text/x-python",
   "name": "python",
   "nbconvert_exporter": "python",
   "pygments_lexer": "ipython3",
   "version": "3.10.16"
  }
 },
 "nbformat": 4,
 "nbformat_minor": 4
}
